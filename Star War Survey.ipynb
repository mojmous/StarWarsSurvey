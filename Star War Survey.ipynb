{
 "cells": [
  {
   "cell_type": "markdown",
   "metadata": {},
   "source": [
    "# A detailed Analysis of a Star War Frenchise Survey "
   ]
  },
  {
   "cell_type": "markdown",
   "metadata": {},
   "source": [
    "# Table of Contents"
   ]
  },
  {
   "cell_type": "markdown",
   "metadata": {
    "jp-MarkdownHeadingCollapsed": true
   },
   "source": [
    "# Introduction"
   ]
  },
  {
   "cell_type": "markdown",
   "metadata": {},
   "source": [
    "While waiting for the release of the new Star Wars movie, “[The Force Awakens](https://www.google.com/search?q=the+force+awakens&oq=The+Force+Awakens&gs_lcrp=EgZjaHJvbWUqDwgAEAAYQxjjAhiABBiKBTIPCAAQABhDGOMCGIAEGIoFMgwIARAuGEMYgAQYigUyBwgCEAAYgAQyDAgDEC4YFBiHAhiABDIHCAQQABiABDIHCAUQABiABDIHCAYQABiABDIGCAcQRRg80gEHNjM3ajBqN6gCCLACAQ&sourceid=chrome&ie=UTF-8),” the team at [FiveThirtyEight](https://projects.fivethirtyeight.com/polls/) wanted to learn more about Star Wars fans. They were especially curious to see if most fans think “[The Empire Strikes Back](https://www.google.com/search?q=The+Empire+Strikes+Back&sca_esv=8cadc08fc5804b8d&sca_upv=1&sxsrf=ADLYWILKNQv2u8W72h5BJUJyJvodRhvlFw%3A1723216588972&ei=zDK2ZpGDO9WwwPAP99my2A8&ved=0ahUKEwiRmaCFmuiHAxVVGBAIHfesDPsQ4dUDCA8&uact=5&oq=The+Empire+Strikes+Back&gs_lp=Egxnd3Mtd2l6LXNlcnAiF1RoZSBFbXBpcmUgU3RyaWtlcyBCYWNrMgoQIxiABBgnGIoFMgoQLhiABBhDGIoFMgoQABiABBhDGIoFMgUQABiABDIFEAAYgAQyBRAAGIAEMgUQABiABDIFEAAYgAQyBRAAGIAEMgUQABiABDIZEC4YgAQYQxiKBRiXBRjcBBjeBBjgBNgBA0jSCVDVAVjVAXABeAGQAQCYAcgCoAHIAqoBAzMtMbgBA8gBAPgBAvgBAZgCAqAC3QLCAgoQABiwAxjWBBhHwgINEAAYgAQYsAMYQxiKBcICDhAAGLADGOQCGNYE2AEBwgITEC4YgAQYsAMYQxjIAxiKBdgBApgDAIgGAZAGE7oGBggBEAEYCboGBggCEAEYCLoGBggDEAEYFJIHBTEuMy0xoAfACQ&sclient=gws-wiz-serp)” is the best movie in the series. \n",
    "To get answers, FiveThirtyEight team used an online survey tool called [SurveyMonkey](https://www.surveymonkey.com/) to ask fans about their opinions. They received 835 responses from Star Wars fans. You can find and download this data from [their GitHub page](https://github.com/fivethirtyeight/data/tree/master/star-wars-survey)."
   ]
  },
  {
   "cell_type": "markdown",
   "metadata": {},
   "source": [
    "In this project, we will clean and analyze data related to Star Wars episodes 1 to 6 to explore various aspects of their popularity. Our analysis will address <b>the following questions</b>:\n",
    "\n",
    "- Overall Popularity:\n",
    "    - Which movie is the most popular overall?\n",
    "    - Who are the most and least popular characters in the series?\n",
    "    - Who are the most and least controversial characters in the series?\n",
    "- Gender-Based Popularity:\n",
    "    - Which movie is the favorite among men and women, respectively?\n",
    "    - Who are the most and least popular characters among male and female viewers?\n",
    "- Age Influence:\n",
    "    - Does age affect which movie is the most popular?\n",
    "    - Are certain characters more or less popular among different age groups?\n",
    "- Educational Background Influence:\n",
    "    - Does educational background affect which movie is the most popular?\n",
    "    - Are certain characters more or less popular among people with different educational levels?\n",
    "- Income Level Influence:\n",
    "    - Does income level influence which movie is the most favored?\n",
    "    - Are there characters that are more or less popular among people with different income brackets?\n",
    "- Regional Influence:\n",
    "    - Does the region of the United States affect which movie is the most popular?\n",
    "    - Are certain characters more or less popular in different areas of the US?ps?"
   ]
  },
  {
   "cell_type": "markdown",
   "metadata": {},
   "source": [
    "Before we begin, let’s take a look at some information that may help us understand what we might find in our dataset:"
   ]
  },
  {
   "cell_type": "markdown",
   "metadata": {},
   "source": [
    "Our analysis will be focused solely on Star Wars <b>episodes 1 to 6</b>:"
   ]
  },
  {
   "cell_type": "markdown",
   "metadata": {},
   "source": [
    "<table border='1'> <tbody> <tr> <td><b>Episode I - The Phantom Menace</b></td> <td><img src='img/StarWarE1.jpg' width='100'/></td> <td>Jedi Knights Qui-Gon Jinn and Obi-Wan Kenobi discover young Anakin Skywalker, who is strong with the Force. They face the Sith Lord Darth Maul.</td> </tr> <tr> <td><b>Episode II - Attack of the Clones</b></td> <td><img src='img/StarWarE2.jpg' width='100'/></td> <td>Anakin Skywalker and Padmé Amidala fall in love, while the galaxy edges closer to war. Anakin begins to struggle with his emotions and the dark side.</td> </tr> <tr> <td><b>Episode III - Revenge of the Sith</b></td> <td><img src='img/StarWarE3.jpg' width='100'/></td> <td>Anakin succumbs to the dark side and becomes Darth Vader. The Jedi Order falls, and the Galactic Empire rises under Emperor Palpatine.</td> </tr> <tr> <td><b>Episode IV - A New Hope</b></td> <td><img src='img/StarWarE4.jpg' width='100'/></td> <td>Luke Skywalker joins the Rebel Alliance to fight the Empire. He learns the ways of the Force from Obi-Wan Kenobi and destroys the Death Star.</td> </tr> <tr> <td><b>Episode V - The Empire Strikes Back</b></td> <td><img src='img/StarWarE5.jpg' width='100'/></td> <td>The Rebels suffer a major defeat. Luke trains with Yoda and learns that Darth Vader is his father. Han Solo is captured by Boba Fett.</td> </tr> <tr> <td><b>Episode VI - Return of the Jedi</b></td> <td><img src='img/StarWarE6.jpg' width='100'/></td> <td>Luke and the Rebels launch a final attack on the Empire. Luke redeems his father, Anakin, who destroys Emperor Palpatine, bringing balance to the Force.</td> </tr> </tbody> </table>"
   ]
  },
  {
   "cell_type": "markdown",
   "metadata": {},
   "source": [
    "Here are some <b>Star Wars characters</b> that people were asked about in the FiveThirtyEight survey. We’ll analyze their responses."
   ]
  },
  {
   "cell_type": "markdown",
   "metadata": {},
   "source": [
    "<table border='1'> <tbody> <tr> <td><b>Han Solo</b></td> <td><img src='img/HanSolo.jpg' width='200'/></td> <td>Han Solo is a cool and daring smuggler who becomes a hero. He flies the Millennium Falcon, a legendary starship, and helps the Rebels in their fight against the Empire. Known for his quick wit and roguish charm, Han is a skilled pilot and a loyal friend, especially to his co-pilot Chewbacca. Despite his initial reluctance to join the Rebel cause, he proves to be a brave and resourceful ally.</td> </tr> <tr> <td><b>Luke Skywalker</b></td> <td><img src='img/LukeSkywalker.jpg' width='200'/></td> <td>Luke Skywalker is a farm boy from Tatooine who learns he is a Jedi. He embarks on a journey to fight the Empire and save the galaxy. Under the guidance of Obi-Wan Kenobi and Yoda, Luke hones his skills in the Force. He plays a crucial role in the Rebel Alliance’s victories and ultimately redeems his father, Anakin Skywalker, who had become Darth Vader.</td> </tr> <tr> <td><b>Princess Leia Organa</b></td> <td><img src='img/PrincessLeiaOrgana.jpg' width='200'/></td> <td>Princess Leia Organa is a smart and brave leader of the Rebel Alliance. She is the twin sister of Luke Skywalker and the daughter of Anakin Skywalker and Padmé Amidala. Leia is known for her diplomatic skills, strategic mind, and unwavering dedication to the Rebel cause. She is also a skilled fighter and a symbol of hope for the galaxy.</td> </tr> <tr> <td><b>Anakin Skywalker</b></td> <td><img src='img/AnakinSkywalker.jpg' width='200'/></td> <td>Anakin Skywalker is a talented Jedi who turns into Darth Vader. His story is one of great potential and tragic downfall. Initially a hero of the Clone Wars, Anakin is seduced by the dark side of the Force and becomes the Sith Lord Darth Vader. His journey is marked by his struggle with inner demons and his eventual redemption through the love of his son, Luke Skywalker.</td> </tr> <tr> <td><b>Obi Wan Kenobi</b></td> <td><img src='img/ObiWanKenobi.jpg' width='200'/></td> <td>Obi-Wan Kenobi is a wise Jedi Master who trains both Anakin and Luke Skywalker. He is a key figure in the fight against the Sith and the protection of the galaxy. Known for his wisdom, calm demeanor, and exceptional lightsaber skills, Obi-Wan plays a crucial role in the events of the Star Wars saga, from the Clone Wars to the rise of the Galactic Empire.</td> </tr> <tr> <td><b>Emperor Palpatine</b></td> <td><img src='img/EmperorPalpatine.jpg' width='200'/></td> <td>Emperor Palpatine, also known as Darth Sidious, is the evil ruler of the Galactic Empire. He is a powerful Sith Lord who uses the dark side of the Force to manipulate and control others. Palpatine orchestrates the fall of the Republic and the rise of the Empire, becoming the ultimate antagonist in the Star Wars saga. His cunning and malevolence make him a formidable foe.</td> </tr> <tr> <td><b>Darth Vader</b></td> <td><img src='img/DarthVader.png' width='200'/></td> <td>Darth Vader, once Anakin Skywalker, is a fearsome Sith Lord known for his black armor and deep voice. As the right hand of Emperor Palpatine, Vader enforces the Empire’s will with ruthless efficiency. Despite his fearsome reputation, there remains a spark of good within him, which is ultimately rekindled by his son, Luke Skywalker, leading to his redemption.</td> </tr> <tr> <td><b>Lando Calrissian</b></td> <td><img src='img/LandoCalrissian.jpg' width='200'/></td> <td>Lando Calrissian is a charming gambler and entrepreneur who becomes an important ally to the Rebel Alliance. He is a skilled pilot and the original owner of the Millennium Falcon. Lando plays a significant role in the final battle against the Empire, showcasing his bravery and leadership.</td> </tr> <tr> <td><b>Boba Fett</b></td> <td><img src='img/BobaFett.jpg' width='200'/></td> <td>Boba Fett is a famous bounty hunter known for his distinctive Mandalorian armor and ruthless efficiency. He works for Darth Vader to capture Han Solo and is one of the most feared bounty hunters in the galaxy. Boba Fett’s reputation and skills make him a formidable character in the Star Wars universe.</td> </tr> <tr> <td><b>C-3P0</b></td> <td><img src='img/C3P0.jpg' width='100'/></td> <td>C-3PO is a polite and protocol droid fluent in many languages. Often worrying about the dangers around him, he nonetheless provides invaluable assistance to the Rebel Alliance. Alongside his friend R2-D2, C-3PO plays a crucial role in many of the Rebels’ missions.</td> </tr> <tr> <td><b>R2 D2</b></td> <td><img src='img/R2D2.png' width='200'/></td> <td>R2-D2 is a brave and clever astromech droid. He assists the Rebels on numerous missions with his resourcefulness and technical skills. R2-D2’s loyalty and bravery make him an indispensable member of the Rebel team.</td> </tr> <tr> <td><b>Jar Jar Binks</b></td> <td><img src='img/JarJarBinks.jpg' width='200'/></td> <td>Jar Jar Binks is a clumsy but kind-hearted Gungan from the planet Naboo. Despite his awkwardness, he becomes a senator and plays a significant role in the events leading up to the rise of the Galactic Empire. Jar Jar’s actions have a lasting impact on the galaxy.</td> </tr> <tr> <td><b>Padme Amidala</b></td> <td><img src='img/PadmeAmidala.jpg' width='200'/></td> <td>Padmé Amidala is a strong and caring leader, serving as the Queen of Naboo and later as a senator. She is deeply committed to democracy and justice. Padmé is also the wife of Anakin Skywalker and the mother of Luke Skywalker and Leia Organa. Her love and dedication to her family and her people are central to her character.</td> </tr> <tr> <td><b>Yoda</b></td> <td><img src='img/Yoda.jpg' width='200'/></td> <td>Yoda is a wise and powerful Jedi Master known for his unique way of speaking and his deep understanding of the Force. He trains many Jedi over his long life and plays a crucial role in the fight against the Sith. Yoda’s wisdom and strength make him one of the most respected figures in the Star Wars universe.</td> </tr> </tbody> </table>"
   ]
  },
  {
   "cell_type": "markdown",
   "metadata": {},
   "source": [
    "In some parts of our analysis, we will compare the Star Wars film franchise with the Expanded Universe (Star Wars Legends) and the Star Trek franchise. Let’s see what they are:"
   ]
  },
  {
   "cell_type": "markdown",
   "metadata": {},
   "source": [
    "\n",
    "\n",
    "<b>The Star Wars Film Franchise</b><br>\n",
    "The Star Wars film franchise refers to the series of movies created by George Lucas. It began with the original trilogy in 1977 and has since expanded to include prequels, sequels, and standalone films. The main storyline, known as the “Skywalker Saga,” consists of three trilogies:\n",
    "- Original Trilogy: Episodes IV-VI (1977-1983)\n",
    "- Prequel Trilogy: Episodes I-III (1999-2005)\n",
    "- Sequel Trilogy: Episodes VII-IX (2015-2019)\n",
    "<br>Additionally, there are standalone films like Rogue One and Solo, as well as animated series and live-action shows like The Mandalorian12."
   ]
  },
  {
   "cell_type": "markdown",
   "metadata": {},
   "source": [
    "<b>The Expanded Universe (Star Wars Legends)</b><br>\n",
    "The Expanded Universe (EU), now known as Star Wars Legends, includes all the licensed Star Wars stories outside of the original six films and certain other material created before April 25, 2014. This encompasses novels, comics, video games, and other media that expand on the Star Wars universe. These stories explore events and characters not covered in the films, ranging from thousands of years before The Phantom Menace to over a century after Return of the Jedi. In 2014, Lucasfilm rebranded the EU as Legends and established a new canon34."
   ]
  },
  {
   "cell_type": "markdown",
   "metadata": {},
   "source": [
    "<b>The Star Trek Franchise</b><br>\n",
    "The Star Trek franchise is a science fiction media franchise created by Gene Roddenberry. It began with the original television series in 1966 and has since grown to include multiple TV series, films, novels, comics, and other media. The franchise explores the adventures of various starship crews in the United Federation of Planets, focusing on themes of exploration, diplomacy, and science. Key series include:\n",
    "<br>\n",
    "- Star Trek: The Original Series (1966-1969)\n",
    "- Star Trek: The Next Generation (1987-1994)\n",
    "- Star Trek: Deep Space Nine (1993-1999)\n",
    "- Star Trek: Voyager (1995-2001)\n",
    "- Star Trek: Enterprise (2001-2005)\n",
    "- Star Trek: Discovery (2017-present)\n",
    "- Star Trek: Picard (2020-present)\n",
    "- Star Trek: Strange New Worlds (2022-present)"
   ]
  },
  {
   "cell_type": "markdown",
   "metadata": {},
   "source": [
    "<img src='img/StarWarVsStarTrek.jpg'>"
   ]
  },
  {
   "cell_type": "markdown",
   "metadata": {
    "jp-MarkdownHeadingCollapsed": true
   },
   "source": [
    "# Importing the File"
   ]
  },
  {
   "cell_type": "code",
   "execution_count": 1,
   "metadata": {},
   "outputs": [],
   "source": [
    "import pandas as pd\n",
    "import numpy as np\n",
    "import matplotlib.pyplot as plt\n",
    "import matplotlib.image as mpimg"
   ]
  },
  {
   "cell_type": "code",
   "execution_count": 2,
   "metadata": {},
   "outputs": [],
   "source": [
    "sws = pd.read_csv('StarWars.csv',encoding=\"ISO-8859-1\") # 'sws' stands for Star War Survey"
   ]
  },
  {
   "cell_type": "markdown",
   "metadata": {
    "jp-MarkdownHeadingCollapsed": true
   },
   "source": [
    "# Exploring the Dataset"
   ]
  },
  {
   "cell_type": "code",
   "execution_count": 3,
   "metadata": {},
   "outputs": [
    {
     "data": {
      "text/html": [
       "<div>\n",
       "<style scoped>\n",
       "    .dataframe tbody tr th:only-of-type {\n",
       "        vertical-align: middle;\n",
       "    }\n",
       "\n",
       "    .dataframe tbody tr th {\n",
       "        vertical-align: top;\n",
       "    }\n",
       "\n",
       "    .dataframe thead th {\n",
       "        text-align: right;\n",
       "    }\n",
       "</style>\n",
       "<table border=\"1\" class=\"dataframe\">\n",
       "  <thead>\n",
       "    <tr style=\"text-align: right;\">\n",
       "      <th></th>\n",
       "      <th>RespondentID</th>\n",
       "      <th>Have you seen any of the 6 films in the Star Wars franchise?</th>\n",
       "      <th>Do you consider yourself to be a fan of the Star Wars film franchise?</th>\n",
       "      <th>Which of the following Star Wars films have you seen? Please select all that apply.</th>\n",
       "      <th>Unnamed: 4</th>\n",
       "      <th>Unnamed: 5</th>\n",
       "      <th>Unnamed: 6</th>\n",
       "      <th>Unnamed: 7</th>\n",
       "      <th>Unnamed: 8</th>\n",
       "      <th>Please rank the Star Wars films in order of preference with 1 being your favorite film in the franchise and 6 being your least favorite film.</th>\n",
       "      <th>...</th>\n",
       "      <th>Unnamed: 28</th>\n",
       "      <th>Which character shot first?</th>\n",
       "      <th>Are you familiar with the Expanded Universe?</th>\n",
       "      <th>Do you consider yourself to be a fan of the Expanded Universe?æ</th>\n",
       "      <th>Do you consider yourself to be a fan of the Star Trek franchise?</th>\n",
       "      <th>Gender</th>\n",
       "      <th>Age</th>\n",
       "      <th>Household Income</th>\n",
       "      <th>Education</th>\n",
       "      <th>Location (Census Region)</th>\n",
       "    </tr>\n",
       "  </thead>\n",
       "  <tbody>\n",
       "    <tr>\n",
       "      <th>0</th>\n",
       "      <td>NaN</td>\n",
       "      <td>Response</td>\n",
       "      <td>Response</td>\n",
       "      <td>Star Wars: Episode I  The Phantom Menace</td>\n",
       "      <td>Star Wars: Episode II  Attack of the Clones</td>\n",
       "      <td>Star Wars: Episode III  Revenge of the Sith</td>\n",
       "      <td>Star Wars: Episode IV  A New Hope</td>\n",
       "      <td>Star Wars: Episode V The Empire Strikes Back</td>\n",
       "      <td>Star Wars: Episode VI Return of the Jedi</td>\n",
       "      <td>Star Wars: Episode I  The Phantom Menace</td>\n",
       "      <td>...</td>\n",
       "      <td>Yoda</td>\n",
       "      <td>Response</td>\n",
       "      <td>Response</td>\n",
       "      <td>Response</td>\n",
       "      <td>Response</td>\n",
       "      <td>Response</td>\n",
       "      <td>Response</td>\n",
       "      <td>Response</td>\n",
       "      <td>Response</td>\n",
       "      <td>Response</td>\n",
       "    </tr>\n",
       "    <tr>\n",
       "      <th>1</th>\n",
       "      <td>3.292880e+09</td>\n",
       "      <td>Yes</td>\n",
       "      <td>Yes</td>\n",
       "      <td>Star Wars: Episode I  The Phantom Menace</td>\n",
       "      <td>Star Wars: Episode II  Attack of the Clones</td>\n",
       "      <td>Star Wars: Episode III  Revenge of the Sith</td>\n",
       "      <td>Star Wars: Episode IV  A New Hope</td>\n",
       "      <td>Star Wars: Episode V The Empire Strikes Back</td>\n",
       "      <td>Star Wars: Episode VI Return of the Jedi</td>\n",
       "      <td>3</td>\n",
       "      <td>...</td>\n",
       "      <td>Very favorably</td>\n",
       "      <td>I don't understand this question</td>\n",
       "      <td>Yes</td>\n",
       "      <td>No</td>\n",
       "      <td>No</td>\n",
       "      <td>Male</td>\n",
       "      <td>18-29</td>\n",
       "      <td>NaN</td>\n",
       "      <td>High school degree</td>\n",
       "      <td>South Atlantic</td>\n",
       "    </tr>\n",
       "  </tbody>\n",
       "</table>\n",
       "<p>2 rows × 38 columns</p>\n",
       "</div>"
      ],
      "text/plain": [
       "   RespondentID Have you seen any of the 6 films in the Star Wars franchise?  \\\n",
       "0           NaN                                           Response             \n",
       "1  3.292880e+09                                                Yes             \n",
       "\n",
       "  Do you consider yourself to be a fan of the Star Wars film franchise?  \\\n",
       "0                                           Response                      \n",
       "1                                                Yes                      \n",
       "\n",
       "  Which of the following Star Wars films have you seen? Please select all that apply.  \\\n",
       "0           Star Wars: Episode I  The Phantom Menace                                    \n",
       "1           Star Wars: Episode I  The Phantom Menace                                    \n",
       "\n",
       "                                    Unnamed: 4  \\\n",
       "0  Star Wars: Episode II  Attack of the Clones   \n",
       "1  Star Wars: Episode II  Attack of the Clones   \n",
       "\n",
       "                                    Unnamed: 5  \\\n",
       "0  Star Wars: Episode III  Revenge of the Sith   \n",
       "1  Star Wars: Episode III  Revenge of the Sith   \n",
       "\n",
       "                          Unnamed: 6  \\\n",
       "0  Star Wars: Episode IV  A New Hope   \n",
       "1  Star Wars: Episode IV  A New Hope   \n",
       "\n",
       "                                     Unnamed: 7  \\\n",
       "0  Star Wars: Episode V The Empire Strikes Back   \n",
       "1  Star Wars: Episode V The Empire Strikes Back   \n",
       "\n",
       "                                 Unnamed: 8  \\\n",
       "0  Star Wars: Episode VI Return of the Jedi   \n",
       "1  Star Wars: Episode VI Return of the Jedi   \n",
       "\n",
       "  Please rank the Star Wars films in order of preference with 1 being your favorite film in the franchise and 6 being your least favorite film.  \\\n",
       "0           Star Wars: Episode I  The Phantom Menace                                                                                              \n",
       "1                                                  3                                                                                              \n",
       "\n",
       "   ...     Unnamed: 28       Which character shot first?  \\\n",
       "0  ...            Yoda                          Response   \n",
       "1  ...  Very favorably  I don't understand this question   \n",
       "\n",
       "  Are you familiar with the Expanded Universe?  \\\n",
       "0                                     Response   \n",
       "1                                          Yes   \n",
       "\n",
       "  Do you consider yourself to be a fan of the Expanded Universe?æ  \\\n",
       "0                                           Response                 \n",
       "1                                                 No                 \n",
       "\n",
       "  Do you consider yourself to be a fan of the Star Trek franchise?    Gender  \\\n",
       "0                                           Response                Response   \n",
       "1                                                 No                    Male   \n",
       "\n",
       "        Age Household Income           Education Location (Census Region)  \n",
       "0  Response         Response            Response                 Response  \n",
       "1     18-29              NaN  High school degree           South Atlantic  \n",
       "\n",
       "[2 rows x 38 columns]"
      ]
     },
     "execution_count": 3,
     "metadata": {},
     "output_type": "execute_result"
    }
   ],
   "source": [
    "sws.head(2) # Exploring the first two rows of the sws dataset"
   ]
  },
  {
   "cell_type": "code",
   "execution_count": 4,
   "metadata": {},
   "outputs": [
    {
     "name": "stdout",
     "output_type": "stream",
     "text": [
      "RespondentID\n",
      "Have you seen any of the 6 films in the Star Wars franchise?\n",
      "Do you consider yourself to be a fan of the Star Wars film franchise?\n",
      "Which of the following Star Wars films have you seen? Please select all that apply.\n",
      "Unnamed: 4\n",
      "Unnamed: 5\n",
      "Unnamed: 6\n",
      "Unnamed: 7\n",
      "Unnamed: 8\n",
      "Please rank the Star Wars films in order of preference with 1 being your favorite film in the franchise and 6 being your least favorite film.\n",
      "Unnamed: 10\n",
      "Unnamed: 11\n",
      "Unnamed: 12\n",
      "Unnamed: 13\n",
      "Unnamed: 14\n",
      "Please state whether you view the following characters favorably, unfavorably, or are unfamiliar with him/her.\n",
      "Unnamed: 16\n",
      "Unnamed: 17\n",
      "Unnamed: 18\n",
      "Unnamed: 19\n",
      "Unnamed: 20\n",
      "Unnamed: 21\n",
      "Unnamed: 22\n",
      "Unnamed: 23\n",
      "Unnamed: 24\n",
      "Unnamed: 25\n",
      "Unnamed: 26\n",
      "Unnamed: 27\n",
      "Unnamed: 28\n",
      "Which character shot first?\n",
      "Are you familiar with the Expanded Universe?\n",
      "Do you consider yourself to be a fan of the Expanded Universe?æ\n",
      "Do you consider yourself to be a fan of the Star Trek franchise?\n",
      "Gender\n",
      "Age\n",
      "Household Income\n",
      "Education\n",
      "Location (Census Region)\n"
     ]
    }
   ],
   "source": [
    "# Exploring the columns of sws dataset\n",
    "for column in sws.columns:  \n",
    "    print(column) "
   ]
  },
  {
   "cell_type": "markdown",
   "metadata": {},
   "source": [
    "In the first row of the `sws` dataset, each cell contains information about its column. We will need this information going forward. Let’s separate this row and save it into a different variable:"
   ]
  },
  {
   "cell_type": "code",
   "execution_count": 5,
   "metadata": {},
   "outputs": [
    {
     "data": {
      "text/html": [
       "<div>\n",
       "<style scoped>\n",
       "    .dataframe tbody tr th:only-of-type {\n",
       "        vertical-align: middle;\n",
       "    }\n",
       "\n",
       "    .dataframe tbody tr th {\n",
       "        vertical-align: top;\n",
       "    }\n",
       "\n",
       "    .dataframe thead th {\n",
       "        text-align: right;\n",
       "    }\n",
       "</style>\n",
       "<table border=\"1\" class=\"dataframe\">\n",
       "  <thead>\n",
       "    <tr style=\"text-align: right;\">\n",
       "      <th></th>\n",
       "      <th>RespondentID</th>\n",
       "      <th>Have you seen any of the 6 films in the Star Wars franchise?</th>\n",
       "      <th>Do you consider yourself to be a fan of the Star Wars film franchise?</th>\n",
       "      <th>Which of the following Star Wars films have you seen? Please select all that apply.</th>\n",
       "      <th>Unnamed: 4</th>\n",
       "      <th>Unnamed: 5</th>\n",
       "      <th>Unnamed: 6</th>\n",
       "      <th>Unnamed: 7</th>\n",
       "      <th>Unnamed: 8</th>\n",
       "      <th>Please rank the Star Wars films in order of preference with 1 being your favorite film in the franchise and 6 being your least favorite film.</th>\n",
       "      <th>...</th>\n",
       "      <th>Unnamed: 28</th>\n",
       "      <th>Which character shot first?</th>\n",
       "      <th>Are you familiar with the Expanded Universe?</th>\n",
       "      <th>Do you consider yourself to be a fan of the Expanded Universe?æ</th>\n",
       "      <th>Do you consider yourself to be a fan of the Star Trek franchise?</th>\n",
       "      <th>Gender</th>\n",
       "      <th>Age</th>\n",
       "      <th>Household Income</th>\n",
       "      <th>Education</th>\n",
       "      <th>Location (Census Region)</th>\n",
       "    </tr>\n",
       "  </thead>\n",
       "  <tbody>\n",
       "    <tr>\n",
       "      <th>0</th>\n",
       "      <td>3.292880e+09</td>\n",
       "      <td>Yes</td>\n",
       "      <td>Yes</td>\n",
       "      <td>Star Wars: Episode I  The Phantom Menace</td>\n",
       "      <td>Star Wars: Episode II  Attack of the Clones</td>\n",
       "      <td>Star Wars: Episode III  Revenge of the Sith</td>\n",
       "      <td>Star Wars: Episode IV  A New Hope</td>\n",
       "      <td>Star Wars: Episode V The Empire Strikes Back</td>\n",
       "      <td>Star Wars: Episode VI Return of the Jedi</td>\n",
       "      <td>3</td>\n",
       "      <td>...</td>\n",
       "      <td>Very favorably</td>\n",
       "      <td>I don't understand this question</td>\n",
       "      <td>Yes</td>\n",
       "      <td>No</td>\n",
       "      <td>No</td>\n",
       "      <td>Male</td>\n",
       "      <td>18-29</td>\n",
       "      <td>NaN</td>\n",
       "      <td>High school degree</td>\n",
       "      <td>South Atlantic</td>\n",
       "    </tr>\n",
       "    <tr>\n",
       "      <th>1</th>\n",
       "      <td>3.292880e+09</td>\n",
       "      <td>No</td>\n",
       "      <td>NaN</td>\n",
       "      <td>NaN</td>\n",
       "      <td>NaN</td>\n",
       "      <td>NaN</td>\n",
       "      <td>NaN</td>\n",
       "      <td>NaN</td>\n",
       "      <td>NaN</td>\n",
       "      <td>NaN</td>\n",
       "      <td>...</td>\n",
       "      <td>NaN</td>\n",
       "      <td>NaN</td>\n",
       "      <td>NaN</td>\n",
       "      <td>NaN</td>\n",
       "      <td>Yes</td>\n",
       "      <td>Male</td>\n",
       "      <td>18-29</td>\n",
       "      <td>$0 - $24,999</td>\n",
       "      <td>Bachelor degree</td>\n",
       "      <td>West South Central</td>\n",
       "    </tr>\n",
       "    <tr>\n",
       "      <th>2</th>\n",
       "      <td>3.292765e+09</td>\n",
       "      <td>Yes</td>\n",
       "      <td>No</td>\n",
       "      <td>Star Wars: Episode I  The Phantom Menace</td>\n",
       "      <td>Star Wars: Episode II  Attack of the Clones</td>\n",
       "      <td>Star Wars: Episode III  Revenge of the Sith</td>\n",
       "      <td>NaN</td>\n",
       "      <td>NaN</td>\n",
       "      <td>NaN</td>\n",
       "      <td>1</td>\n",
       "      <td>...</td>\n",
       "      <td>Unfamiliar (N/A)</td>\n",
       "      <td>I don't understand this question</td>\n",
       "      <td>No</td>\n",
       "      <td>NaN</td>\n",
       "      <td>No</td>\n",
       "      <td>Male</td>\n",
       "      <td>18-29</td>\n",
       "      <td>$0 - $24,999</td>\n",
       "      <td>High school degree</td>\n",
       "      <td>West North Central</td>\n",
       "    </tr>\n",
       "  </tbody>\n",
       "</table>\n",
       "<p>3 rows × 38 columns</p>\n",
       "</div>"
      ],
      "text/plain": [
       "   RespondentID Have you seen any of the 6 films in the Star Wars franchise?  \\\n",
       "0  3.292880e+09                                                Yes             \n",
       "1  3.292880e+09                                                 No             \n",
       "2  3.292765e+09                                                Yes             \n",
       "\n",
       "  Do you consider yourself to be a fan of the Star Wars film franchise?  \\\n",
       "0                                                Yes                      \n",
       "1                                                NaN                      \n",
       "2                                                 No                      \n",
       "\n",
       "  Which of the following Star Wars films have you seen? Please select all that apply.  \\\n",
       "0           Star Wars: Episode I  The Phantom Menace                                    \n",
       "1                                                NaN                                    \n",
       "2           Star Wars: Episode I  The Phantom Menace                                    \n",
       "\n",
       "                                    Unnamed: 4  \\\n",
       "0  Star Wars: Episode II  Attack of the Clones   \n",
       "1                                          NaN   \n",
       "2  Star Wars: Episode II  Attack of the Clones   \n",
       "\n",
       "                                    Unnamed: 5  \\\n",
       "0  Star Wars: Episode III  Revenge of the Sith   \n",
       "1                                          NaN   \n",
       "2  Star Wars: Episode III  Revenge of the Sith   \n",
       "\n",
       "                          Unnamed: 6  \\\n",
       "0  Star Wars: Episode IV  A New Hope   \n",
       "1                                NaN   \n",
       "2                                NaN   \n",
       "\n",
       "                                     Unnamed: 7  \\\n",
       "0  Star Wars: Episode V The Empire Strikes Back   \n",
       "1                                           NaN   \n",
       "2                                           NaN   \n",
       "\n",
       "                                 Unnamed: 8  \\\n",
       "0  Star Wars: Episode VI Return of the Jedi   \n",
       "1                                       NaN   \n",
       "2                                       NaN   \n",
       "\n",
       "  Please rank the Star Wars films in order of preference with 1 being your favorite film in the franchise and 6 being your least favorite film.  \\\n",
       "0                                                  3                                                                                              \n",
       "1                                                NaN                                                                                              \n",
       "2                                                  1                                                                                              \n",
       "\n",
       "   ...       Unnamed: 28       Which character shot first?  \\\n",
       "0  ...    Very favorably  I don't understand this question   \n",
       "1  ...               NaN                               NaN   \n",
       "2  ...  Unfamiliar (N/A)  I don't understand this question   \n",
       "\n",
       "  Are you familiar with the Expanded Universe?  \\\n",
       "0                                          Yes   \n",
       "1                                          NaN   \n",
       "2                                           No   \n",
       "\n",
       "  Do you consider yourself to be a fan of the Expanded Universe?æ  \\\n",
       "0                                                 No                 \n",
       "1                                                NaN                 \n",
       "2                                                NaN                 \n",
       "\n",
       "  Do you consider yourself to be a fan of the Star Trek franchise? Gender  \\\n",
       "0                                                 No                 Male   \n",
       "1                                                Yes                 Male   \n",
       "2                                                 No                 Male   \n",
       "\n",
       "     Age Household Income           Education Location (Census Region)  \n",
       "0  18-29              NaN  High school degree           South Atlantic  \n",
       "1  18-29     $0 - $24,999     Bachelor degree       West South Central  \n",
       "2  18-29     $0 - $24,999  High school degree       West North Central  \n",
       "\n",
       "[3 rows x 38 columns]"
      ]
     },
     "execution_count": 5,
     "metadata": {},
     "output_type": "execute_result"
    }
   ],
   "source": [
    "# Extracting the first row of the DataFrame and saving it to 'sws_info'\n",
    "sws_info = sws.iloc[0]\n",
    "\n",
    "# Removing the first row and resetting the index in one step\n",
    "sws = sws.iloc[1:].reset_index(drop=True)\n",
    "\n",
    "# Displaying the first few rows of the updated Dataset\n",
    "sws.head(3)"
   ]
  },
  {
   "cell_type": "code",
   "execution_count": 6,
   "metadata": {
    "scrolled": true
   },
   "outputs": [
    {
     "name": "stdout",
     "output_type": "stream",
     "text": [
      "\u001b[1mColumn Name: RespondentID\u001b[0m\n",
      "\u001b[31m[nan]\u001b[0m\n",
      "\u001b[1mColumn Name: Have you seen any of the 6 films in the Star Wars franchise?\u001b[0m\n",
      "\u001b[31m['Response']\u001b[0m\n",
      "\u001b[1mColumn Name: Do you consider yourself to be a fan of the Star Wars film franchise?\u001b[0m\n",
      "\u001b[31m['Response']\u001b[0m\n",
      "\u001b[1mColumn Name: Which of the following Star Wars films have you seen? Please select all that apply.\u001b[0m\n",
      "\u001b[31m['Star Wars: Episode I  The Phantom Menace']\u001b[0m\n",
      "\u001b[1mColumn Name: Unnamed: 4\u001b[0m\n",
      "\u001b[31m['Star Wars: Episode II  Attack of the Clones']\u001b[0m\n",
      "\u001b[1mColumn Name: Unnamed: 5\u001b[0m\n",
      "\u001b[31m['Star Wars: Episode III  Revenge of the Sith']\u001b[0m\n",
      "\u001b[1mColumn Name: Unnamed: 6\u001b[0m\n",
      "\u001b[31m['Star Wars: Episode IV  A New Hope']\u001b[0m\n",
      "\u001b[1mColumn Name: Unnamed: 7\u001b[0m\n",
      "\u001b[31m['Star Wars: Episode V The Empire Strikes Back']\u001b[0m\n",
      "\u001b[1mColumn Name: Unnamed: 8\u001b[0m\n",
      "\u001b[31m['Star Wars: Episode VI Return of the Jedi']\u001b[0m\n",
      "\u001b[1mColumn Name: Please rank the Star Wars films in order of preference with 1 being your favorite film in the franchise and 6 being your least favorite film.\u001b[0m\n",
      "\u001b[31m['Star Wars: Episode I  The Phantom Menace']\u001b[0m\n",
      "\u001b[1mColumn Name: Unnamed: 10\u001b[0m\n",
      "\u001b[31m['Star Wars: Episode II  Attack of the Clones']\u001b[0m\n",
      "\u001b[1mColumn Name: Unnamed: 11\u001b[0m\n",
      "\u001b[31m['Star Wars: Episode III  Revenge of the Sith']\u001b[0m\n",
      "\u001b[1mColumn Name: Unnamed: 12\u001b[0m\n",
      "\u001b[31m['Star Wars: Episode IV  A New Hope']\u001b[0m\n",
      "\u001b[1mColumn Name: Unnamed: 13\u001b[0m\n",
      "\u001b[31m['Star Wars: Episode V The Empire Strikes Back']\u001b[0m\n",
      "\u001b[1mColumn Name: Unnamed: 14\u001b[0m\n",
      "\u001b[31m['Star Wars: Episode VI Return of the Jedi']\u001b[0m\n",
      "\u001b[1mColumn Name: Please state whether you view the following characters favorably, unfavorably, or are unfamiliar with him/her.\u001b[0m\n",
      "\u001b[31m['Han Solo']\u001b[0m\n",
      "\u001b[1mColumn Name: Unnamed: 16\u001b[0m\n",
      "\u001b[31m['Luke Skywalker']\u001b[0m\n",
      "\u001b[1mColumn Name: Unnamed: 17\u001b[0m\n",
      "\u001b[31m['Princess Leia Organa']\u001b[0m\n",
      "\u001b[1mColumn Name: Unnamed: 18\u001b[0m\n",
      "\u001b[31m['Anakin Skywalker']\u001b[0m\n",
      "\u001b[1mColumn Name: Unnamed: 19\u001b[0m\n",
      "\u001b[31m['Obi Wan Kenobi']\u001b[0m\n",
      "\u001b[1mColumn Name: Unnamed: 20\u001b[0m\n",
      "\u001b[31m['Emperor Palpatine']\u001b[0m\n",
      "\u001b[1mColumn Name: Unnamed: 21\u001b[0m\n",
      "\u001b[31m['Darth Vader']\u001b[0m\n",
      "\u001b[1mColumn Name: Unnamed: 22\u001b[0m\n",
      "\u001b[31m['Lando Calrissian']\u001b[0m\n",
      "\u001b[1mColumn Name: Unnamed: 23\u001b[0m\n",
      "\u001b[31m['Boba Fett']\u001b[0m\n",
      "\u001b[1mColumn Name: Unnamed: 24\u001b[0m\n",
      "\u001b[31m['C-3P0']\u001b[0m\n",
      "\u001b[1mColumn Name: Unnamed: 25\u001b[0m\n",
      "\u001b[31m['R2 D2']\u001b[0m\n",
      "\u001b[1mColumn Name: Unnamed: 26\u001b[0m\n",
      "\u001b[31m['Jar Jar Binks']\u001b[0m\n",
      "\u001b[1mColumn Name: Unnamed: 27\u001b[0m\n",
      "\u001b[31m['Padme Amidala']\u001b[0m\n",
      "\u001b[1mColumn Name: Unnamed: 28\u001b[0m\n",
      "\u001b[31m['Yoda']\u001b[0m\n",
      "\u001b[1mColumn Name: Which character shot first?\u001b[0m\n",
      "\u001b[31m['Response']\u001b[0m\n",
      "\u001b[1mColumn Name: Are you familiar with the Expanded Universe?\u001b[0m\n",
      "\u001b[31m['Response']\u001b[0m\n",
      "\u001b[1mColumn Name: Do you consider yourself to be a fan of the Expanded Universe?æ\u001b[0m\n",
      "\u001b[31m['Response']\u001b[0m\n",
      "\u001b[1mColumn Name: Do you consider yourself to be a fan of the Star Trek franchise?\u001b[0m\n",
      "\u001b[31m['Response']\u001b[0m\n",
      "\u001b[1mColumn Name: Gender\u001b[0m\n",
      "\u001b[31m['Response']\u001b[0m\n",
      "\u001b[1mColumn Name: Age\u001b[0m\n",
      "\u001b[31m['Response']\u001b[0m\n",
      "\u001b[1mColumn Name: Household Income\u001b[0m\n",
      "\u001b[31m['Response']\u001b[0m\n",
      "\u001b[1mColumn Name: Education\u001b[0m\n",
      "\u001b[31m['Response']\u001b[0m\n",
      "\u001b[1mColumn Name: Location (Census Region)\u001b[0m\n",
      "\u001b[31m['Response']\u001b[0m\n"
     ]
    }
   ],
   "source": [
    "# Displaying the \"sws_info\" Dataset \n",
    "sws_info_df = sws_info.to_frame()  \n",
    "for index, row in sws_info_df.iterrows():  \n",
    "    print(f\"\\033[1mColumn Name: {index}\\033[0m\") \n",
    "    print(f\"\\033[31m{row.values}\\033[0m\")"
   ]
  },
  {
   "cell_type": "markdown",
   "metadata": {},
   "source": [
    "# Clening the Dataset"
   ]
  },
  {
   "cell_type": "markdown",
   "metadata": {
    "jp-MarkdownHeadingCollapsed": true
   },
   "source": [
    "## First Column"
   ]
  },
  {
   "cell_type": "markdown",
   "metadata": {},
   "source": [
    "Let’s ensure there are no duplicate rows in our dataset. Each respondent should have a unique ID."
   ]
  },
  {
   "cell_type": "code",
   "execution_count": 7,
   "metadata": {},
   "outputs": [
    {
     "data": {
      "text/plain": [
       "True"
      ]
     },
     "execution_count": 7,
     "metadata": {},
     "output_type": "execute_result"
    }
   ],
   "source": [
    "sws['RespondentID'].is_unique"
   ]
  },
  {
   "cell_type": "markdown",
   "metadata": {
    "jp-MarkdownHeadingCollapsed": true
   },
   "source": [
    "## Second and Third Columns"
   ]
  },
  {
   "cell_type": "markdown",
   "metadata": {},
   "source": [
    "For convenience, we will rename most of the columns to names that are easier to remember and use. For example, we will change the names of the first and second columns as follows:\n",
    "- `Have you seen any of the 6 films in the Star Wars franchise?` -> `seen_any`\n",
    "- `Do you consider yourself to be a fan of the Star Wars film franchise?` -> `star_war_fan`"
   ]
  },
  {
   "cell_type": "code",
   "execution_count": 8,
   "metadata": {},
   "outputs": [],
   "source": [
    "# Changing the names of the second and third columns:\n",
    "col_names_dic = {'Have you seen any of the 6 films in the Star Wars franchise?': 'seen_any',\n",
    "                 'Do you consider yourself to be a fan of the Star Wars film franchise?': 'star_war_fan'\n",
    "}\n",
    "sws.rename(columns=col_names_dic, inplace=True)"
   ]
  },
  {
   "cell_type": "markdown",
   "metadata": {},
   "source": [
    "Let's check what values we have in `seen_any` and `star_war_fan` columns:"
   ]
  },
  {
   "cell_type": "code",
   "execution_count": 9,
   "metadata": {},
   "outputs": [
    {
     "name": "stdout",
     "output_type": "stream",
     "text": [
      "seen_any\n",
      "Yes    936\n",
      "No     250\n",
      "Name: count, dtype: int64 \n",
      "\n",
      "star_war_fan\n",
      "Yes    552\n",
      "NaN    350\n",
      "No     284\n",
      "Name: count, dtype: int64 \n",
      "\n"
     ]
    }
   ],
   "source": [
    "target_columns = ['seen_any','star_war_fan']\n",
    "\n",
    "for tc in target_columns:\n",
    "    print(sws[tc].value_counts(dropna=False),'\\n')"
   ]
  },
  {
   "cell_type": "markdown",
   "metadata": {},
   "source": [
    "We will convert `Yes` and `No` to `True` and `False` respectively because boolean values are much more handy for analysis, especially when performing logical operations or filtering data."
   ]
  },
  {
   "cell_type": "code",
   "execution_count": 10,
   "metadata": {},
   "outputs": [],
   "source": [
    "# Creating a dictionary \n",
    "yes_no_dictionary = {'Yes':True,\n",
    "                     'No':False,\n",
    "                    }\n",
    "\n",
    "# Using the dictionary above to convert 'Yes' and 'No' to True and False:\n",
    "for tc in target_columns:\n",
    "    sws[tc] = sws[tc].map(yes_no_dictionary)"
   ]
  },
  {
   "cell_type": "code",
   "execution_count": 11,
   "metadata": {
    "scrolled": true
   },
   "outputs": [
    {
     "name": "stdout",
     "output_type": "stream",
     "text": [
      "seen_any\n",
      "True     936\n",
      "False    250\n",
      "Name: count, dtype: int64 \n",
      "\n",
      "star_war_fan\n",
      "True     552\n",
      "NaN      350\n",
      "False    284\n",
      "Name: count, dtype: int64 \n",
      "\n"
     ]
    }
   ],
   "source": [
    "# Checking values in 'seen_any' and 'star_war_fan' columns again:\n",
    "for tc in target_columns:\n",
    "    print(sws[tc].value_counts(dropna=False),'\\n')"
   ]
  },
  {
   "cell_type": "markdown",
   "metadata": {},
   "source": [
    "## Fourth to Ninth Columns"
   ]
  },
  {
   "cell_type": "markdown",
   "metadata": {},
   "source": [
    "Let’s take a look at what these columns are:"
   ]
  },
  {
   "cell_type": "code",
   "execution_count": 12,
   "metadata": {},
   "outputs": [
    {
     "data": {
      "text/plain": [
       "Index(['Which of the following Star Wars films have you seen? Please select all that apply.',\n",
       "       'Unnamed: 4', 'Unnamed: 5', 'Unnamed: 6', 'Unnamed: 7', 'Unnamed: 8'],\n",
       "      dtype='object')"
      ]
     },
     "execution_count": 12,
     "metadata": {},
     "output_type": "execute_result"
    }
   ],
   "source": [
    "sws.columns[3:9]"
   ]
  },
  {
   "cell_type": "markdown",
   "metadata": {},
   "source": [
    "And the values:"
   ]
  },
  {
   "cell_type": "code",
   "execution_count": 13,
   "metadata": {},
   "outputs": [
    {
     "name": "stdout",
     "output_type": "stream",
     "text": [
      "Which of the following Star Wars films have you seen? Please select all that apply.\n",
      "Star Wars: Episode I  The Phantom Menace    673\n",
      "NaN                                         513\n",
      "Name: count, dtype: int64\n",
      "Unnamed: 4\n",
      "NaN                                            615\n",
      "Star Wars: Episode II  Attack of the Clones    571\n",
      "Name: count, dtype: int64\n",
      "Unnamed: 5\n",
      "NaN                                            636\n",
      "Star Wars: Episode III  Revenge of the Sith    550\n",
      "Name: count, dtype: int64\n",
      "Unnamed: 6\n",
      "Star Wars: Episode IV  A New Hope    607\n",
      "NaN                                  579\n",
      "Name: count, dtype: int64\n",
      "Unnamed: 7\n",
      "Star Wars: Episode V The Empire Strikes Back    758\n",
      "NaN                                             428\n",
      "Name: count, dtype: int64\n",
      "Unnamed: 8\n",
      "Star Wars: Episode VI Return of the Jedi    738\n",
      "NaN                                         448\n",
      "Name: count, dtype: int64\n"
     ]
    }
   ],
   "source": [
    "#Checking the values in each column:\n",
    "target_columns = sws.columns[3:9]\n",
    "for c in target_columns:\n",
    "    print(sws[c].value_counts(dropna=False))"
   ]
  },
  {
   "cell_type": "markdown",
   "metadata": {},
   "source": [
    "All of these columns represent options for a single question. Each column represents a specific Star Wars movie, and the entries indicate whether a respondent has seen that movie or not. If a respondent has seen the movie, the movie’s name is recorded; if not, NaN is used."
   ]
  },
  {
   "cell_type": "code",
   "execution_count": 14,
   "metadata": {},
   "outputs": [
    {
     "data": {
      "text/plain": [
       "Which of the following Star Wars films have you seen? Please select all that apply.        Star Wars: Episode I  The Phantom Menace\n",
       "Unnamed: 4                                                                              Star Wars: Episode II  Attack of the Clones\n",
       "Unnamed: 5                                                                              Star Wars: Episode III  Revenge of the Sith\n",
       "Unnamed: 6                                                                                        Star Wars: Episode IV  A New Hope\n",
       "Unnamed: 7                                                                             Star Wars: Episode V The Empire Strikes Back\n",
       "Unnamed: 8                                                                                 Star Wars: Episode VI Return of the Jedi\n",
       "Name: 0, dtype: object"
      ]
     },
     "execution_count": 14,
     "metadata": {},
     "output_type": "execute_result"
    }
   ],
   "source": [
    "sws_info[target_columns]"
   ]
  },
  {
   "cell_type": "markdown",
   "metadata": {},
   "source": [
    "So. first we are going to change the names of these five columns. Before doing that it is important to note we are going to use a new column naming convention:\n",
    "- `Star Wars: Episode 1 – The Phantom Menace` -> will be designated as `_1` in our new column naming convention.\n",
    "- `Star Wars: Episode 2 – Attack of the Clones` -> will be designated as `_2` in our new column naming convention.\n",
    "- `Star Wars: Episode 3 – Revenge of the Sit` -> will be designated as `_3` in our new column naming convention.\n",
    "- `Star Wars: Episode 4 – A New Hope` -> will be designated as `_4` in our new column naming convention.\n",
    "- `Star Wars: Episode 5 – The Empire Strikes Back` -> will be designated as `_5` in our new column naming convention.\n",
    "- `Star Wars: Episode 6 – Return of the Jedi` -> will be designated as `_6` in our new column naming convention."
   ]
  },
  {
   "cell_type": "markdown",
   "metadata": {},
   "source": [
    "As a result:\n",
    "- The column `Which of the following Star Wars films have you seen? Please select all that apply. ... Star Wars: Episode I  The Phantom Menace` will be renamed to `seen_1`.\n",
    "- The column `Unnamed: 4  ... Star Wars: Episode II  Attack of the Clones` will be renamed to `seen_2`.\n",
    "- Similar renaming will be applied to the other columns."
   ]
  },
  {
   "cell_type": "code",
   "execution_count": 15,
   "metadata": {},
   "outputs": [
    {
     "data": {
      "text/html": [
       "<div>\n",
       "<style scoped>\n",
       "    .dataframe tbody tr th:only-of-type {\n",
       "        vertical-align: middle;\n",
       "    }\n",
       "\n",
       "    .dataframe tbody tr th {\n",
       "        vertical-align: top;\n",
       "    }\n",
       "\n",
       "    .dataframe thead th {\n",
       "        text-align: right;\n",
       "    }\n",
       "</style>\n",
       "<table border=\"1\" class=\"dataframe\">\n",
       "  <thead>\n",
       "    <tr style=\"text-align: right;\">\n",
       "      <th></th>\n",
       "      <th>seen_1</th>\n",
       "      <th>seen_2</th>\n",
       "      <th>seen_3</th>\n",
       "      <th>seen_4</th>\n",
       "      <th>seen_5</th>\n",
       "      <th>seen_6</th>\n",
       "    </tr>\n",
       "  </thead>\n",
       "  <tbody>\n",
       "    <tr>\n",
       "      <th>0</th>\n",
       "      <td>Star Wars: Episode I  The Phantom Menace</td>\n",
       "      <td>Star Wars: Episode II  Attack of the Clones</td>\n",
       "      <td>Star Wars: Episode III  Revenge of the Sith</td>\n",
       "      <td>Star Wars: Episode IV  A New Hope</td>\n",
       "      <td>Star Wars: Episode V The Empire Strikes Back</td>\n",
       "      <td>Star Wars: Episode VI Return of the Jedi</td>\n",
       "    </tr>\n",
       "    <tr>\n",
       "      <th>1</th>\n",
       "      <td>NaN</td>\n",
       "      <td>NaN</td>\n",
       "      <td>NaN</td>\n",
       "      <td>NaN</td>\n",
       "      <td>NaN</td>\n",
       "      <td>NaN</td>\n",
       "    </tr>\n",
       "    <tr>\n",
       "      <th>2</th>\n",
       "      <td>Star Wars: Episode I  The Phantom Menace</td>\n",
       "      <td>Star Wars: Episode II  Attack of the Clones</td>\n",
       "      <td>Star Wars: Episode III  Revenge of the Sith</td>\n",
       "      <td>NaN</td>\n",
       "      <td>NaN</td>\n",
       "      <td>NaN</td>\n",
       "    </tr>\n",
       "    <tr>\n",
       "      <th>3</th>\n",
       "      <td>Star Wars: Episode I  The Phantom Menace</td>\n",
       "      <td>Star Wars: Episode II  Attack of the Clones</td>\n",
       "      <td>Star Wars: Episode III  Revenge of the Sith</td>\n",
       "      <td>Star Wars: Episode IV  A New Hope</td>\n",
       "      <td>Star Wars: Episode V The Empire Strikes Back</td>\n",
       "      <td>Star Wars: Episode VI Return of the Jedi</td>\n",
       "    </tr>\n",
       "  </tbody>\n",
       "</table>\n",
       "</div>"
      ],
      "text/plain": [
       "                                     seen_1  \\\n",
       "0  Star Wars: Episode I  The Phantom Menace   \n",
       "1                                       NaN   \n",
       "2  Star Wars: Episode I  The Phantom Menace   \n",
       "3  Star Wars: Episode I  The Phantom Menace   \n",
       "\n",
       "                                        seen_2  \\\n",
       "0  Star Wars: Episode II  Attack of the Clones   \n",
       "1                                          NaN   \n",
       "2  Star Wars: Episode II  Attack of the Clones   \n",
       "3  Star Wars: Episode II  Attack of the Clones   \n",
       "\n",
       "                                        seen_3  \\\n",
       "0  Star Wars: Episode III  Revenge of the Sith   \n",
       "1                                          NaN   \n",
       "2  Star Wars: Episode III  Revenge of the Sith   \n",
       "3  Star Wars: Episode III  Revenge of the Sith   \n",
       "\n",
       "                              seen_4  \\\n",
       "0  Star Wars: Episode IV  A New Hope   \n",
       "1                                NaN   \n",
       "2                                NaN   \n",
       "3  Star Wars: Episode IV  A New Hope   \n",
       "\n",
       "                                         seen_5  \\\n",
       "0  Star Wars: Episode V The Empire Strikes Back   \n",
       "1                                           NaN   \n",
       "2                                           NaN   \n",
       "3  Star Wars: Episode V The Empire Strikes Back   \n",
       "\n",
       "                                     seen_6  \n",
       "0  Star Wars: Episode VI Return of the Jedi  \n",
       "1                                       NaN  \n",
       "2                                       NaN  \n",
       "3  Star Wars: Episode VI Return of the Jedi  "
      ]
     },
     "execution_count": 15,
     "metadata": {},
     "output_type": "execute_result"
    }
   ],
   "source": [
    "# Renaming columns:\n",
    "# 'Which of the following Star Wars films have you seen? Please select all that apply.' -> seen_1 \n",
    "# 'Unnamed: 4' -> seen_2 \n",
    "# 'Unnamed: 5' -> seen_3 \n",
    "# 'Unnamed: 6' -> seen_4 \n",
    "# 'Unnamed: 7' -> seen_5 \n",
    "# 'Unnamed: 8' -> seen_6 \n",
    "\n",
    "for c, r in zip(target_columns, range(1, 7)):\n",
    "    sws = sws.rename(columns= {c : 'seen_{}'.format(r)})\n",
    "\n",
    "sws.iloc[0:4,3:9]"
   ]
  },
  {
   "cell_type": "markdown",
   "metadata": {},
   "source": [
    "Now, in each column:\n",
    "- If the value is the name of one of the movies, we will convert it to `True`.\n",
    "- If it is `NaN`, we will convert it to `False`."
   ]
  },
  {
   "cell_type": "code",
   "execution_count": 16,
   "metadata": {},
   "outputs": [
    {
     "data": {
      "text/plain": [
       "Index(['seen_1', 'seen_2', 'seen_3', 'seen_4', 'seen_5', 'seen_6'], dtype='object')"
      ]
     },
     "execution_count": 16,
     "metadata": {},
     "output_type": "execute_result"
    }
   ],
   "source": [
    "renamed_columns = sws.columns[3:9]\n",
    "\n",
    "# Iterating over each column in the renamed_columns list [seen_1, seen_2, seen_3, seen_4, seen_5, seen_6]\n",
    "for c in renamed_columns:\n",
    "    # Getting the list of unique values which only has one value that is the movie name\n",
    "    value_list = sws[c].value_counts().index.tolist()\n",
    "    \n",
    "    # selecting the only value returned by index_list\n",
    "    movie_name = value_list[0]\n",
    "    \n",
    "    # Creating a dictionary to map the movie name to True and NaN to False\n",
    "    dictionary = {movie_name: True, np.NaN: False}\n",
    "    \n",
    "    # Mapping the values in each column to True or False using the dictionary\n",
    "    sws[c] = sws[c].map(dictionary)\n",
    "\n",
    "renamed_columns"
   ]
  },
  {
   "cell_type": "code",
   "execution_count": 17,
   "metadata": {},
   "outputs": [
    {
     "data": {
      "text/html": [
       "<div>\n",
       "<style scoped>\n",
       "    .dataframe tbody tr th:only-of-type {\n",
       "        vertical-align: middle;\n",
       "    }\n",
       "\n",
       "    .dataframe tbody tr th {\n",
       "        vertical-align: top;\n",
       "    }\n",
       "\n",
       "    .dataframe thead th {\n",
       "        text-align: right;\n",
       "    }\n",
       "</style>\n",
       "<table border=\"1\" class=\"dataframe\">\n",
       "  <thead>\n",
       "    <tr style=\"text-align: right;\">\n",
       "      <th></th>\n",
       "      <th>seen_1</th>\n",
       "      <th>seen_2</th>\n",
       "      <th>seen_3</th>\n",
       "      <th>seen_4</th>\n",
       "      <th>seen_5</th>\n",
       "      <th>seen_6</th>\n",
       "    </tr>\n",
       "  </thead>\n",
       "  <tbody>\n",
       "    <tr>\n",
       "      <th>0</th>\n",
       "      <td>True</td>\n",
       "      <td>True</td>\n",
       "      <td>True</td>\n",
       "      <td>True</td>\n",
       "      <td>True</td>\n",
       "      <td>True</td>\n",
       "    </tr>\n",
       "    <tr>\n",
       "      <th>1</th>\n",
       "      <td>False</td>\n",
       "      <td>False</td>\n",
       "      <td>False</td>\n",
       "      <td>False</td>\n",
       "      <td>False</td>\n",
       "      <td>False</td>\n",
       "    </tr>\n",
       "    <tr>\n",
       "      <th>2</th>\n",
       "      <td>True</td>\n",
       "      <td>True</td>\n",
       "      <td>True</td>\n",
       "      <td>False</td>\n",
       "      <td>False</td>\n",
       "      <td>False</td>\n",
       "    </tr>\n",
       "    <tr>\n",
       "      <th>3</th>\n",
       "      <td>True</td>\n",
       "      <td>True</td>\n",
       "      <td>True</td>\n",
       "      <td>True</td>\n",
       "      <td>True</td>\n",
       "      <td>True</td>\n",
       "    </tr>\n",
       "  </tbody>\n",
       "</table>\n",
       "</div>"
      ],
      "text/plain": [
       "   seen_1  seen_2  seen_3  seen_4  seen_5  seen_6\n",
       "0    True    True    True    True    True    True\n",
       "1   False   False   False   False   False   False\n",
       "2    True    True    True   False   False   False\n",
       "3    True    True    True    True    True    True"
      ]
     },
     "execution_count": 17,
     "metadata": {},
     "output_type": "execute_result"
    }
   ],
   "source": [
    "sws.iloc[0:4,3:9]"
   ]
  },
  {
   "cell_type": "markdown",
   "metadata": {},
   "source": [
    "Logic suggests that if the `seen_any` column is `False` for any row, then the values in the `seen_1` to `seen_6` columns should also be `False`. In other words, if a respondent has not seen any of the six movies , they should not have marked any of the `seen_1` to `seen_6` columns as `True`. Let's check this:"
   ]
  },
  {
   "cell_type": "code",
   "execution_count": 18,
   "metadata": {},
   "outputs": [
    {
     "name": "stdout",
     "output_type": "stream",
     "text": [
      "Empty DataFrame\n",
      "Columns: [RespondentID, seen_any, star_war_fan, seen_1, seen_2, seen_3, seen_4, seen_5, seen_6, Please rank the Star Wars films in order of preference with 1 being your favorite film in the franchise and 6 being your least favorite film., Unnamed: 10, Unnamed: 11, Unnamed: 12, Unnamed: 13, Unnamed: 14, Please state whether you view the following characters favorably, unfavorably, or are unfamiliar with him/her., Unnamed: 16, Unnamed: 17, Unnamed: 18, Unnamed: 19, Unnamed: 20, Unnamed: 21, Unnamed: 22, Unnamed: 23, Unnamed: 24, Unnamed: 25, Unnamed: 26, Unnamed: 27, Unnamed: 28, Which character shot first?, Are you familiar with the Expanded Universe?, Do you consider yourself to be a fan of the Expanded Universe?æ, Do you consider yourself to be a fan of the Star Trek franchise?, Gender, Age, Household Income, Education, Location (Census Region)]\n",
      "Index: []\n",
      "\n",
      "[0 rows x 38 columns]\n"
     ]
    }
   ],
   "source": [
    "filtered_rows = sws.loc[  \n",
    "    (sws['seen_any'] == False) &   \n",
    "    (sws[['seen_1', 'seen_2', 'seen_3', 'seen_4', 'seen_5', 'seen_6']].any(axis=1)==True)  \n",
    "]  \n",
    "\n",
    "# Display the filtered rows  \n",
    "print(filtered_rows) "
   ]
  },
  {
   "cell_type": "markdown",
   "metadata": {},
   "source": [
    "As observed, there are no such rows in our dataset, so no further action is needed."
   ]
  },
  {
   "cell_type": "markdown",
   "metadata": {},
   "source": [
    "## Tenth to Fifteenth Columns"
   ]
  },
  {
   "cell_type": "markdown",
   "metadata": {},
   "source": [
    "Here is what we have in these columns:"
   ]
  },
  {
   "cell_type": "code",
   "execution_count": 19,
   "metadata": {},
   "outputs": [
    {
     "data": {
      "text/html": [
       "<div>\n",
       "<style scoped>\n",
       "    .dataframe tbody tr th:only-of-type {\n",
       "        vertical-align: middle;\n",
       "    }\n",
       "\n",
       "    .dataframe tbody tr th {\n",
       "        vertical-align: top;\n",
       "    }\n",
       "\n",
       "    .dataframe thead th {\n",
       "        text-align: right;\n",
       "    }\n",
       "</style>\n",
       "<table border=\"1\" class=\"dataframe\">\n",
       "  <thead>\n",
       "    <tr style=\"text-align: right;\">\n",
       "      <th></th>\n",
       "      <th>Please rank the Star Wars films in order of preference with 1 being your favorite film in the franchise and 6 being your least favorite film.</th>\n",
       "      <th>Unnamed: 10</th>\n",
       "      <th>Unnamed: 11</th>\n",
       "      <th>Unnamed: 12</th>\n",
       "      <th>Unnamed: 13</th>\n",
       "      <th>Unnamed: 14</th>\n",
       "    </tr>\n",
       "  </thead>\n",
       "  <tbody>\n",
       "    <tr>\n",
       "      <th>0</th>\n",
       "      <td>3</td>\n",
       "      <td>2</td>\n",
       "      <td>1</td>\n",
       "      <td>4</td>\n",
       "      <td>5</td>\n",
       "      <td>6</td>\n",
       "    </tr>\n",
       "    <tr>\n",
       "      <th>1</th>\n",
       "      <td>NaN</td>\n",
       "      <td>NaN</td>\n",
       "      <td>NaN</td>\n",
       "      <td>NaN</td>\n",
       "      <td>NaN</td>\n",
       "      <td>NaN</td>\n",
       "    </tr>\n",
       "    <tr>\n",
       "      <th>2</th>\n",
       "      <td>1</td>\n",
       "      <td>2</td>\n",
       "      <td>3</td>\n",
       "      <td>4</td>\n",
       "      <td>5</td>\n",
       "      <td>6</td>\n",
       "    </tr>\n",
       "    <tr>\n",
       "      <th>3</th>\n",
       "      <td>5</td>\n",
       "      <td>6</td>\n",
       "      <td>1</td>\n",
       "      <td>2</td>\n",
       "      <td>4</td>\n",
       "      <td>3</td>\n",
       "    </tr>\n",
       "    <tr>\n",
       "      <th>4</th>\n",
       "      <td>5</td>\n",
       "      <td>4</td>\n",
       "      <td>6</td>\n",
       "      <td>2</td>\n",
       "      <td>1</td>\n",
       "      <td>3</td>\n",
       "    </tr>\n",
       "  </tbody>\n",
       "</table>\n",
       "</div>"
      ],
      "text/plain": [
       "  Please rank the Star Wars films in order of preference with 1 being your favorite film in the franchise and 6 being your least favorite film.  \\\n",
       "0                                                  3                                                                                              \n",
       "1                                                NaN                                                                                              \n",
       "2                                                  1                                                                                              \n",
       "3                                                  5                                                                                              \n",
       "4                                                  5                                                                                              \n",
       "\n",
       "  Unnamed: 10 Unnamed: 11 Unnamed: 12 Unnamed: 13 Unnamed: 14  \n",
       "0           2           1           4           5           6  \n",
       "1         NaN         NaN         NaN         NaN         NaN  \n",
       "2           2           3           4           5           6  \n",
       "3           6           1           2           4           3  \n",
       "4           4           6           2           1           3  "
      ]
     },
     "execution_count": 19,
     "metadata": {},
     "output_type": "execute_result"
    }
   ],
   "source": [
    "target_columns = sws.columns[9:15]\n",
    "sws[target_columns].head()"
   ]
  },
  {
   "cell_type": "markdown",
   "metadata": {},
   "source": [
    "These six columns ask the respondent to rank the Star Wars movies in order from least to most favorite. 1 means the film was the most favorite, and 6 means it was the least favorite. Each of the following columns can contain the value `1`, `2`, `3`, `4`, `5`, `6`, or `NaN`:"
   ]
  },
  {
   "cell_type": "markdown",
   "metadata": {},
   "source": [
    "To rename the columns we are going to use the similar column naming convention we used for the viewing moives but this time we will use `point_` instead of `seen_`:\n",
    "- `Star Wars: Episode 1 – The Phantom Menace` -> will be designated as `_1` in our new column naming convention.\n",
    "- `Star Wars: Episode 2 – Attack of the Clones` -> will be designated as `_2` in our new column naming convention.\n",
    "- `Star Wars: Episode 3 – Revenge of the Sit` -> will be designated as `_3` in our new column naming convention.\n",
    "- `Star Wars: Episode 4 – A New Hope` -> will be designated as `_4` in our new column naming convention.\n",
    "- `Star Wars: Episode 5 – The Empire Strikes Back` -> will be designated as `_5` in our new column naming convention.\n",
    "- `Star Wars: Episode 6 – Return of the Jedi` -> will be designated as `_6` in our new column naming convention."
   ]
  },
  {
   "cell_type": "markdown",
   "metadata": {},
   "source": [
    "As a result:\n",
    "- The column `Please rank the Star Wars films in order of preference with 1 being your favorite film in the franchise and 6 being your least favorite film.` will be renamed to `point_1`.\n",
    "- The column `Unnamed: 10` will be renamed to `point_2`.\n",
    "- Similar renaming will be applied to the other columns."
   ]
  },
  {
   "cell_type": "markdown",
   "metadata": {},
   "source": [
    "First, let's rename these columns:"
   ]
  },
  {
   "cell_type": "code",
   "execution_count": 20,
   "metadata": {},
   "outputs": [],
   "source": [
    "# Renaming columns:\n",
    "# 'Please rank the Star Wars films in order of preference with 1 being ... \n",
    "#  ... your favorite film in the franchise and 6 being your least favorite film.' -> point_1 \n",
    "# 'Unnamed: 10' -> point_2 \n",
    "# 'Unnamed: 11' -> point_3 \n",
    "# 'Unnamed: 12' -> point_4 \n",
    "# 'Unnamed: 13' -> point_5 \n",
    "# 'Unnamed: 14' -> point_6 \n",
    "\n",
    "for tc,n in zip(target_columns,range(1,7)):\n",
    "    new_name_for_column = 'point_{}'.format(n)\n",
    "    sws = sws.rename(columns={tc:new_name_for_column})"
   ]
  },
  {
   "cell_type": "code",
   "execution_count": 21,
   "metadata": {},
   "outputs": [
    {
     "data": {
      "text/plain": [
       "Index(['point_1', 'point_2', 'point_3', 'point_4', 'point_5', 'point_6'], dtype='object')"
      ]
     },
     "execution_count": 21,
     "metadata": {},
     "output_type": "execute_result"
    }
   ],
   "source": [
    "renamed_columns = sws.columns[9:15]\n",
    "# Checking ranamed columns:\n",
    "renamed_columns"
   ]
  },
  {
   "cell_type": "markdown",
   "metadata": {},
   "source": [
    "Now. Let's see what we have in these columns:"
   ]
  },
  {
   "cell_type": "code",
   "execution_count": 22,
   "metadata": {},
   "outputs": [
    {
     "data": {
      "text/html": [
       "<div>\n",
       "<style scoped>\n",
       "    .dataframe tbody tr th:only-of-type {\n",
       "        vertical-align: middle;\n",
       "    }\n",
       "\n",
       "    .dataframe tbody tr th {\n",
       "        vertical-align: top;\n",
       "    }\n",
       "\n",
       "    .dataframe thead th {\n",
       "        text-align: right;\n",
       "    }\n",
       "</style>\n",
       "<table border=\"1\" class=\"dataframe\">\n",
       "  <thead>\n",
       "    <tr style=\"text-align: right;\">\n",
       "      <th></th>\n",
       "      <th>point_1</th>\n",
       "      <th>point_2</th>\n",
       "      <th>point_3</th>\n",
       "      <th>point_4</th>\n",
       "      <th>point_5</th>\n",
       "      <th>point_6</th>\n",
       "    </tr>\n",
       "  </thead>\n",
       "  <tbody>\n",
       "    <tr>\n",
       "      <th>0</th>\n",
       "      <td>3</td>\n",
       "      <td>2</td>\n",
       "      <td>1</td>\n",
       "      <td>4</td>\n",
       "      <td>5</td>\n",
       "      <td>6</td>\n",
       "    </tr>\n",
       "    <tr>\n",
       "      <th>1</th>\n",
       "      <td>NaN</td>\n",
       "      <td>NaN</td>\n",
       "      <td>NaN</td>\n",
       "      <td>NaN</td>\n",
       "      <td>NaN</td>\n",
       "      <td>NaN</td>\n",
       "    </tr>\n",
       "    <tr>\n",
       "      <th>2</th>\n",
       "      <td>1</td>\n",
       "      <td>2</td>\n",
       "      <td>3</td>\n",
       "      <td>4</td>\n",
       "      <td>5</td>\n",
       "      <td>6</td>\n",
       "    </tr>\n",
       "    <tr>\n",
       "      <th>3</th>\n",
       "      <td>5</td>\n",
       "      <td>6</td>\n",
       "      <td>1</td>\n",
       "      <td>2</td>\n",
       "      <td>4</td>\n",
       "      <td>3</td>\n",
       "    </tr>\n",
       "    <tr>\n",
       "      <th>4</th>\n",
       "      <td>5</td>\n",
       "      <td>4</td>\n",
       "      <td>6</td>\n",
       "      <td>2</td>\n",
       "      <td>1</td>\n",
       "      <td>3</td>\n",
       "    </tr>\n",
       "  </tbody>\n",
       "</table>\n",
       "</div>"
      ],
      "text/plain": [
       "  point_1 point_2 point_3 point_4 point_5 point_6\n",
       "0       3       2       1       4       5       6\n",
       "1     NaN     NaN     NaN     NaN     NaN     NaN\n",
       "2       1       2       3       4       5       6\n",
       "3       5       6       1       2       4       3\n",
       "4       5       4       6       2       1       3"
      ]
     },
     "execution_count": 22,
     "metadata": {},
     "output_type": "execute_result"
    }
   ],
   "source": [
    "sws[renamed_columns].head()"
   ]
  },
  {
   "cell_type": "markdown",
   "metadata": {},
   "source": [
    "We will be making some changes to the data in these columns:\n",
    "- First, we need to convert these values to the float type, as we will perform calculations on them later.\n",
    "- Second, we will invert the numbers; the more favored an item is, the lower the number will be, while the higher the point value will increase.\n",
    "- Finally, we will examine the dataset for any illogical records and address them as needed."
   ]
  },
  {
   "cell_type": "markdown",
   "metadata": {},
   "source": [
    "### Convertimg to Float Type"
   ]
  },
  {
   "cell_type": "code",
   "execution_count": 23,
   "metadata": {},
   "outputs": [],
   "source": [
    "# Converting to 'float' datatype:\n",
    "for rc in renamed_columns:\n",
    "    sws[rc] = sws[rc].astype('float')"
   ]
  },
  {
   "cell_type": "markdown",
   "metadata": {},
   "source": [
    "### Inverting Numbers"
   ]
  },
  {
   "cell_type": "markdown",
   "metadata": {},
   "source": [
    "We want to convert these numbers to points. The more favored the item, the lower the number but the higher the points. This means we should reverse the numbers as follows:\n",
    "- 1 -> 6\n",
    "- 2 -> 5\n",
    "- 3 -> 4\n",
    "- 4 -> 3\n",
    "- 5 -> 2\n",
    "- 6 -> 1\n",
    "- Nan -> NaN"
   ]
  },
  {
   "cell_type": "code",
   "execution_count": 24,
   "metadata": {},
   "outputs": [
    {
     "data": {
      "text/html": [
       "<div>\n",
       "<style scoped>\n",
       "    .dataframe tbody tr th:only-of-type {\n",
       "        vertical-align: middle;\n",
       "    }\n",
       "\n",
       "    .dataframe tbody tr th {\n",
       "        vertical-align: top;\n",
       "    }\n",
       "\n",
       "    .dataframe thead th {\n",
       "        text-align: right;\n",
       "    }\n",
       "</style>\n",
       "<table border=\"1\" class=\"dataframe\">\n",
       "  <thead>\n",
       "    <tr style=\"text-align: right;\">\n",
       "      <th></th>\n",
       "      <th>point_1</th>\n",
       "      <th>point_2</th>\n",
       "      <th>point_3</th>\n",
       "      <th>point_4</th>\n",
       "      <th>point_5</th>\n",
       "      <th>point_6</th>\n",
       "    </tr>\n",
       "  </thead>\n",
       "  <tbody>\n",
       "    <tr>\n",
       "      <th>0</th>\n",
       "      <td>4.0</td>\n",
       "      <td>5.0</td>\n",
       "      <td>6.0</td>\n",
       "      <td>3.0</td>\n",
       "      <td>2.0</td>\n",
       "      <td>1.0</td>\n",
       "    </tr>\n",
       "    <tr>\n",
       "      <th>1</th>\n",
       "      <td>NaN</td>\n",
       "      <td>NaN</td>\n",
       "      <td>NaN</td>\n",
       "      <td>NaN</td>\n",
       "      <td>NaN</td>\n",
       "      <td>NaN</td>\n",
       "    </tr>\n",
       "    <tr>\n",
       "      <th>2</th>\n",
       "      <td>6.0</td>\n",
       "      <td>5.0</td>\n",
       "      <td>4.0</td>\n",
       "      <td>3.0</td>\n",
       "      <td>2.0</td>\n",
       "      <td>1.0</td>\n",
       "    </tr>\n",
       "    <tr>\n",
       "      <th>3</th>\n",
       "      <td>2.0</td>\n",
       "      <td>1.0</td>\n",
       "      <td>6.0</td>\n",
       "      <td>5.0</td>\n",
       "      <td>3.0</td>\n",
       "      <td>4.0</td>\n",
       "    </tr>\n",
       "    <tr>\n",
       "      <th>4</th>\n",
       "      <td>2.0</td>\n",
       "      <td>3.0</td>\n",
       "      <td>1.0</td>\n",
       "      <td>5.0</td>\n",
       "      <td>6.0</td>\n",
       "      <td>4.0</td>\n",
       "    </tr>\n",
       "  </tbody>\n",
       "</table>\n",
       "</div>"
      ],
      "text/plain": [
       "   point_1  point_2  point_3  point_4  point_5  point_6\n",
       "0      4.0      5.0      6.0      3.0      2.0      1.0\n",
       "1      NaN      NaN      NaN      NaN      NaN      NaN\n",
       "2      6.0      5.0      4.0      3.0      2.0      1.0\n",
       "3      2.0      1.0      6.0      5.0      3.0      4.0\n",
       "4      2.0      3.0      1.0      5.0      6.0      4.0"
      ]
     },
     "execution_count": 24,
     "metadata": {},
     "output_type": "execute_result"
    }
   ],
   "source": [
    "# Defining a function to convert the survey liking system to our points-based liking system:\n",
    "# For example: favorite(1) -> 6 points or least favorite(6) -> 1 point\n",
    "def favor_to_point(item):  \n",
    "    if item == 1:  \n",
    "        return 6  \n",
    "    elif item == 2:  \n",
    "        return 5  \n",
    "    elif item == 3:  \n",
    "        return 4  \n",
    "    elif item == 4:  \n",
    "        return 3  \n",
    "    elif item == 5:  \n",
    "        return 2  \n",
    "    elif item == 6:  \n",
    "        return 1  \n",
    "    else:  \n",
    "        return float('nan')  # Return NaN for any other input, including NaN\n",
    "\n",
    "# Applying the function to the specified columns:\n",
    "for c in renamed_columns:\n",
    "    sws[c] = sws[c].apply(favor_to_point)\n",
    "\n",
    "sws[renamed_columns].head()"
   ]
  },
  {
   "cell_type": "markdown",
   "metadata": {},
   "source": [
    "### Identifying and Addressing Data Anomalies"
   ]
  },
  {
   "cell_type": "markdown",
   "metadata": {},
   "source": [
    "Here we have a logic, if an individual has not seen a particular movie, they cannot form an opinion about it. Consequently, we will replace their rating for that movie with `NaN` to accurately reflect the absence of a valid opinion. Our goal is to maximize the accuracy of the data to the greatest extent possible."
   ]
  },
  {
   "cell_type": "code",
   "execution_count": 25,
   "metadata": {},
   "outputs": [
    {
     "name": "stdout",
     "output_type": "stream",
     "text": [
      "   seen_1  point_1\n",
      "9   False      6.0 \n",
      "\n",
      "    seen_2  point_2\n",
      "16   False      6.0 \n",
      "\n",
      "   seen_3  point_3\n",
      "9   False      4.0 \n",
      "\n",
      "   seen_4  point_4\n",
      "2   False      3.0 \n",
      "\n",
      "   seen_5  point_5\n",
      "2   False      2.0 \n",
      "\n",
      "   seen_6  point_6\n",
      "2   False      1.0 \n",
      "\n"
     ]
    }
   ],
   "source": [
    "for number in range(1, 7): # Looping through numbers 1 to 6\n",
    "    # Creating column names for 'seen' and 'point' based on the current number\n",
    "    seen_n = 'seen_{}'.format(number) \n",
    "    point_n = 'point_{}'.format(number)\n",
    "    \n",
    "    # Print the first row as an example where the movie has not been seen (seen_n is False)\n",
    "    # and the corresponding point_n is not NaN (pd.notna(sws[point_n]))\n",
    "    print(sws.loc[(sws[seen_n] == False) & (pd.notna(sws[point_n]))][[seen_n, point_n]].head(1),'\\n')"
   ]
  },
  {
   "cell_type": "code",
   "execution_count": 26,
   "metadata": {},
   "outputs": [],
   "source": [
    "for number in range(1, 7): # Looping through numbers 1 to 6\n",
    "    # Creating column names for 'seen' and 'point' based on the current number\n",
    "    seen_n = 'seen_{}'.format(number) \n",
    "    point_n = 'point_{}'.format(number)\n",
    "    \n",
    "    # Setting the point_n value to NaN for rows where the movie has not been seen (seen_n is False)\n",
    "    sws.loc[sws[seen_n] == False, point_n] = np.nan"
   ]
  },
  {
   "cell_type": "code",
   "execution_count": 27,
   "metadata": {},
   "outputs": [
    {
     "name": "stdout",
     "output_type": "stream",
     "text": [
      "Empty DataFrame\n",
      "Columns: [seen_1, point_1]\n",
      "Index: [] \n",
      "\n",
      "Empty DataFrame\n",
      "Columns: [seen_2, point_2]\n",
      "Index: [] \n",
      "\n",
      "Empty DataFrame\n",
      "Columns: [seen_3, point_3]\n",
      "Index: [] \n",
      "\n",
      "Empty DataFrame\n",
      "Columns: [seen_4, point_4]\n",
      "Index: [] \n",
      "\n",
      "Empty DataFrame\n",
      "Columns: [seen_5, point_5]\n",
      "Index: [] \n",
      "\n",
      "Empty DataFrame\n",
      "Columns: [seen_6, point_6]\n",
      "Index: [] \n",
      "\n"
     ]
    }
   ],
   "source": [
    "# Checking if our code has worked\n",
    "for number in range(1, 7): \n",
    "    seen_n = 'seen_{}'.format(number) \n",
    "    point_n = 'point_{}'.format(number)\n",
    "    print(sws.loc[(sws[seen_n] == False) & (pd.notna(sws[point_n]))][[seen_n, point_n]].head(1),'\\n')"
   ]
  },
  {
   "cell_type": "markdown",
   "metadata": {},
   "source": [
    "No additional steps are required."
   ]
  },
  {
   "cell_type": "code",
   "execution_count": null,
   "metadata": {},
   "outputs": [],
   "source": []
  },
  {
   "cell_type": "code",
   "execution_count": null,
   "metadata": {},
   "outputs": [],
   "source": []
  },
  {
   "cell_type": "code",
   "execution_count": null,
   "metadata": {},
   "outputs": [],
   "source": []
  },
  {
   "cell_type": "code",
   "execution_count": null,
   "metadata": {},
   "outputs": [],
   "source": []
  },
  {
   "cell_type": "code",
   "execution_count": null,
   "metadata": {},
   "outputs": [],
   "source": []
  },
  {
   "cell_type": "code",
   "execution_count": null,
   "metadata": {},
   "outputs": [],
   "source": []
  },
  {
   "cell_type": "markdown",
   "metadata": {},
   "source": [
    "## Sixteenth to Twenty-ninth Columns"
   ]
  },
  {
   "cell_type": "code",
   "execution_count": null,
   "metadata": {},
   "outputs": [],
   "source": [
    "sws.columns[15:29]"
   ]
  },
  {
   "cell_type": "markdown",
   "metadata": {},
   "source": [
    "The above columns relate to the popularity of characters in Star Wars movies:"
   ]
  },
  {
   "cell_type": "code",
   "execution_count": null,
   "metadata": {},
   "outputs": [],
   "source": [
    "# Checking the ‘sws_info’ dataset to identify which column corresponds to each character:\n",
    "sws_info[15:29]"
   ]
  },
  {
   "cell_type": "markdown",
   "metadata": {},
   "source": [
    "We are going to create a dictionary and use it for renaming these coloumns:"
   ]
  },
  {
   "cell_type": "code",
   "execution_count": null,
   "metadata": {},
   "outputs": [],
   "source": [
    "dictionary = {\n",
    "    'Please state whether you view the following characters favorably, unfavorably, or are unfamiliar with him/her.': 'Han Solo',\n",
    "    'Unnamed: 16': 'Luke Skywalker',\n",
    "    'Unnamed: 17': 'Princess Leia Organa',\n",
    "    'Unnamed: 18': 'Anakin Skywalker',\n",
    "    'Unnamed: 19': 'Obi Wan Kenobi',\n",
    "    'Unnamed: 20': 'Emperor Palpatine',\n",
    "    'Unnamed: 21': 'Darth Vader',\n",
    "    'Unnamed: 22': 'Lando Calrissian',\n",
    "    'Unnamed: 23': 'Boba Fett',\n",
    "    'Unnamed: 24': 'C-3P0',\n",
    "    'Unnamed: 25': 'R2 D2',\n",
    "    'Unnamed: 26': 'Jar Jar Binks',\n",
    "    'Unnamed: 27': 'Padme Amidala',\n",
    "    'Unnamed: 28': 'Yoda'\n",
    "}"
   ]
  },
  {
   "cell_type": "code",
   "execution_count": null,
   "metadata": {},
   "outputs": [],
   "source": [
    "# Renaming the specified columns:\n",
    "sws = sws.rename(columns = dictionary)"
   ]
  },
  {
   "cell_type": "code",
   "execution_count": null,
   "metadata": {},
   "outputs": [],
   "source": [
    "sws.columns[15:29]"
   ]
  },
  {
   "cell_type": "code",
   "execution_count": null,
   "metadata": {
    "scrolled": true
   },
   "outputs": [],
   "source": [
    "# Checking the values in each column:\n",
    "target_columns = sws.columns[15:29]\n",
    "for c in target_columns:\n",
    "    print(sws[c].value_counts(dropna=False),'\\n')"
   ]
  },
  {
   "cell_type": "markdown",
   "metadata": {},
   "source": [
    "As observed, for each character, respondents have been able to choose between the following options:\n",
    "- Very favorably\n",
    "- Somewhat favorably\n",
    "- Neither favorably nor unfavorably (neutral)\n",
    "- Somewhat unfavorably\n",
    "- Very unfavorably\n",
    "- Unfamiliar (N/A)\n",
    "<br><br>Some respondents have not chosen any option (`NaN`)."
   ]
  },
  {
   "cell_type": "markdown",
   "metadata": {},
   "source": [
    "Now, we want to add an extra column for each character in which some score will be stored according to respondent's answer which is as follows:\n",
    "- Very favorably -> `2`\n",
    "- Somewhat favorably -> `1`\n",
    "- Neither favorably nor unfavorably (neutral) -> `0`\n",
    "- Somewhat unfavorably -> `-1`\n",
    "- Very unfavorably -> `-2`\n",
    "- Unfamiliar (N/A) -> `0`\n",
    "- `NaN` -> `0`(N/A)"
   ]
  },
  {
   "cell_type": "code",
   "execution_count": null,
   "metadata": {},
   "outputs": [],
   "source": [
    "def give_score(favorabilty):\n",
    "    if favorabilty == \"Very favorably\":\n",
    "        return 2\n",
    "    elif favorabilty == \"Somewhat favorably\":\n",
    "        return 1\n",
    "    elif favorabilty == \"Neither favorably nor unfavorably (neutral)\":\n",
    "        return 0\n",
    "    elif favorabilty == \"Somewhat unfavorably\":\n",
    "        return -1\n",
    "    elif favorabilty == \"Very unfavorably\":\n",
    "        return -1\n",
    "    elif favorabilty == \"Unfamiliar (N/A)\" or pd.isnull(favorabilty):\n",
    "        return 0\n",
    "\n",
    "for column in target_columns:   # target_columns = sws.columns[15:29]\n",
    "    new_column_name = column  + \"_point\"\n",
    "    sws[new_column_name] = sws[column].apply(give_score)"
   ]
  },
  {
   "cell_type": "code",
   "execution_count": null,
   "metadata": {
    "scrolled": true
   },
   "outputs": [],
   "source": [
    "# Checking the result:\n",
    "character_columns = [\n",
    "    'Han Solo', 'Han Solo_point', 'Luke Skywalker', 'Luke Skywalker_point', 'Princess Leia Organa', 'Princess Leia Organa_point', 'Anakin Skywalker', 'Anakin Skywalker_point', \n",
    "    'Obi Wan Kenobi', 'Obi Wan Kenobi_point', 'Emperor Palpatine', 'Emperor Palpatine_point', 'Darth Vader', 'Darth Vader_point', 'Lando Calrissian', 'Lando Calrissian_point', \n",
    "    'Boba Fett', 'Boba Fett_point', 'C-3P0', 'C-3P0_point', 'R2 D2', 'R2 D2_point', 'Jar Jar Binks', 'Jar Jar Binks_point', 'Padme Amidala', 'Padme Amidala_point', 'Yoda', 'Yoda_point'\n",
    "]\n",
    "sws[character_columns].head()"
   ]
  },
  {
   "cell_type": "markdown",
   "metadata": {},
   "source": [
    "## 'Which character shot first?' and 'Are you familiar with the Expanded Universe?' Columns"
   ]
  },
  {
   "cell_type": "markdown",
   "metadata": {},
   "source": [
    "We do not want to use these columns, let's drop them:"
   ]
  },
  {
   "cell_type": "code",
   "execution_count": null,
   "metadata": {},
   "outputs": [],
   "source": [
    "sws.drop(columns=['Which character shot first?','Are you familiar with the Expanded Universe?'],inplace=True)"
   ]
  },
  {
   "cell_type": "markdown",
   "metadata": {},
   "source": [
    "## 'Do you consider yourself to be a fan of the Expanded Universe?' and 'Do you consider yourself to be a fan of the Star Trek franchise' Columns"
   ]
  },
  {
   "cell_type": "code",
   "execution_count": null,
   "metadata": {
    "scrolled": true
   },
   "outputs": [],
   "source": [
    "# Renaming the column\n",
    "rename_dictionary = {'Do you consider yourself to be a fan of the Expanded Universe?\\x8cæ': 'expanded_universe_fan',\n",
    "                    'Do you consider yourself to be a fan of the Star Trek franchise?': 'star_trek_fan'\n",
    "                    }\n",
    "sws = sws.rename(columns=rename_dictionary)"
   ]
  },
  {
   "cell_type": "code",
   "execution_count": null,
   "metadata": {
    "scrolled": true
   },
   "outputs": [],
   "source": [
    "# Checking the result:\n",
    "sws.columns[29:31]"
   ]
  },
  {
   "cell_type": "code",
   "execution_count": null,
   "metadata": {},
   "outputs": [],
   "source": [
    "# Checking the values:\n",
    "target_columns=['expanded_universe_fan', 'star_trek_fan']\n",
    "for column in target_columns:\n",
    "    print(sws[column].value_counts(dropna=False),'\\n')"
   ]
  },
  {
   "cell_type": "code",
   "execution_count": null,
   "metadata": {
    "scrolled": true
   },
   "outputs": [],
   "source": [
    "sws[target_columns].head()"
   ]
  },
  {
   "cell_type": "markdown",
   "metadata": {},
   "source": [
    "Here, we are going to do the same thing we did with the values of the `star_war_fan` and `star_war_seen` columns:"
   ]
  },
  {
   "cell_type": "code",
   "execution_count": null,
   "metadata": {},
   "outputs": [],
   "source": [
    "# Creating a dictionary: \n",
    "yes_no_dictionary = {'Yes':True,\n",
    "                     'No':False,\n",
    "                    }\n",
    "\n",
    "# Using the dictionary above to convert 'Yes' and 'No' to True and False:\n",
    "for tc in  target_columns:\n",
    "    sws[tc] = sws[tc].map(yes_no_dictionary)"
   ]
  },
  {
   "cell_type": "code",
   "execution_count": null,
   "metadata": {},
   "outputs": [],
   "source": [
    "# Checking the result:\n",
    "sws[target_columns].head()"
   ]
  },
  {
   "cell_type": "markdown",
   "metadata": {},
   "source": [
    "## 'Gender' Column"
   ]
  },
  {
   "cell_type": "code",
   "execution_count": null,
   "metadata": {
    "scrolled": true
   },
   "outputs": [],
   "source": [
    "# Renaming the column:\n",
    "sws.rename(columns={'Gender':'gender'},inplace=True)"
   ]
  },
  {
   "cell_type": "code",
   "execution_count": null,
   "metadata": {},
   "outputs": [],
   "source": [
    "# Checking the values:\n",
    "sws['gender'].value_counts(dropna=False)"
   ]
  },
  {
   "cell_type": "markdown",
   "metadata": {},
   "source": [
    "## 'Age' Column"
   ]
  },
  {
   "cell_type": "code",
   "execution_count": null,
   "metadata": {
    "scrolled": true
   },
   "outputs": [],
   "source": [
    "# Renaming the column:\n",
    "sws.rename(columns={'Age':'age'},inplace=True)"
   ]
  },
  {
   "cell_type": "code",
   "execution_count": null,
   "metadata": {},
   "outputs": [],
   "source": [
    "sws['age'].value_counts(dropna=False)"
   ]
  },
  {
   "cell_type": "markdown",
   "metadata": {},
   "source": [
    "## 'Household Income' Column"
   ]
  },
  {
   "cell_type": "code",
   "execution_count": null,
   "metadata": {},
   "outputs": [],
   "source": [
    "# Renaming the column:\n",
    "sws.rename(columns={'Household Income':'household_income'},inplace=True)"
   ]
  },
  {
   "cell_type": "code",
   "execution_count": null,
   "metadata": {},
   "outputs": [],
   "source": [
    "# Checking the values:\n",
    "sws['household_income'].value_counts(dropna=False) "
   ]
  },
  {
   "cell_type": "markdown",
   "metadata": {},
   "source": [
    "We can create a column for household income category:"
   ]
  },
  {
   "cell_type": "code",
   "execution_count": null,
   "metadata": {
    "scrolled": true
   },
   "outputs": [],
   "source": [
    "# Create a mapping for income categories  \n",
    "def categorize_income(income):  \n",
    "    if pd.isna(income):  \n",
    "        return np.NaN  # Keep as NaN for unknown  \n",
    "    elif income == '$0 - $24,999':  \n",
    "        return 'Low Income'  \n",
    "    elif income == '$25,000 - $49,999':  \n",
    "        return 'Lower-Middle Income'  \n",
    "    elif income == '$50,000 - $99,999':  \n",
    "        return 'Middle Income'  \n",
    "    elif income == '$100,000 - $149,999':  \n",
    "        return 'Upper-Middle Income'  \n",
    "    elif income == '$150,000+':  \n",
    "        return 'High Income'  \n",
    "    else:  \n",
    "        return 'Other'  \n",
    "\n",
    "# Apply the categorization  \n",
    "sws['household_income_category'] = sws['household_income'].apply(categorize_income)  "
   ]
  },
  {
   "cell_type": "code",
   "execution_count": null,
   "metadata": {},
   "outputs": [],
   "source": [
    "# Checking the result:\n",
    "sws['household_income_category'].value_counts(dropna=False)"
   ]
  },
  {
   "cell_type": "markdown",
   "metadata": {},
   "source": [
    "## 'Education' Column"
   ]
  },
  {
   "cell_type": "code",
   "execution_count": null,
   "metadata": {
    "scrolled": true
   },
   "outputs": [],
   "source": [
    "# Renaming the column:\n",
    "sws.rename(columns={'Education':'education'},inplace=True)"
   ]
  },
  {
   "cell_type": "code",
   "execution_count": null,
   "metadata": {},
   "outputs": [],
   "source": [
    "# Checking the values:\n",
    "sws['education'].value_counts(dropna=False)"
   ]
  },
  {
   "cell_type": "code",
   "execution_count": null,
   "metadata": {},
   "outputs": [],
   "source": [
    "# Create a mapping for renaming education categories\n",
    "def rename_education(ed):  \n",
    "    if pd.isna(ed):  \n",
    "        return np.NaN  # Keep as NaN for unknown  \n",
    "    elif ed == 'Some college or Associate degree':  \n",
    "        return 'Some college'  \n",
    "    elif ed == 'Bachelor degree':  \n",
    "        return \"Bachelor's\"  \n",
    "    elif ed == 'Graduate degree':  \n",
    "        return 'Graduate'  \n",
    "    elif ed == 'High school degree':  \n",
    "        return 'High school'  \n",
    "    elif ed == 'Less than high school degree':  \n",
    "        return 'No diploma'  \n",
    "    else:  \n",
    "        return 'Other'  \n",
    "\n",
    "# Apply the categorization  \n",
    "sws['education'] = sws['education'].apply(rename_education)  "
   ]
  },
  {
   "cell_type": "code",
   "execution_count": null,
   "metadata": {},
   "outputs": [],
   "source": [
    "# Checking the values:\n",
    "sws['education'].value_counts(dropna=False)"
   ]
  },
  {
   "cell_type": "markdown",
   "metadata": {},
   "source": [
    "## 'Location (Census Region)' Column"
   ]
  },
  {
   "cell_type": "code",
   "execution_count": null,
   "metadata": {},
   "outputs": [],
   "source": [
    "# Renaming the column:\n",
    "sws.rename(columns={'Location (Census Region)':'location'},inplace=True)"
   ]
  },
  {
   "cell_type": "code",
   "execution_count": null,
   "metadata": {},
   "outputs": [],
   "source": [
    "# Checking the values:\n",
    "sws['location'].value_counts(dropna=False)"
   ]
  },
  {
   "cell_type": "code",
   "execution_count": null,
   "metadata": {},
   "outputs": [],
   "source": [
    "## According to US Census Bureau regions and divisions:\n",
    "# East North Central: Includes states like Ohio, Indiana, Illinois, Michigan, and Wisconsin.\n",
    "# Pacific: Includes the states of California, Oregon, Washington, Alaska, and Hawaii.\n",
    "# South Atlantic: Comprises states like Florida, Georgia, South Carolina, North Carolina, and others along the southeastern coast.\n",
    "# Middle Atlantic: Consists of New York, New Jersey, and Pennsylvania.\n",
    "# West South Central: Includes Texas, Oklahoma, Arkansas, and Louisiana.\n",
    "# West North Central: Comprises states like North Dakota, South Dakota, Nebraska, Kansas, Iowa, Minnesota, and Missouri.\n",
    "# Mountain: Encompasses states like Colorado, Utah, Arizona, Nevada, New Mexico, Idaho, Montana, and Wyoming.\n",
    "# New England: Includes states such as Maine, New Hampshire, Vermont, Massachusetts, Rhode Island, and Connecticut.\n",
    "# East South Central: Comprises states like Kentucky, Tennessee, Mississippi, and Alabama.\n",
    "# NaN: This value represents missing data and does not correspond to any region."
   ]
  },
  {
   "cell_type": "code",
   "execution_count": null,
   "metadata": {},
   "outputs": [],
   "source": []
  },
  {
   "cell_type": "code",
   "execution_count": null,
   "metadata": {},
   "outputs": [],
   "source": [
    "sws"
   ]
  },
  {
   "cell_type": "markdown",
   "metadata": {},
   "source": [
    "# Analysis"
   ]
  },
  {
   "cell_type": "code",
   "execution_count": null,
   "metadata": {},
   "outputs": [],
   "source": []
  },
  {
   "cell_type": "code",
   "execution_count": null,
   "metadata": {},
   "outputs": [],
   "source": []
  },
  {
   "cell_type": "code",
   "execution_count": null,
   "metadata": {},
   "outputs": [],
   "source": []
  },
  {
   "cell_type": "code",
   "execution_count": null,
   "metadata": {},
   "outputs": [],
   "source": []
  },
  {
   "cell_type": "code",
   "execution_count": null,
   "metadata": {},
   "outputs": [],
   "source": [
    "sws.iloc[16][['seen_1', 'seen_2', 'seen_3', 'seen_4', 'seen_5', 'seen_6',   \n",
    "              'point_1', 'point_2', 'point_3', 'point_4', 'point_5', 'point_6']]"
   ]
  },
  {
   "cell_type": "code",
   "execution_count": null,
   "metadata": {},
   "outputs": [],
   "source": []
  },
  {
   "cell_type": "code",
   "execution_count": null,
   "metadata": {},
   "outputs": [],
   "source": []
  },
  {
   "cell_type": "code",
   "execution_count": null,
   "metadata": {},
   "outputs": [],
   "source": []
  },
  {
   "cell_type": "code",
   "execution_count": null,
   "metadata": {},
   "outputs": [],
   "source": []
  },
  {
   "cell_type": "code",
   "execution_count": null,
   "metadata": {},
   "outputs": [],
   "source": [
    "cs = sws.columns\n",
    "for c in cs:\n",
    "    print(c)"
   ]
  },
  {
   "cell_type": "markdown",
   "metadata": {},
   "source": [
    "## Viewers of Any 6 Star Wars Films (%)"
   ]
  },
  {
   "cell_type": "code",
   "execution_count": null,
   "metadata": {},
   "outputs": [],
   "source": [
    "seen_any_yes_percentage = sws['seen_any'].mean() *100\n",
    "seen_any_no_percentage = 100 - seen_any_yes_percentage\n",
    "# Plotting the pie chart  \n",
    "plt.figure(figsize=(5, 5))  \n",
    "plt.pie([seen_any_yes_percentage,seen_any_no_percentage], labels=['Seen','Not Seen'], autopct='%1.1f%%', startangle=90,colors=['#CED46A','#F0EDCC'])\n",
    "plt.title('Viewers of Any 6 Star Wars Films')\n",
    "plt.show()"
   ]
  },
  {
   "cell_type": "markdown",
   "metadata": {},
   "source": [
    "## Star Wars Viewers Who Are Fans (%)"
   ]
  },
  {
   "cell_type": "code",
   "execution_count": null,
   "metadata": {},
   "outputs": [],
   "source": [
    "star_war_fan_yes = sws['star_war_fan'].sum()\n",
    "seen_any_yes = sws['seen_any'].sum()\n",
    "star_war_fan_percentage_among_seen = (star_war_fan_yes / seen_any_yes) * 100\n",
    "star_war_no_fan_percentage_among_seen = 100 - star_war_fan_percentage_among_seen\n",
    "# Plotting the pie chart  \n",
    "plt.figure(figsize=(5, 5))  \n",
    "plt.pie([star_war_fan_percentage_among_seen,star_war_no_fan_percentage_among_seen], labels=['Fan','No Fan'], autopct='%1.1f%%', startangle=90,colors=['#CED46A','#F0EDCC'])\n",
    "plt.title('Star Wars Viewers Who Are Fans')\n",
    "plt.show()"
   ]
  },
  {
   "cell_type": "markdown",
   "metadata": {},
   "source": [
    "## Viewing Rates for Each Star Wars Episode"
   ]
  },
  {
   "cell_type": "code",
   "execution_count": null,
   "metadata": {},
   "outputs": [],
   "source": [
    "star_wars_movie_names_list = [\"The Phantom Menace\",  \"Attack of the Clones\",  \"Revenge of the Sith\",  \n",
    "                              \"A New Hope\",  \"The Empire Strikes Back\",  \"Return of the Jedi\"] \n",
    "\n",
    "# Calculate seen percentages for each movie  \n",
    "seen_percentage = sws[['seen_1', 'seen_2', 'seen_3', 'seen_4', 'seen_5', 'seen_6']].mean()\n",
    "seen_percentage.index = star_wars_movie_names_list\n",
    "seen_percentage.plot.bar(color = ['#3498db', '#e74c3c', '#2ecc71', '#f39c12', '#9b59b6', '#1abc9c'], ylabel='Viewing Rate', title='Viewing Rates for Each Star Wars Episode')"
   ]
  },
  {
   "cell_type": "markdown",
   "metadata": {},
   "source": [
    "## Populariy Score for Each Star Wars Episode"
   ]
  },
  {
   "cell_type": "code",
   "execution_count": null,
   "metadata": {},
   "outputs": [],
   "source": [
    "star_wars_movie_names_list = [\"The Phantom Menace\",  \"Attack of the Clones\",  \"Revenge of the Sith\",  \n",
    "                              \"A New Hope\",  \"The Empire Strikes Back\",  \"Return of the Jedi\"] \n",
    "\n",
    "# Calculate popularity score for each movie \n",
    "popularity_score = sws[['point_1', 'point_2', 'point_3', 'point_4', 'point_5', 'point_6']].mean()\n",
    "popularity_score.index = star_wars_movie_names_list\n",
    "popularity_score.plot.bar(color = ['#3498db', '#e74c3c', '#2ecc71', '#f39c12', '#9b59b6', '#1abc9c'], ylabel='Populariy Score', title='Populariy Score for Each Star Wars Episode')"
   ]
  },
  {
   "cell_type": "markdown",
   "metadata": {},
   "source": [
    "## War Star characters Popularity Points"
   ]
  },
  {
   "cell_type": "code",
   "execution_count": null,
   "metadata": {},
   "outputs": [],
   "source": [
    "characters = ['Han Solo', 'Luke Skywalker', 'Princess Leia Organa',\n",
    "              'Anakin Skywalker', 'Obi Wan Kenobi', 'Emperor Palpatine',\n",
    "              'Darth Vader', 'Lando Calrissian', 'Boba Fett', 'C-3P0', 'R2 D2',\n",
    "              'Jar Jar Binks', 'Padme Amidala', 'Yoda']\n",
    "characters_points = ['Han Solo_point', 'Luke Skywalker_point', 'Princess Leia Organa_point','Anakin Skywalker_point', \n",
    "                     'Obi Wan Kenobi_point', 'Emperor Palpatine_point','Darth Vader_point', 'Lando Calrissian_point', \n",
    "                     'Boba Fett_point', 'C-3P0_point','R2 D2_point', 'Jar Jar Binks_point', 'Padme Amidala_point', 'Yoda_point']\n",
    "characters_popularity_scores = sws[characters_points].mean() \n",
    "characters_popularity_scores.index = characters_popularity_scores.index.str.replace('_point', '', regex=False)\n",
    "characters_popularity_scores"
   ]
  },
  {
   "cell_type": "code",
   "execution_count": null,
   "metadata": {},
   "outputs": [],
   "source": [
    "colors = [\n",
    "    '#1f77b4',  # Blue\n",
    "    '#ff7f0e',  # Orange\n",
    "    '#2ca02c',  # Green\n",
    "    '#d62728',  # Red\n",
    "    '#9467bd',  # Purple\n",
    "    '#8c564b',  # Brown\n",
    "    '#e377c2',  # Pink\n",
    "    '#7f7f7f',  # Gray\n",
    "    '#bcbd22',  # Olive\n",
    "    '#17becf',  # Cyan\n",
    "    '#ffbb78',  # Light Orange\n",
    "    '#98df8a',  # Light Green\n",
    "    '#ff9896',  # Light Red\n",
    "    '#c5b0d5'   # Light Purple\n",
    "]\n",
    "\n",
    "characters_popularity_scores.sort_values(ascending=False).plot.bar(color=colors)"
   ]
  },
  {
   "cell_type": "code",
   "execution_count": null,
   "metadata": {},
   "outputs": [],
   "source": [
    "characters = ['Han Solo', 'Luke Skywalker', 'Princess Leia Organa',\n",
    "              'Anakin Skywalker', 'Obi Wan Kenobi', 'Emperor Palpatine',\n",
    "              'Darth Vader', 'Lando Calrissian', 'Boba Fett', 'C-3P0', 'R2 D2',\n",
    "              'Jar Jar Binks', 'Padme Amidala', 'Yoda']\n",
    "\n",
    "# Initialize an empty DataFrame to store all characters' data\n",
    "swf_characters = pd.DataFrame(columns=['character', 'very negative', 'negative', 'neutral', 'positive', 'very positive'])\n",
    "\n",
    "for character in characters:\n",
    "    counts = sws[character].value_counts(dropna=False).sort_index().tolist()\n",
    "    very_unfavorably = counts[5]\n",
    "    somewhat_unfavorably = counts[2]\n",
    "    neutral = counts[0]\n",
    "    somewhat_favorably = counts[1]\n",
    "    very_favorably = counts[4]\n",
    "    \n",
    "    # Create a DataFrame for the current character\n",
    "    character_df = pd.DataFrame({\n",
    "        'character': [character],\n",
    "        'very negative': [very_unfavorably],\n",
    "        'negative': [somewhat_unfavorably],\n",
    "        'neutral': [neutral],\n",
    "        'positive': [somewhat_favorably],\n",
    "        'very positive': [very_favorably]\n",
    "    })\n",
    "    \n",
    "    # Append the current character's DataFrame to the main DataFrame\n",
    "    swf_characters = pd.concat([swf_characters, character_df], ignore_index=True)\n",
    "\n",
    "print(swf_characters)"
   ]
  },
  {
   "cell_type": "code",
   "execution_count": null,
   "metadata": {},
   "outputs": [],
   "source": [
    "swf_characters.plot.barh(x='character',ylabel='Star War Characters',xlabel='Number of People',width=0.8, figsize=(10,10), color = ['red', 'orange', 'yellow', 'lightgreen', 'darkgreen'])"
   ]
  },
  {
   "cell_type": "markdown",
   "metadata": {},
   "source": [
    "## Star War fans who are also expanded universe fan or star trek fan"
   ]
  },
  {
   "cell_type": "code",
   "execution_count": null,
   "metadata": {},
   "outputs": [],
   "source": [
    "star_war_fan_count = sws[sws['star_war_fan']==True].shape[0]\n",
    "star_war_fan_and_expanded_universe_fan_count = sws[(sws['star_war_fan']==True)&(sws['expanded_universe_fan']==True)].shape[0]\n",
    "star_war_fan_and_expanded_star_trek_count = sws[(sws['star_war_fan']==True)&(sws['star_trek_fan']==True)].shape[0]\n",
    "star_war_fan_and_expanded_universe_fan_percentage = (star_war_fan_and_expanded_universe_fan_count / star_war_fan_count) * 100\n",
    "star_war_fan_and_expanded_star_trek_percentage = (star_war_fan_and_expanded_star_trek_count / star_war_fan_count) * 100\n",
    "print('Star War fans who are also Expanded Universe fan: {}'.format(star_war_fan_and_expanded_universe_fan_percentage))\n",
    "print('Star War fans who are also Star Trek fan: {}'.format(star_war_fan_and_expanded_star_trek_percentage))"
   ]
  },
  {
   "cell_type": "markdown",
   "metadata": {},
   "source": [
    "## Gender"
   ]
  },
  {
   "cell_type": "markdown",
   "metadata": {},
   "source": []
  },
  {
   "cell_type": "code",
   "execution_count": null,
   "metadata": {},
   "outputs": [],
   "source": [
    "gender_seen_yes_percentages = sws.pivot_table('seen_any','gender',aggfunc='mean')['seen_any'].tolist()\n",
    "\n",
    "# Data\n",
    "categories = ['male', 'female']\n",
    "values = [gender_seen_yes_percentages[1], gender_seen_yes_percentages[0]]\n",
    "\n",
    "# Creating a bar plot\n",
    "plt.title('Percentage of Genders Who Have Seen Any Star Wars Movie')\n",
    "plt.bar(categories, values, color=['lightblue','pink'])"
   ]
  },
  {
   "cell_type": "code",
   "execution_count": null,
   "metadata": {},
   "outputs": [],
   "source": [
    "gender_points_for_movies = sws.pivot_table(['point_1','point_2','point_3','point_4','point_5','point_6'],'gender',aggfunc='mean')"
   ]
  },
  {
   "cell_type": "code",
   "execution_count": null,
   "metadata": {},
   "outputs": [],
   "source": [
    "star_wars_movie_names_dic = { \n",
    "    'point_1': \"The Phantom Menace\",  \n",
    "    'point_2': \"Attack of the Clones\",  \n",
    "    'point_3': \"Revenge of the Sith\",  \n",
    "    'point_4': \"A New Hope\",  \n",
    "    'point_5': \"The Empire Strikes Back\",  \n",
    "    'point_6': \"Return of the Jedi\"  \n",
    "} \n",
    "\n",
    "gender_points_for_movies = gender_points_for_movies.rename(columns= star_wars_movie_names_dic)\n",
    "\n",
    "female_points_for_movies = gender_points_for_movies.loc['Female']\n",
    "male_points_for_movies = gender_points_for_movies.loc['Male']\n",
    "\n",
    "movie_names = male_points_for_movies.index # or female_points_for_movies.index\n",
    "female_points_for_movies = female_points_for_movies.tolist()\n",
    "male_points_for_movies = male_points_for_movies.tolist()\n",
    "\n",
    "fig, (ax1, ax2) = plt.subplots(1,2,figsize=(14, 7))\n",
    "\n",
    "ax1.bar(movie_names, male_points_for_movies,color='lightblue')\n",
    "ax1.set_title('Movies Popularity Scores by Male')\n",
    "ax1.tick_params(axis='x', labelrotation=90)\n",
    "\n",
    "ax2.bar(movie_names, female_points_for_movies,color='pink')\n",
    "ax2.set_title('Movies Popularity Scores by Female')\n",
    "ax2.tick_params(axis='x', labelrotation=90)"
   ]
  },
  {
   "cell_type": "code",
   "execution_count": null,
   "metadata": {},
   "outputs": [],
   "source": [
    "character_point_columns = ['Han Solo_point', 'Luke Skywalker_point', 'Princess Leia Organa_point', \n",
    "                            'Anakin Skywalker_point', 'Obi Wan Kenobi_point', 'Emperor Palpatine_point', \n",
    "                            'Darth Vader_point', 'Lando Calrissian_point', 'Boba Fett_point', 'C-3P0_point', \n",
    "                            'R2 D2_point', 'Jar Jar Binks_point', 'Padme Amidala_point', 'Yoda_point']\n",
    "\n",
    "gender_points_for_characters = sws.pivot_table(character_point_columns,'gender',aggfunc='mean')\n",
    "gender_points_for_characters.columns = gender_points_for_characters.columns.str.replace('_point', '')\n",
    "\n",
    "female_points_for_characters = gender_points_for_characters.loc['Female'].sort_values(ascending=False)\n",
    "male_points_for_characters = gender_points_for_characters.loc['Male'].sort_values(ascending=False)\n",
    "\n",
    "characters_names_in_order_for_male = male_points_for_characters.index\n",
    "characters_names_in_order_for_female = female_points_for_characters.index\n",
    "\n",
    "female_points = female_points_for_characters.tolist()\n",
    "male_points = male_points_for_characters.tolist()\n",
    "\n",
    "print('male: ', characters_names_in_order_for_male)\n",
    "print('female: ', characters_names_in_order_for_female)"
   ]
  },
  {
   "cell_type": "code",
   "execution_count": null,
   "metadata": {},
   "outputs": [],
   "source": [
    "fig, (ax1, ax2) = plt.subplots(1,2,figsize=(15,5))\n",
    "\n",
    "ax1.bar(characters_names_in_order_for_male,male_points,color='lightblue')\n",
    "ax1.tick_params(axis='x', labelrotation=90)\n",
    "ax1.set_title(\"Characters' Popularity Scores by Male\")\n",
    "\n",
    "ax2.bar(characters_names_in_order_for_female,female_points,color='pink')\n",
    "ax2.tick_params(axis='x', labelrotation=90)\n",
    "ax2.set_title(\"Characters' Popularity Scores by Female\") "
   ]
  },
  {
   "cell_type": "markdown",
   "metadata": {},
   "source": [
    "## Age"
   ]
  },
  {
   "cell_type": "code",
   "execution_count": null,
   "metadata": {},
   "outputs": [],
   "source": [
    "age_movies_points = sws.pivot_table(['point_1','point_2','point_3','point_4','point_5','point_6'],'age',aggfunc='mean')\n",
    "\n",
    "star_wars_movie_names_dic = { \n",
    "    'point_1': \"The Phantom Menace\",  \n",
    "    'point_2': \"Attack of the Clones\",  \n",
    "    'point_3': \"Revenge of the Sith\",  \n",
    "    'point_4': \"A New Hope\",  \n",
    "    'point_5': \"The Empire Strikes Back\",  \n",
    "    'point_6': \"Return of the Jedi\"  \n",
    "} \n",
    "\n",
    "age_movies_points = age_movies_points.rename(columns=star_wars_movie_names_dic)\n",
    "\n",
    "ax = age_movies_points.plot.bar(title='Movies Popularity Score by Age',figsize=(10, 5), color = ['#3498db', '#e74c3c', '#2ecc71', '#f39c12', '#9b59b6', '#1abc9c'])\n",
    "\n",
    "ax.set_ylabel('Popularity Score')\n",
    "ax.set_xlabel('Age Range')\n",
    "\n",
    "# Adjusting the legend size and position\n",
    "ax.legend(prop={'size': 8}, loc='upper left', bbox_to_anchor=(1, 1))\n",
    "\n",
    "plt.tight_layout()\n",
    "\n",
    "\n"
   ]
  },
  {
   "cell_type": "code",
   "execution_count": null,
   "metadata": {},
   "outputs": [],
   "source": [
    "character_point_columns = ['Han Solo_point', 'Luke Skywalker_point', 'Princess Leia Organa_point', \n",
    "                            'Anakin Skywalker_point', 'Obi Wan Kenobi_point', 'Emperor Palpatine_point', \n",
    "                            'Darth Vader_point', 'Lando Calrissian_point', 'Boba Fett_point', 'C-3P0_point', \n",
    "                            'R2 D2_point', 'Jar Jar Binks_point', 'Padme Amidala_point', 'Yoda_point']\n",
    "\n",
    "colors = [\n",
    "    '#1f77b4',  # Blue\n",
    "    '#ff7f0e',  # Orange\n",
    "    '#2ca02c',  # Green\n",
    "    '#d62728',  # Red\n",
    "    '#9467bd',  # Purple\n",
    "    '#8c564b',  # Brown\n",
    "    '#e377c2',  # Pink\n",
    "    '#7f7f7f',  # Gray\n",
    "    '#bcbd22',  # Olive\n",
    "    '#17becf',  # Cyan\n",
    "    '#ffbb78',  # Light Orange\n",
    "    '#98df8a',  # Light Green\n",
    "    '#ff9896',  # Light Red\n",
    "    '#c5b0d5'   # Light Purple\n",
    "]\n",
    "\n",
    "age_characters_points = sws.pivot_table(character_point_columns,'age',aggfunc='mean')\n",
    "\n",
    "character_names = {col: col.replace('_point','') for col in character_point_columns}\n",
    "\n",
    "age_characters_points = age_characters_points.rename(columns=character_names)\n",
    "\n",
    "ax = age_characters_points.plot.bar(title=\"Characters' Popularity Score by Age\",figsize=(10, 5),width=0.9, color = colors)\n",
    "\n",
    "ax.set_ylabel('Popularity Score')\n",
    "ax.set_xlabel('Age Range')\n",
    "\n",
    "# Adjusting the legend size and position\n",
    "ax.legend(prop={'size': 8}, loc='upper left', bbox_to_anchor=(1, 1))\n",
    "\n",
    "plt.tight_layout()\n",
    "\n",
    "\n"
   ]
  },
  {
   "cell_type": "markdown",
   "metadata": {},
   "source": [
    "## Household Income"
   ]
  },
  {
   "cell_type": "code",
   "execution_count": null,
   "metadata": {},
   "outputs": [],
   "source": [
    "household_income_movies_points = sws.pivot_table(['point_1','point_2','point_3','point_4','point_5','point_6'],'household_income_category',aggfunc='mean')\n",
    "\n",
    "star_wars_movie_names_dic = { \n",
    "    'point_1': \"The Phantom Menace\",  \n",
    "    'point_2': \"Attack of the Clones\",  \n",
    "    'point_3': \"Revenge of the Sith\",  \n",
    "    'point_4': \"A New Hope\",  \n",
    "    'point_5': \"The Empire Strikes Back\",  \n",
    "    'point_6': \"Return of the Jedi\"  \n",
    "} \n",
    "\n",
    "household_income_movies_points = household_income_movies_points.rename(columns=star_wars_movie_names_dic)\n",
    "\n",
    "household_income_movies_points = household_income_movies_points.reindex(['Low Income', 'Lower-Middle Income', 'Middle Income', \"Upper-Middle Income\", 'High Income'])\n",
    "\n",
    "ax = household_income_movies_points.plot.bar(title='Movies Popularity Score by Income', figsize=(10, 5), color = ['#3498db', '#e74c3c', '#2ecc71', '#f39c12', '#9b59b6', '#1abc9c'])\n",
    "\n",
    "# Adjusting the legend size and position\n",
    "ax.legend(prop={'size': 8}, loc='upper left', bbox_to_anchor=(1, 1))\n",
    "\n",
    "ax.set_ylabel('Popularity Score')\n",
    "\n",
    "ax.set_xlabel('')\n",
    "\n",
    "plt.tight_layout()\n",
    " "
   ]
  },
  {
   "cell_type": "code",
   "execution_count": null,
   "metadata": {},
   "outputs": [],
   "source": [
    "character_point_columns = ['Han Solo_point', 'Luke Skywalker_point', 'Princess Leia Organa_point', \n",
    "                            'Anakin Skywalker_point', 'Obi Wan Kenobi_point', 'Emperor Palpatine_point', \n",
    "                            'Darth Vader_point', 'Lando Calrissian_point', 'Boba Fett_point', 'C-3P0_point', \n",
    "                            'R2 D2_point', 'Jar Jar Binks_point', 'Padme Amidala_point', 'Yoda_point']\n",
    "\n",
    "colors = [\n",
    "    '#1f77b4',  # Blue\n",
    "    '#ff7f0e',  # Orange\n",
    "    '#2ca02c',  # Green\n",
    "    '#d62728',  # Red\n",
    "    '#9467bd',  # Purple\n",
    "    '#8c564b',  # Brown\n",
    "    '#e377c2',  # Pink\n",
    "    '#7f7f7f',  # Gray\n",
    "    '#bcbd22',  # Olive\n",
    "    '#17becf',  # Cyan\n",
    "    '#ffbb78',  # Light Orange\n",
    "    '#98df8a',  # Light Green\n",
    "    '#ff9896',  # Light Red\n",
    "    '#c5b0d5'   # Light Purple\n",
    "]\n",
    "\n",
    "# Create a dictionary omitting the '_point' part  \n",
    "character_dict = {col: col[:-6] for col in character_point_columns} \n",
    "\n",
    "household_income_character_points = sws.pivot_table(character_point_columns,'household_income_category',aggfunc='mean')\n",
    "\n",
    "household_income_character_points = household_income_character_points.rename(columns=character_dict)\n",
    "\n",
    "household_income_character_points = household_income_character_points.reindex(['Low Income', 'Lower-Middle Income', 'Middle Income', \"Upper-Middle Income\", 'High Income'])\n",
    "\n",
    "ax = household_income_character_points.plot.bar(title=\"Characters' Popularity Score by Income\", figsize=(10, 5),width=0.9,color=colors)\n",
    "\n",
    "# Adjusting the legend size and position\n",
    "ax.legend(prop={'size': 8}, loc='upper left', bbox_to_anchor=(1, 1))\n",
    "\n",
    "ax.set_ylabel('Popularity Score')\n",
    "\n",
    "ax.set_xlabel('')\n",
    "\n",
    "plt.tight_layout()\n",
    " "
   ]
  },
  {
   "cell_type": "markdown",
   "metadata": {},
   "source": [
    "## Education"
   ]
  },
  {
   "cell_type": "code",
   "execution_count": null,
   "metadata": {},
   "outputs": [],
   "source": [
    "education_movies_points = sws.pivot_table(['point_1','point_2','point_3','point_4','point_5','point_6'],'education',aggfunc='mean')\n",
    "\n",
    "star_wars_movie_names_dic = { \n",
    "    'point_1': \"The Phantom Menace\",  \n",
    "    'point_2': \"Attack of the Clones\",  \n",
    "    'point_3': \"Revenge of the Sith\",  \n",
    "    'point_4': \"A New Hope\",  \n",
    "    'point_5': \"The Empire Strikes Back\",  \n",
    "    'point_6': \"Return of the Jedi\"  \n",
    "} \n",
    "\n",
    "education_movies_points = education_movies_points.rename(columns=star_wars_movie_names_dic)\n",
    "\n",
    "education_movies_points = education_movies_points.reindex(['No diploma', 'High school', 'Some college', \"Bachelor's\", 'Graduate'])\n",
    "\n",
    "ax = education_movies_points.plot.bar(title='Movies Popularity Score by Education', figsize=(10, 5), color = ['#3498db', '#e74c3c', '#2ecc71', '#f39c12', '#9b59b6', '#1abc9c'])\n",
    "\n",
    "# Adjusting the legend size and position\n",
    "ax.legend(prop={'size': 8}, loc='upper left', bbox_to_anchor=(1, 1))\n",
    "\n",
    "ax.set_ylabel('Popularity Score')\n",
    "\n",
    "ax.set_xlabel('')"
   ]
  },
  {
   "cell_type": "code",
   "execution_count": null,
   "metadata": {},
   "outputs": [],
   "source": [
    "character_point_columns = ['Han Solo_point', 'Luke Skywalker_point', 'Princess Leia Organa_point', \n",
    "                            'Anakin Skywalker_point', 'Obi Wan Kenobi_point', 'Emperor Palpatine_point', \n",
    "                            'Darth Vader_point', 'Lando Calrissian_point', 'Boba Fett_point', 'C-3P0_point', \n",
    "                            'R2 D2_point', 'Jar Jar Binks_point', 'Padme Amidala_point', 'Yoda_point']\n",
    "\n",
    "colors = [\n",
    "    '#1f77b4',  # Blue\n",
    "    '#ff7f0e',  # Orange\n",
    "    '#2ca02c',  # Green\n",
    "    '#d62728',  # Red\n",
    "    '#9467bd',  # Purple\n",
    "    '#8c564b',  # Brown\n",
    "    '#e377c2',  # Pink\n",
    "    '#7f7f7f',  # Gray\n",
    "    '#bcbd22',  # Olive\n",
    "    '#17becf',  # Cyan\n",
    "    '#ffbb78',  # Light Orange\n",
    "    '#98df8a',  # Light Green\n",
    "    '#ff9896',  # Light Red\n",
    "    '#c5b0d5'   # Light Purple\n",
    "]\n",
    "\n",
    "# Create a dictionary omitting the '_point' part  \n",
    "character_dict = {col: col[:-6] for col in character_point_columns} \n",
    "\n",
    "education_character_points = sws.pivot_table(character_point_columns,'education',aggfunc='mean')\n",
    "\n",
    "education_character_points = education_character_points.rename(columns=character_dict)\n",
    "\n",
    "education_character_points = education_character_points.reindex(['No diploma', 'High school', 'Some college', \"Bachelor's\", 'Graduate'])\n",
    "\n",
    "education_character_points.reindex()\n",
    "\n",
    "ax = education_character_points.plot.bar(title=\"Characters' Popularity Score by Education\", figsize=(10, 5),width=0.9,color=colors)\n",
    "\n",
    "# Adjusting the legend size and position\n",
    "ax.legend(prop={'size': 8}, loc='upper left', bbox_to_anchor=(1, 1))\n",
    "\n",
    "ax.set_ylabel('Popularity Score')\n",
    "\n",
    "ax.set_xlabel('')"
   ]
  },
  {
   "cell_type": "markdown",
   "metadata": {},
   "source": [
    "## location"
   ]
  },
  {
   "cell_type": "code",
   "execution_count": null,
   "metadata": {},
   "outputs": [],
   "source": [
    "import matplotlib.pyplot as plt  \n",
    "import pandas as pd  \n",
    "import matplotlib.image as mpimg  \n",
    "\n",
    "# Your existing pivot table code  \n",
    "location_movies_points = sws.pivot_table(['point_1', 'point_2', 'point_3', 'point_4', 'point_5', 'point_6'], 'location', aggfunc='mean') \n",
    "\n",
    "locations_order = ['Pacific', 'Mountain', 'West North Central', \"West South Central\", 'East North Central', \n",
    "                   \"East South Central\", 'Middle Atlantic', 'South Atlantic', 'New England']\n",
    "\n",
    "location_movies_points = location_movies_points.reindex(locations_order)\n",
    "\n",
    "star_wars_movie_names_dic = {   \n",
    "    'point_1': \"The Phantom Menace\",  \n",
    "    'point_2': \"Attack of the Clones\",  \n",
    "    'point_3': \"Revenge of the Sith\",  \n",
    "    'point_4': \"A New Hope\",  \n",
    "    'point_5': \"The Empire Strikes Back\",  \n",
    "    'point_6': \"Return of the Jedi\"  \n",
    "}   \n",
    "\n",
    "# Create the subplots  \n",
    "fig, (ax2, ax1) = plt.subplots(2, 1, figsize=(10, 10))  \n",
    "\n",
    "# Rename the columns  \n",
    "location_movies_points = location_movies_points.rename(columns=star_wars_movie_names_dic)  \n",
    "\n",
    "# Plot the bar chart  \n",
    "location_movies_points.plot.bar(title='Movies Popularity Score by Location', ax=ax1, color=['#3498db', '#e74c3c', '#2ecc71', '#f39c12', '#9b59b6', '#1abc9c'])  \n",
    "\n",
    "# Adjusting the legend size and position  \n",
    "ax1.legend(prop={'size': 8}, loc='upper left', bbox_to_anchor=(1, 1))  \n",
    "ax1.set_ylabel('Popularity Score')  \n",
    "ax1.set_xlabel('')  \n",
    "\n",
    "# Load and display the image in ax2  \n",
    "img = mpimg.imread('US-Census-Bureau-regions-and-divisions-Regions.png')  # Replace with your image path  \n",
    "ax2.imshow(img)  \n",
    "ax2.axis('off')  # Turn off axis if you don't want ticks  \n",
    "\n",
    "plt.tight_layout()  \n",
    "plt.show()\n",
    "ax1.set_xlabel('')"
   ]
  },
  {
   "cell_type": "code",
   "execution_count": null,
   "metadata": {},
   "outputs": [],
   "source": [
    "import matplotlib.pyplot as plt  \n",
    "import pandas as pd  \n",
    "import matplotlib.image as mpimg  \n",
    "\n",
    "character_point_columns = ['Han Solo_point', 'Luke Skywalker_point', 'Princess Leia Organa_point', \n",
    "                            'Anakin Skywalker_point', 'Obi Wan Kenobi_point', 'Emperor Palpatine_point', \n",
    "                            'Darth Vader_point', 'Lando Calrissian_point', 'Boba Fett_point', 'C-3P0_point', \n",
    "                            'R2 D2_point', 'Jar Jar Binks_point', 'Padme Amidala_point', 'Yoda_point']\n",
    "\n",
    "# Your existing pivot table code  \n",
    "location_characters_points = sws.pivot_table(character_point_columns, 'location', aggfunc='mean') \n",
    "\n",
    "locations_order = ['Pacific', 'Mountain', 'West North Central', \"West South Central\", 'East North Central', \n",
    "                   \"East South Central\", 'Middle Atlantic', 'South Atlantic', 'New England']\n",
    "\n",
    "location_characters_points = location_characters_points.reindex(locations_order)\n",
    "\n",
    "colors = [\n",
    "    '#1f77b4',  # Blue\n",
    "    '#ff7f0e',  # Orange\n",
    "    '#2ca02c',  # Green\n",
    "    '#d62728',  # Red\n",
    "    '#9467bd',  # Purple\n",
    "    '#8c564b',  # Brown\n",
    "    '#e377c2',  # Pink\n",
    "    '#7f7f7f',  # Gray\n",
    "    '#bcbd22',  # Olive\n",
    "    '#17becf',  # Cyan\n",
    "    '#ffbb78',  # Light Orange\n",
    "    '#98df8a',  # Light Green\n",
    "    '#ff9896',  # Light Red\n",
    "    '#c5b0d5'   # Light Purple\n",
    "]\n",
    "\n",
    "# Create a dictionary omitting the '_point' part  \n",
    "character_dict = {col: col[:-6] for col in character_point_columns} \n",
    "\n",
    "# Create the subplots  \n",
    "fig, (ax2, ax1) = plt.subplots(2, 1, figsize=(10, 10))  \n",
    "\n",
    "# Rename the columns  \n",
    "location_characters_points = location_characters_points.rename(columns=character_dict)  \n",
    "\n",
    "# Plot the bar chart  \n",
    "location_characters_points.plot.bar(title='Movies Popularity Score by Location', ax=ax1, color=colors, width=0.9)  \n",
    "\n",
    "# Adjusting the legend size and position  \n",
    "ax1.legend(prop={'size': 8}, loc='upper left', bbox_to_anchor=(1, 1))  \n",
    "ax1.set_ylabel('Popularity Score')  \n",
    "ax1.set_xlabel('')  \n",
    "\n",
    "# Load and display the image in ax2  \n",
    "img = mpimg.imread('US-Census-Bureau-regions-and-divisions-Regions.png')  # Replace with your image path  \n",
    "ax2.imshow(img)  \n",
    "ax2.axis('off')  # Turn off axis if you don't want ticks  \n",
    "\n",
    "plt.tight_layout()  \n",
    "plt.show()\n",
    "ax1.set_xlabel('')"
   ]
  },
  {
   "cell_type": "code",
   "execution_count": null,
   "metadata": {},
   "outputs": [],
   "source": []
  },
  {
   "cell_type": "code",
   "execution_count": null,
   "metadata": {},
   "outputs": [],
   "source": []
  },
  {
   "cell_type": "code",
   "execution_count": null,
   "metadata": {},
   "outputs": [],
   "source": []
  },
  {
   "cell_type": "code",
   "execution_count": null,
   "metadata": {},
   "outputs": [],
   "source": []
  },
  {
   "cell_type": "code",
   "execution_count": null,
   "metadata": {},
   "outputs": [],
   "source": []
  },
  {
   "cell_type": "code",
   "execution_count": null,
   "metadata": {},
   "outputs": [],
   "source": []
  },
  {
   "cell_type": "code",
   "execution_count": null,
   "metadata": {},
   "outputs": [],
   "source": []
  }
 ],
 "metadata": {
  "kernelspec": {
   "display_name": "Python 3 (ipykernel)",
   "language": "python",
   "name": "python3"
  },
  "language_info": {
   "codemirror_mode": {
    "name": "ipython",
    "version": 3
   },
   "file_extension": ".py",
   "mimetype": "text/x-python",
   "name": "python",
   "nbconvert_exporter": "python",
   "pygments_lexer": "ipython3",
   "version": "3.12.4"
  }
 },
 "nbformat": 4,
 "nbformat_minor": 4
}
