{
 "cells": [
  {
   "cell_type": "code",
   "execution_count": null,
   "metadata": {},
   "outputs": [],
   "source": []
  },
  {
   "cell_type": "markdown",
   "metadata": {},
   "source": [
    "<b>The Star Wars Film Franchise</b><br>\n",
    "The Star Wars film franchise refers to the series of movies created by George Lucas. It began with the original trilogy in 1977 and has since expanded to include prequels, sequels, and standalone films. The main storyline, known as the “Skywalker Saga,” consists of three trilogies:\n",
    "- Original Trilogy: Episodes IV-VI (1977-1983)\n",
    "- Prequel Trilogy: Episodes I-III (1999-2005)\n",
    "- Sequel Trilogy: Episodes VII-IX (2015-2019)\n",
    "<br>Additionally, there are standalone films like Rogue One and Solo, as well as animated series and live-action shows like The Mandalorian12."
   ]
  },
  {
   "cell_type": "markdown",
   "metadata": {},
   "source": [
    "<b>The Expanded Universe (Star Wars Legends)</b><br>\n",
    "The Expanded Universe (EU), now known as Star Wars Legends, includes all the licensed Star Wars stories outside of the original six films and certain other material created before April 25, 2014. This encompasses novels, comics, video games, and other media that expand on the Star Wars universe. These stories explore events and characters not covered in the films, ranging from thousands of years before The Phantom Menace to over a century after Return of the Jedi. In 2014, Lucasfilm rebranded the EU as Legends and established a new canon34."
   ]
  },
  {
   "cell_type": "markdown",
   "metadata": {},
   "source": [
    "<b>The Star Trek Franchise</b><br>\n",
    "The Star Trek franchise is a science fiction media franchise created by Gene Roddenberry. It began with the original television series in 1966 and has since grown to include multiple TV series, films, novels, comics, and other media. The franchise explores the adventures of various starship crews in the United Federation of Planets, focusing on themes of exploration, diplomacy, and science. Key series include:\n",
    "<br>\n",
    "- Star Trek: The Original Series (1966-1969)\n",
    "- Star Trek: The Next Generation (1987-1994)\n",
    "- Star Trek: Deep Space Nine (1993-1999)\n",
    "- Star Trek: Voyager (1995-2001)\n",
    "- Star Trek: Enterprise (2001-2005)\n",
    "- Star Trek: Discovery (2017-present)\n",
    "- Star Trek: Picard (2020-present)\n",
    "- Star Trek: Strange New Worlds (2022-present)"
   ]
  },
  {
   "cell_type": "markdown",
   "metadata": {},
   "source": [
    "# Importing the File"
   ]
  },
  {
   "cell_type": "code",
   "execution_count": 364,
   "metadata": {},
   "outputs": [],
   "source": [
    "import pandas as pd\n",
    "import numpy as np\n",
    "import matplotlib.pyplot as plt"
   ]
  },
  {
   "cell_type": "code",
   "execution_count": 365,
   "metadata": {},
   "outputs": [],
   "source": [
    "sws = pd.read_csv('StarWars.csv',encoding=\"ISO-8859-1\") #sws stands for Star War Survey"
   ]
  },
  {
   "cell_type": "code",
   "execution_count": 366,
   "metadata": {},
   "outputs": [
    {
     "data": {
      "text/html": [
       "<div>\n",
       "<style scoped>\n",
       "    .dataframe tbody tr th:only-of-type {\n",
       "        vertical-align: middle;\n",
       "    }\n",
       "\n",
       "    .dataframe tbody tr th {\n",
       "        vertical-align: top;\n",
       "    }\n",
       "\n",
       "    .dataframe thead th {\n",
       "        text-align: right;\n",
       "    }\n",
       "</style>\n",
       "<table border=\"1\" class=\"dataframe\">\n",
       "  <thead>\n",
       "    <tr style=\"text-align: right;\">\n",
       "      <th></th>\n",
       "      <th>RespondentID</th>\n",
       "      <th>Have you seen any of the 6 films in the Star Wars franchise?</th>\n",
       "      <th>Do you consider yourself to be a fan of the Star Wars film franchise?</th>\n",
       "      <th>Which of the following Star Wars films have you seen? Please select all that apply.</th>\n",
       "      <th>Unnamed: 4</th>\n",
       "      <th>Unnamed: 5</th>\n",
       "      <th>Unnamed: 6</th>\n",
       "      <th>Unnamed: 7</th>\n",
       "      <th>Unnamed: 8</th>\n",
       "      <th>Please rank the Star Wars films in order of preference with 1 being your favorite film in the franchise and 6 being your least favorite film.</th>\n",
       "      <th>...</th>\n",
       "      <th>Unnamed: 28</th>\n",
       "      <th>Which character shot first?</th>\n",
       "      <th>Are you familiar with the Expanded Universe?</th>\n",
       "      <th>Do you consider yourself to be a fan of the Expanded Universe?æ</th>\n",
       "      <th>Do you consider yourself to be a fan of the Star Trek franchise?</th>\n",
       "      <th>Gender</th>\n",
       "      <th>Age</th>\n",
       "      <th>Household Income</th>\n",
       "      <th>Education</th>\n",
       "      <th>Location (Census Region)</th>\n",
       "    </tr>\n",
       "  </thead>\n",
       "  <tbody>\n",
       "    <tr>\n",
       "      <th>0</th>\n",
       "      <td>NaN</td>\n",
       "      <td>Response</td>\n",
       "      <td>Response</td>\n",
       "      <td>Star Wars: Episode I  The Phantom Menace</td>\n",
       "      <td>Star Wars: Episode II  Attack of the Clones</td>\n",
       "      <td>Star Wars: Episode III  Revenge of the Sith</td>\n",
       "      <td>Star Wars: Episode IV  A New Hope</td>\n",
       "      <td>Star Wars: Episode V The Empire Strikes Back</td>\n",
       "      <td>Star Wars: Episode VI Return of the Jedi</td>\n",
       "      <td>Star Wars: Episode I  The Phantom Menace</td>\n",
       "      <td>...</td>\n",
       "      <td>Yoda</td>\n",
       "      <td>Response</td>\n",
       "      <td>Response</td>\n",
       "      <td>Response</td>\n",
       "      <td>Response</td>\n",
       "      <td>Response</td>\n",
       "      <td>Response</td>\n",
       "      <td>Response</td>\n",
       "      <td>Response</td>\n",
       "      <td>Response</td>\n",
       "    </tr>\n",
       "    <tr>\n",
       "      <th>1</th>\n",
       "      <td>3.292880e+09</td>\n",
       "      <td>Yes</td>\n",
       "      <td>Yes</td>\n",
       "      <td>Star Wars: Episode I  The Phantom Menace</td>\n",
       "      <td>Star Wars: Episode II  Attack of the Clones</td>\n",
       "      <td>Star Wars: Episode III  Revenge of the Sith</td>\n",
       "      <td>Star Wars: Episode IV  A New Hope</td>\n",
       "      <td>Star Wars: Episode V The Empire Strikes Back</td>\n",
       "      <td>Star Wars: Episode VI Return of the Jedi</td>\n",
       "      <td>3</td>\n",
       "      <td>...</td>\n",
       "      <td>Very favorably</td>\n",
       "      <td>I don't understand this question</td>\n",
       "      <td>Yes</td>\n",
       "      <td>No</td>\n",
       "      <td>No</td>\n",
       "      <td>Male</td>\n",
       "      <td>18-29</td>\n",
       "      <td>NaN</td>\n",
       "      <td>High school degree</td>\n",
       "      <td>South Atlantic</td>\n",
       "    </tr>\n",
       "  </tbody>\n",
       "</table>\n",
       "<p>2 rows × 38 columns</p>\n",
       "</div>"
      ],
      "text/plain": [
       "   RespondentID Have you seen any of the 6 films in the Star Wars franchise?  \\\n",
       "0           NaN                                           Response             \n",
       "1  3.292880e+09                                                Yes             \n",
       "\n",
       "  Do you consider yourself to be a fan of the Star Wars film franchise?  \\\n",
       "0                                           Response                      \n",
       "1                                                Yes                      \n",
       "\n",
       "  Which of the following Star Wars films have you seen? Please select all that apply.  \\\n",
       "0           Star Wars: Episode I  The Phantom Menace                                    \n",
       "1           Star Wars: Episode I  The Phantom Menace                                    \n",
       "\n",
       "                                    Unnamed: 4  \\\n",
       "0  Star Wars: Episode II  Attack of the Clones   \n",
       "1  Star Wars: Episode II  Attack of the Clones   \n",
       "\n",
       "                                    Unnamed: 5  \\\n",
       "0  Star Wars: Episode III  Revenge of the Sith   \n",
       "1  Star Wars: Episode III  Revenge of the Sith   \n",
       "\n",
       "                          Unnamed: 6  \\\n",
       "0  Star Wars: Episode IV  A New Hope   \n",
       "1  Star Wars: Episode IV  A New Hope   \n",
       "\n",
       "                                     Unnamed: 7  \\\n",
       "0  Star Wars: Episode V The Empire Strikes Back   \n",
       "1  Star Wars: Episode V The Empire Strikes Back   \n",
       "\n",
       "                                 Unnamed: 8  \\\n",
       "0  Star Wars: Episode VI Return of the Jedi   \n",
       "1  Star Wars: Episode VI Return of the Jedi   \n",
       "\n",
       "  Please rank the Star Wars films in order of preference with 1 being your favorite film in the franchise and 6 being your least favorite film.  \\\n",
       "0           Star Wars: Episode I  The Phantom Menace                                                                                              \n",
       "1                                                  3                                                                                              \n",
       "\n",
       "   ...     Unnamed: 28       Which character shot first?  \\\n",
       "0  ...            Yoda                          Response   \n",
       "1  ...  Very favorably  I don't understand this question   \n",
       "\n",
       "  Are you familiar with the Expanded Universe?  \\\n",
       "0                                     Response   \n",
       "1                                          Yes   \n",
       "\n",
       "  Do you consider yourself to be a fan of the Expanded Universe?æ  \\\n",
       "0                                           Response                 \n",
       "1                                                 No                 \n",
       "\n",
       "  Do you consider yourself to be a fan of the Star Trek franchise?    Gender  \\\n",
       "0                                           Response                Response   \n",
       "1                                                 No                    Male   \n",
       "\n",
       "        Age Household Income           Education Location (Census Region)  \n",
       "0  Response         Response            Response                 Response  \n",
       "1     18-29              NaN  High school degree           South Atlantic  \n",
       "\n",
       "[2 rows x 38 columns]"
      ]
     },
     "execution_count": 366,
     "metadata": {},
     "output_type": "execute_result"
    }
   ],
   "source": [
    "sws.head(2)"
   ]
  },
  {
   "cell_type": "code",
   "execution_count": 367,
   "metadata": {},
   "outputs": [
    {
     "name": "stdout",
     "output_type": "stream",
     "text": [
      "RespondentID\n",
      "Have you seen any of the 6 films in the Star Wars franchise?\n",
      "Do you consider yourself to be a fan of the Star Wars film franchise?\n",
      "Which of the following Star Wars films have you seen? Please select all that apply.\n",
      "Unnamed: 4\n",
      "Unnamed: 5\n",
      "Unnamed: 6\n",
      "Unnamed: 7\n",
      "Unnamed: 8\n",
      "Please rank the Star Wars films in order of preference with 1 being your favorite film in the franchise and 6 being your least favorite film.\n",
      "Unnamed: 10\n",
      "Unnamed: 11\n",
      "Unnamed: 12\n",
      "Unnamed: 13\n",
      "Unnamed: 14\n",
      "Please state whether you view the following characters favorably, unfavorably, or are unfamiliar with him/her.\n",
      "Unnamed: 16\n",
      "Unnamed: 17\n",
      "Unnamed: 18\n",
      "Unnamed: 19\n",
      "Unnamed: 20\n",
      "Unnamed: 21\n",
      "Unnamed: 22\n",
      "Unnamed: 23\n",
      "Unnamed: 24\n",
      "Unnamed: 25\n",
      "Unnamed: 26\n",
      "Unnamed: 27\n",
      "Unnamed: 28\n",
      "Which character shot first?\n",
      "Are you familiar with the Expanded Universe?\n",
      "Do you consider yourself to be a fan of the Expanded Universe?æ\n",
      "Do you consider yourself to be a fan of the Star Trek franchise?\n",
      "Gender\n",
      "Age\n",
      "Household Income\n",
      "Education\n",
      "Location (Census Region)\n"
     ]
    }
   ],
   "source": [
    "for column in sws.columns:  \n",
    "    print(column) "
   ]
  },
  {
   "cell_type": "markdown",
   "metadata": {},
   "source": [
    "In the first row, each cell contains information about its column. We will need this information going forward. Let’s separate this row and save it into a different variable:"
   ]
  },
  {
   "cell_type": "code",
   "execution_count": 368,
   "metadata": {},
   "outputs": [
    {
     "data": {
      "text/html": [
       "<div>\n",
       "<style scoped>\n",
       "    .dataframe tbody tr th:only-of-type {\n",
       "        vertical-align: middle;\n",
       "    }\n",
       "\n",
       "    .dataframe tbody tr th {\n",
       "        vertical-align: top;\n",
       "    }\n",
       "\n",
       "    .dataframe thead th {\n",
       "        text-align: right;\n",
       "    }\n",
       "</style>\n",
       "<table border=\"1\" class=\"dataframe\">\n",
       "  <thead>\n",
       "    <tr style=\"text-align: right;\">\n",
       "      <th></th>\n",
       "      <th>RespondentID</th>\n",
       "      <th>Have you seen any of the 6 films in the Star Wars franchise?</th>\n",
       "      <th>Do you consider yourself to be a fan of the Star Wars film franchise?</th>\n",
       "      <th>Which of the following Star Wars films have you seen? Please select all that apply.</th>\n",
       "      <th>Unnamed: 4</th>\n",
       "      <th>Unnamed: 5</th>\n",
       "      <th>Unnamed: 6</th>\n",
       "      <th>Unnamed: 7</th>\n",
       "      <th>Unnamed: 8</th>\n",
       "      <th>Please rank the Star Wars films in order of preference with 1 being your favorite film in the franchise and 6 being your least favorite film.</th>\n",
       "      <th>...</th>\n",
       "      <th>Unnamed: 28</th>\n",
       "      <th>Which character shot first?</th>\n",
       "      <th>Are you familiar with the Expanded Universe?</th>\n",
       "      <th>Do you consider yourself to be a fan of the Expanded Universe?æ</th>\n",
       "      <th>Do you consider yourself to be a fan of the Star Trek franchise?</th>\n",
       "      <th>Gender</th>\n",
       "      <th>Age</th>\n",
       "      <th>Household Income</th>\n",
       "      <th>Education</th>\n",
       "      <th>Location (Census Region)</th>\n",
       "    </tr>\n",
       "  </thead>\n",
       "  <tbody>\n",
       "    <tr>\n",
       "      <th>0</th>\n",
       "      <td>3.292880e+09</td>\n",
       "      <td>Yes</td>\n",
       "      <td>Yes</td>\n",
       "      <td>Star Wars: Episode I  The Phantom Menace</td>\n",
       "      <td>Star Wars: Episode II  Attack of the Clones</td>\n",
       "      <td>Star Wars: Episode III  Revenge of the Sith</td>\n",
       "      <td>Star Wars: Episode IV  A New Hope</td>\n",
       "      <td>Star Wars: Episode V The Empire Strikes Back</td>\n",
       "      <td>Star Wars: Episode VI Return of the Jedi</td>\n",
       "      <td>3</td>\n",
       "      <td>...</td>\n",
       "      <td>Very favorably</td>\n",
       "      <td>I don't understand this question</td>\n",
       "      <td>Yes</td>\n",
       "      <td>No</td>\n",
       "      <td>No</td>\n",
       "      <td>Male</td>\n",
       "      <td>18-29</td>\n",
       "      <td>NaN</td>\n",
       "      <td>High school degree</td>\n",
       "      <td>South Atlantic</td>\n",
       "    </tr>\n",
       "    <tr>\n",
       "      <th>1</th>\n",
       "      <td>3.292880e+09</td>\n",
       "      <td>No</td>\n",
       "      <td>NaN</td>\n",
       "      <td>NaN</td>\n",
       "      <td>NaN</td>\n",
       "      <td>NaN</td>\n",
       "      <td>NaN</td>\n",
       "      <td>NaN</td>\n",
       "      <td>NaN</td>\n",
       "      <td>NaN</td>\n",
       "      <td>...</td>\n",
       "      <td>NaN</td>\n",
       "      <td>NaN</td>\n",
       "      <td>NaN</td>\n",
       "      <td>NaN</td>\n",
       "      <td>Yes</td>\n",
       "      <td>Male</td>\n",
       "      <td>18-29</td>\n",
       "      <td>$0 - $24,999</td>\n",
       "      <td>Bachelor degree</td>\n",
       "      <td>West South Central</td>\n",
       "    </tr>\n",
       "    <tr>\n",
       "      <th>2</th>\n",
       "      <td>3.292765e+09</td>\n",
       "      <td>Yes</td>\n",
       "      <td>No</td>\n",
       "      <td>Star Wars: Episode I  The Phantom Menace</td>\n",
       "      <td>Star Wars: Episode II  Attack of the Clones</td>\n",
       "      <td>Star Wars: Episode III  Revenge of the Sith</td>\n",
       "      <td>NaN</td>\n",
       "      <td>NaN</td>\n",
       "      <td>NaN</td>\n",
       "      <td>1</td>\n",
       "      <td>...</td>\n",
       "      <td>Unfamiliar (N/A)</td>\n",
       "      <td>I don't understand this question</td>\n",
       "      <td>No</td>\n",
       "      <td>NaN</td>\n",
       "      <td>No</td>\n",
       "      <td>Male</td>\n",
       "      <td>18-29</td>\n",
       "      <td>$0 - $24,999</td>\n",
       "      <td>High school degree</td>\n",
       "      <td>West North Central</td>\n",
       "    </tr>\n",
       "  </tbody>\n",
       "</table>\n",
       "<p>3 rows × 38 columns</p>\n",
       "</div>"
      ],
      "text/plain": [
       "   RespondentID Have you seen any of the 6 films in the Star Wars franchise?  \\\n",
       "0  3.292880e+09                                                Yes             \n",
       "1  3.292880e+09                                                 No             \n",
       "2  3.292765e+09                                                Yes             \n",
       "\n",
       "  Do you consider yourself to be a fan of the Star Wars film franchise?  \\\n",
       "0                                                Yes                      \n",
       "1                                                NaN                      \n",
       "2                                                 No                      \n",
       "\n",
       "  Which of the following Star Wars films have you seen? Please select all that apply.  \\\n",
       "0           Star Wars: Episode I  The Phantom Menace                                    \n",
       "1                                                NaN                                    \n",
       "2           Star Wars: Episode I  The Phantom Menace                                    \n",
       "\n",
       "                                    Unnamed: 4  \\\n",
       "0  Star Wars: Episode II  Attack of the Clones   \n",
       "1                                          NaN   \n",
       "2  Star Wars: Episode II  Attack of the Clones   \n",
       "\n",
       "                                    Unnamed: 5  \\\n",
       "0  Star Wars: Episode III  Revenge of the Sith   \n",
       "1                                          NaN   \n",
       "2  Star Wars: Episode III  Revenge of the Sith   \n",
       "\n",
       "                          Unnamed: 6  \\\n",
       "0  Star Wars: Episode IV  A New Hope   \n",
       "1                                NaN   \n",
       "2                                NaN   \n",
       "\n",
       "                                     Unnamed: 7  \\\n",
       "0  Star Wars: Episode V The Empire Strikes Back   \n",
       "1                                           NaN   \n",
       "2                                           NaN   \n",
       "\n",
       "                                 Unnamed: 8  \\\n",
       "0  Star Wars: Episode VI Return of the Jedi   \n",
       "1                                       NaN   \n",
       "2                                       NaN   \n",
       "\n",
       "  Please rank the Star Wars films in order of preference with 1 being your favorite film in the franchise and 6 being your least favorite film.  \\\n",
       "0                                                  3                                                                                              \n",
       "1                                                NaN                                                                                              \n",
       "2                                                  1                                                                                              \n",
       "\n",
       "   ...       Unnamed: 28       Which character shot first?  \\\n",
       "0  ...    Very favorably  I don't understand this question   \n",
       "1  ...               NaN                               NaN   \n",
       "2  ...  Unfamiliar (N/A)  I don't understand this question   \n",
       "\n",
       "  Are you familiar with the Expanded Universe?  \\\n",
       "0                                          Yes   \n",
       "1                                          NaN   \n",
       "2                                           No   \n",
       "\n",
       "  Do you consider yourself to be a fan of the Expanded Universe?æ  \\\n",
       "0                                                 No                 \n",
       "1                                                NaN                 \n",
       "2                                                NaN                 \n",
       "\n",
       "  Do you consider yourself to be a fan of the Star Trek franchise? Gender  \\\n",
       "0                                                 No                 Male   \n",
       "1                                                Yes                 Male   \n",
       "2                                                 No                 Male   \n",
       "\n",
       "     Age Household Income           Education Location (Census Region)  \n",
       "0  18-29              NaN  High school degree           South Atlantic  \n",
       "1  18-29     $0 - $24,999     Bachelor degree       West South Central  \n",
       "2  18-29     $0 - $24,999  High school degree       West North Central  \n",
       "\n",
       "[3 rows x 38 columns]"
      ]
     },
     "execution_count": 368,
     "metadata": {},
     "output_type": "execute_result"
    }
   ],
   "source": [
    "# Extracting the first row of the DataFrame and saving it to a new variable\n",
    "sws_info = sws.iloc[0]\n",
    "\n",
    "# Removing the first row and resetting the index in one step\n",
    "sws = sws.iloc[1:].reset_index(drop=True)\n",
    "\n",
    "# Displaying the first few rows of the updated DataFrame\n",
    "sws.head(3)"
   ]
  },
  {
   "cell_type": "code",
   "execution_count": 369,
   "metadata": {},
   "outputs": [
    {
     "data": {
      "text/plain": [
       "RespondentID                                                                                                                                                                              NaN\n",
       "Have you seen any of the 6 films in the Star Wars franchise?                                                                                                                         Response\n",
       "Do you consider yourself to be a fan of the Star Wars film franchise?                                                                                                                Response\n",
       "Which of the following Star Wars films have you seen? Please select all that apply.                                                                  Star Wars: Episode I  The Phantom Menace\n",
       "Unnamed: 4                                                                                                                                        Star Wars: Episode II  Attack of the Clones\n",
       "Unnamed: 5                                                                                                                                        Star Wars: Episode III  Revenge of the Sith\n",
       "Unnamed: 6                                                                                                                                                  Star Wars: Episode IV  A New Hope\n",
       "Unnamed: 7                                                                                                                                       Star Wars: Episode V The Empire Strikes Back\n",
       "Unnamed: 8                                                                                                                                           Star Wars: Episode VI Return of the Jedi\n",
       "Please rank the Star Wars films in order of preference with 1 being your favorite film in the franchise and 6 being your least favorite film.        Star Wars: Episode I  The Phantom Menace\n",
       "Unnamed: 10                                                                                                                                       Star Wars: Episode II  Attack of the Clones\n",
       "Unnamed: 11                                                                                                                                       Star Wars: Episode III  Revenge of the Sith\n",
       "Unnamed: 12                                                                                                                                                 Star Wars: Episode IV  A New Hope\n",
       "Unnamed: 13                                                                                                                                      Star Wars: Episode V The Empire Strikes Back\n",
       "Unnamed: 14                                                                                                                                          Star Wars: Episode VI Return of the Jedi\n",
       "Please state whether you view the following characters favorably, unfavorably, or are unfamiliar with him/her.                                                                       Han Solo\n",
       "Unnamed: 16                                                                                                                                                                    Luke Skywalker\n",
       "Unnamed: 17                                                                                                                                                              Princess Leia Organa\n",
       "Unnamed: 18                                                                                                                                                                  Anakin Skywalker\n",
       "Unnamed: 19                                                                                                                                                                    Obi Wan Kenobi\n",
       "Unnamed: 20                                                                                                                                                                 Emperor Palpatine\n",
       "Unnamed: 21                                                                                                                                                                       Darth Vader\n",
       "Unnamed: 22                                                                                                                                                                  Lando Calrissian\n",
       "Unnamed: 23                                                                                                                                                                         Boba Fett\n",
       "Unnamed: 24                                                                                                                                                                             C-3P0\n",
       "Unnamed: 25                                                                                                                                                                             R2 D2\n",
       "Unnamed: 26                                                                                                                                                                     Jar Jar Binks\n",
       "Unnamed: 27                                                                                                                                                                     Padme Amidala\n",
       "Unnamed: 28                                                                                                                                                                              Yoda\n",
       "Which character shot first?                                                                                                                                                          Response\n",
       "Are you familiar with the Expanded Universe?                                                                                                                                         Response\n",
       "Do you consider yourself to be a fan of the Expanded Universe?æ                                                                                                                     Response\n",
       "Do you consider yourself to be a fan of the Star Trek franchise?                                                                                                                     Response\n",
       "Gender                                                                                                                                                                               Response\n",
       "Age                                                                                                                                                                                  Response\n",
       "Household Income                                                                                                                                                                     Response\n",
       "Education                                                                                                                                                                            Response\n",
       "Location (Census Region)                                                                                                                                                             Response\n",
       "Name: 0, dtype: object"
      ]
     },
     "execution_count": 369,
     "metadata": {},
     "output_type": "execute_result"
    }
   ],
   "source": [
    "sws_info"
   ]
  },
  {
   "cell_type": "markdown",
   "metadata": {},
   "source": [
    "# Clening the Dataset"
   ]
  },
  {
   "cell_type": "markdown",
   "metadata": {},
   "source": [
    "## First Column"
   ]
  },
  {
   "cell_type": "code",
   "execution_count": 370,
   "metadata": {},
   "outputs": [
    {
     "data": {
      "text/plain": [
       "True"
      ]
     },
     "execution_count": 370,
     "metadata": {},
     "output_type": "execute_result"
    }
   ],
   "source": [
    "sws['RespondentID'].is_unique"
   ]
  },
  {
   "cell_type": "markdown",
   "metadata": {},
   "source": [
    "## Second and Third Columns"
   ]
  },
  {
   "cell_type": "code",
   "execution_count": 371,
   "metadata": {},
   "outputs": [],
   "source": [
    "# Changing the names of the second and third columns:\n",
    "col_names_dic = {'Have you seen any of the 6 films in the Star Wars franchise?': 'seen_any',\n",
    "                 'Do you consider yourself to be a fan of the Star Wars film franchise?': 'star_war_fan'\n",
    "}\n",
    "sws.rename(columns=col_names_dic, inplace=True)"
   ]
  },
  {
   "cell_type": "code",
   "execution_count": 372,
   "metadata": {},
   "outputs": [
    {
     "name": "stdout",
     "output_type": "stream",
     "text": [
      "seen_any\n",
      "Yes    936\n",
      "No     250\n",
      "Name: count, dtype: int64 \n",
      "\n",
      "star_war_fan\n",
      "Yes    552\n",
      "NaN    350\n",
      "No     284\n",
      "Name: count, dtype: int64 \n",
      "\n"
     ]
    }
   ],
   "source": [
    "# Checking values in 'seen_any' and 'star_war_fan' columns:\n",
    "columns = ['seen_any','star_war_fan'] \n",
    "for c in columns:\n",
    "    print(sws[c].value_counts(dropna=False),'\\n')"
   ]
  },
  {
   "cell_type": "code",
   "execution_count": 373,
   "metadata": {},
   "outputs": [],
   "source": [
    "# Creating a dictionary \n",
    "yes_no_dictionary = {'Yes':True,\n",
    "                     'No':False,\n",
    "                    }\n",
    "\n",
    "# Using the dictionary above to convert 'Yes' and 'No' to True and False:\n",
    "for c in columns:\n",
    "    sws[c] = sws[c].map(yes_no_dictionary)"
   ]
  },
  {
   "cell_type": "code",
   "execution_count": 374,
   "metadata": {
    "scrolled": true
   },
   "outputs": [
    {
     "name": "stdout",
     "output_type": "stream",
     "text": [
      "seen_any\n",
      "True     936\n",
      "False    250\n",
      "Name: count, dtype: int64 \n",
      "\n",
      "star_war_fan\n",
      "True     552\n",
      "NaN      350\n",
      "False    284\n",
      "Name: count, dtype: int64 \n",
      "\n"
     ]
    }
   ],
   "source": [
    "# Checking values in 'seen_any' and 'star_war_fan' columns again:\n",
    "for c in columns:\n",
    "    print(sws[c].value_counts(dropna=False),'\\n')"
   ]
  },
  {
   "cell_type": "markdown",
   "metadata": {},
   "source": [
    "## Fourth to Ninth Columns"
   ]
  },
  {
   "cell_type": "code",
   "execution_count": 375,
   "metadata": {},
   "outputs": [
    {
     "data": {
      "text/plain": [
       "Index(['Which of the following Star Wars films have you seen? Please select all that apply.',\n",
       "       'Unnamed: 4', 'Unnamed: 5', 'Unnamed: 6', 'Unnamed: 7', 'Unnamed: 8'],\n",
       "      dtype='object')"
      ]
     },
     "execution_count": 375,
     "metadata": {},
     "output_type": "execute_result"
    }
   ],
   "source": [
    "sws.columns[3:9]"
   ]
  },
  {
   "cell_type": "code",
   "execution_count": 376,
   "metadata": {},
   "outputs": [
    {
     "name": "stdout",
     "output_type": "stream",
     "text": [
      "Which of the following Star Wars films have you seen? Please select all that apply.\n",
      "Star Wars: Episode I  The Phantom Menace    673\n",
      "NaN                                         513\n",
      "Name: count, dtype: int64\n",
      "Unnamed: 4\n",
      "NaN                                            615\n",
      "Star Wars: Episode II  Attack of the Clones    571\n",
      "Name: count, dtype: int64\n",
      "Unnamed: 5\n",
      "NaN                                            636\n",
      "Star Wars: Episode III  Revenge of the Sith    550\n",
      "Name: count, dtype: int64\n",
      "Unnamed: 6\n",
      "Star Wars: Episode IV  A New Hope    607\n",
      "NaN                                  579\n",
      "Name: count, dtype: int64\n",
      "Unnamed: 7\n",
      "Star Wars: Episode V The Empire Strikes Back    758\n",
      "NaN                                             428\n",
      "Name: count, dtype: int64\n",
      "Unnamed: 8\n",
      "Star Wars: Episode VI Return of the Jedi    738\n",
      "NaN                                         448\n",
      "Name: count, dtype: int64\n"
     ]
    }
   ],
   "source": [
    "#Checking the values in each column:\n",
    "target_columns = sws.columns[3:9]\n",
    "for c in target_columns:\n",
    "    print(sws[c].value_counts(dropna=False))"
   ]
  },
  {
   "cell_type": "code",
   "execution_count": 377,
   "metadata": {},
   "outputs": [
    {
     "data": {
      "text/plain": [
       "Which of the following Star Wars films have you seen? Please select all that apply.        Star Wars: Episode I  The Phantom Menace\n",
       "Unnamed: 4                                                                              Star Wars: Episode II  Attack of the Clones\n",
       "Unnamed: 5                                                                              Star Wars: Episode III  Revenge of the Sith\n",
       "Unnamed: 6                                                                                        Star Wars: Episode IV  A New Hope\n",
       "Unnamed: 7                                                                             Star Wars: Episode V The Empire Strikes Back\n",
       "Unnamed: 8                                                                                 Star Wars: Episode VI Return of the Jedi\n",
       "Name: 0, dtype: object"
      ]
     },
     "execution_count": 377,
     "metadata": {},
     "output_type": "execute_result"
    }
   ],
   "source": [
    "sws_info[target_columns]"
   ]
  },
  {
   "cell_type": "markdown",
   "metadata": {},
   "source": [
    "So:\n",
    "- `Star Wars: Episode 1 – The Phantom Menace` -> will be designated as `_1` in our new column naming convention.\n",
    "- `Star Wars: Episode 2 – Attack of the Clones` -> will be designated as `_2` in our new column naming convention.\n",
    "- `Star Wars: Episode 3 – Revenge of the Sit` -> will be designated as `_3` in our new column naming convention.\n",
    "- `Star Wars: Episode 4 – A New Hope` -> will be designated as `_4` in our new column naming convention.\n",
    "- `Star Wars: Episode 5 – The Empire Strikes Back` -> will be designated as `_5` in our new column naming convention.\n",
    "- `Star Wars: Episode 6 – Return of the Jedi` -> will be designated as `_6` in our new column naming convention.\n",
    "<br>For example, instead of using `seen_Star Wars: Episode 1 – The Phantom Menace`, we will use `seen_1`."
   ]
  },
  {
   "cell_type": "code",
   "execution_count": 378,
   "metadata": {},
   "outputs": [
    {
     "data": {
      "text/html": [
       "<div>\n",
       "<style scoped>\n",
       "    .dataframe tbody tr th:only-of-type {\n",
       "        vertical-align: middle;\n",
       "    }\n",
       "\n",
       "    .dataframe tbody tr th {\n",
       "        vertical-align: top;\n",
       "    }\n",
       "\n",
       "    .dataframe thead th {\n",
       "        text-align: right;\n",
       "    }\n",
       "</style>\n",
       "<table border=\"1\" class=\"dataframe\">\n",
       "  <thead>\n",
       "    <tr style=\"text-align: right;\">\n",
       "      <th></th>\n",
       "      <th>seen_1</th>\n",
       "      <th>seen_2</th>\n",
       "      <th>seen_3</th>\n",
       "      <th>seen_4</th>\n",
       "      <th>seen_5</th>\n",
       "      <th>seen_6</th>\n",
       "    </tr>\n",
       "  </thead>\n",
       "  <tbody>\n",
       "    <tr>\n",
       "      <th>0</th>\n",
       "      <td>Star Wars: Episode I  The Phantom Menace</td>\n",
       "      <td>Star Wars: Episode II  Attack of the Clones</td>\n",
       "      <td>Star Wars: Episode III  Revenge of the Sith</td>\n",
       "      <td>Star Wars: Episode IV  A New Hope</td>\n",
       "      <td>Star Wars: Episode V The Empire Strikes Back</td>\n",
       "      <td>Star Wars: Episode VI Return of the Jedi</td>\n",
       "    </tr>\n",
       "    <tr>\n",
       "      <th>1</th>\n",
       "      <td>NaN</td>\n",
       "      <td>NaN</td>\n",
       "      <td>NaN</td>\n",
       "      <td>NaN</td>\n",
       "      <td>NaN</td>\n",
       "      <td>NaN</td>\n",
       "    </tr>\n",
       "    <tr>\n",
       "      <th>2</th>\n",
       "      <td>Star Wars: Episode I  The Phantom Menace</td>\n",
       "      <td>Star Wars: Episode II  Attack of the Clones</td>\n",
       "      <td>Star Wars: Episode III  Revenge of the Sith</td>\n",
       "      <td>NaN</td>\n",
       "      <td>NaN</td>\n",
       "      <td>NaN</td>\n",
       "    </tr>\n",
       "  </tbody>\n",
       "</table>\n",
       "</div>"
      ],
      "text/plain": [
       "                                     seen_1  \\\n",
       "0  Star Wars: Episode I  The Phantom Menace   \n",
       "1                                       NaN   \n",
       "2  Star Wars: Episode I  The Phantom Menace   \n",
       "\n",
       "                                        seen_2  \\\n",
       "0  Star Wars: Episode II  Attack of the Clones   \n",
       "1                                          NaN   \n",
       "2  Star Wars: Episode II  Attack of the Clones   \n",
       "\n",
       "                                        seen_3  \\\n",
       "0  Star Wars: Episode III  Revenge of the Sith   \n",
       "1                                          NaN   \n",
       "2  Star Wars: Episode III  Revenge of the Sith   \n",
       "\n",
       "                              seen_4  \\\n",
       "0  Star Wars: Episode IV  A New Hope   \n",
       "1                                NaN   \n",
       "2                                NaN   \n",
       "\n",
       "                                         seen_5  \\\n",
       "0  Star Wars: Episode V The Empire Strikes Back   \n",
       "1                                           NaN   \n",
       "2                                           NaN   \n",
       "\n",
       "                                     seen_6  \n",
       "0  Star Wars: Episode VI Return of the Jedi  \n",
       "1                                       NaN  \n",
       "2                                       NaN  "
      ]
     },
     "execution_count": 378,
     "metadata": {},
     "output_type": "execute_result"
    }
   ],
   "source": [
    "# Renaming columns:\n",
    "# 'Which of the following Star Wars films have you seen? Please select all that apply.' -> seen_1 \n",
    "# 'Unnamed: 4' -> seen_2 \n",
    "# 'Unnamed: 5' -> seen_3 \n",
    "# 'Unnamed: 6' -> seen_4 \n",
    "# 'Unnamed: 7' -> seen_5 \n",
    "# 'Unnamed: 8' -> seen_6 \n",
    "\n",
    "for c, r in zip(target_columns, range(1, 7)):\n",
    "    sws = sws.rename(columns= {c : 'seen_{}'.format(r)})\n",
    "\n",
    "sws.iloc[:,3:9].head(3)"
   ]
  },
  {
   "cell_type": "markdown",
   "metadata": {},
   "source": [
    "Now, in each column:\n",
    "- If the value is the name of one of the movies, we will convert it to `True`.\n",
    "- If it is `NaN`, we will convert it to `False`."
   ]
  },
  {
   "cell_type": "code",
   "execution_count": 379,
   "metadata": {},
   "outputs": [
    {
     "data": {
      "text/plain": [
       "Index(['seen_1', 'seen_2', 'seen_3', 'seen_4', 'seen_5', 'seen_6'], dtype='object')"
      ]
     },
     "execution_count": 379,
     "metadata": {},
     "output_type": "execute_result"
    }
   ],
   "source": [
    "renamed_columns = sws.columns[3:9]\n",
    "\n",
    "# Iterating over each column in the renamed_columns list [seen_1, seen_2, seen_3, seen_4, seen_5, seen_6]\n",
    "for c in renamed_columns:\n",
    "    # Getting the list of unique values which only has one value that is the movie name\n",
    "    value_list = sws[c].value_counts().index.tolist()\n",
    "    \n",
    "    # selecting the only value returned by index_list\n",
    "    movie_name = value_list[0]\n",
    "    \n",
    "    # Creating a dictionary to map the movie name to True and NaN to False\n",
    "    dictionary = {movie_name: True, np.NaN: False}\n",
    "    \n",
    "    # Mapping the values in each column to True or False using the dictionary\n",
    "    sws[c] = sws[c].map(dictionary)\n",
    "\n",
    "renamed_columns"
   ]
  },
  {
   "cell_type": "code",
   "execution_count": 380,
   "metadata": {},
   "outputs": [
    {
     "data": {
      "text/html": [
       "<div>\n",
       "<style scoped>\n",
       "    .dataframe tbody tr th:only-of-type {\n",
       "        vertical-align: middle;\n",
       "    }\n",
       "\n",
       "    .dataframe tbody tr th {\n",
       "        vertical-align: top;\n",
       "    }\n",
       "\n",
       "    .dataframe thead th {\n",
       "        text-align: right;\n",
       "    }\n",
       "</style>\n",
       "<table border=\"1\" class=\"dataframe\">\n",
       "  <thead>\n",
       "    <tr style=\"text-align: right;\">\n",
       "      <th></th>\n",
       "      <th>seen_1</th>\n",
       "      <th>seen_2</th>\n",
       "      <th>seen_3</th>\n",
       "      <th>seen_4</th>\n",
       "      <th>seen_5</th>\n",
       "      <th>seen_6</th>\n",
       "    </tr>\n",
       "  </thead>\n",
       "  <tbody>\n",
       "    <tr>\n",
       "      <th>0</th>\n",
       "      <td>True</td>\n",
       "      <td>True</td>\n",
       "      <td>True</td>\n",
       "      <td>True</td>\n",
       "      <td>True</td>\n",
       "      <td>True</td>\n",
       "    </tr>\n",
       "    <tr>\n",
       "      <th>1</th>\n",
       "      <td>False</td>\n",
       "      <td>False</td>\n",
       "      <td>False</td>\n",
       "      <td>False</td>\n",
       "      <td>False</td>\n",
       "      <td>False</td>\n",
       "    </tr>\n",
       "    <tr>\n",
       "      <th>2</th>\n",
       "      <td>True</td>\n",
       "      <td>True</td>\n",
       "      <td>True</td>\n",
       "      <td>False</td>\n",
       "      <td>False</td>\n",
       "      <td>False</td>\n",
       "    </tr>\n",
       "  </tbody>\n",
       "</table>\n",
       "</div>"
      ],
      "text/plain": [
       "   seen_1  seen_2  seen_3  seen_4  seen_5  seen_6\n",
       "0    True    True    True    True    True    True\n",
       "1   False   False   False   False   False   False\n",
       "2    True    True    True   False   False   False"
      ]
     },
     "execution_count": 380,
     "metadata": {},
     "output_type": "execute_result"
    }
   ],
   "source": [
    "sws.iloc[:,3:9].head(3)"
   ]
  },
  {
   "cell_type": "markdown",
   "metadata": {},
   "source": [
    "## Tenth to Fifteenth Columns"
   ]
  },
  {
   "cell_type": "code",
   "execution_count": 381,
   "metadata": {},
   "outputs": [
    {
     "data": {
      "text/html": [
       "<div>\n",
       "<style scoped>\n",
       "    .dataframe tbody tr th:only-of-type {\n",
       "        vertical-align: middle;\n",
       "    }\n",
       "\n",
       "    .dataframe tbody tr th {\n",
       "        vertical-align: top;\n",
       "    }\n",
       "\n",
       "    .dataframe thead th {\n",
       "        text-align: right;\n",
       "    }\n",
       "</style>\n",
       "<table border=\"1\" class=\"dataframe\">\n",
       "  <thead>\n",
       "    <tr style=\"text-align: right;\">\n",
       "      <th></th>\n",
       "      <th>Please rank the Star Wars films in order of preference with 1 being your favorite film in the franchise and 6 being your least favorite film.</th>\n",
       "      <th>Unnamed: 10</th>\n",
       "      <th>Unnamed: 11</th>\n",
       "      <th>Unnamed: 12</th>\n",
       "      <th>Unnamed: 13</th>\n",
       "      <th>Unnamed: 14</th>\n",
       "    </tr>\n",
       "  </thead>\n",
       "  <tbody>\n",
       "    <tr>\n",
       "      <th>0</th>\n",
       "      <td>3</td>\n",
       "      <td>2</td>\n",
       "      <td>1</td>\n",
       "      <td>4</td>\n",
       "      <td>5</td>\n",
       "      <td>6</td>\n",
       "    </tr>\n",
       "    <tr>\n",
       "      <th>1</th>\n",
       "      <td>NaN</td>\n",
       "      <td>NaN</td>\n",
       "      <td>NaN</td>\n",
       "      <td>NaN</td>\n",
       "      <td>NaN</td>\n",
       "      <td>NaN</td>\n",
       "    </tr>\n",
       "    <tr>\n",
       "      <th>2</th>\n",
       "      <td>1</td>\n",
       "      <td>2</td>\n",
       "      <td>3</td>\n",
       "      <td>4</td>\n",
       "      <td>5</td>\n",
       "      <td>6</td>\n",
       "    </tr>\n",
       "    <tr>\n",
       "      <th>3</th>\n",
       "      <td>5</td>\n",
       "      <td>6</td>\n",
       "      <td>1</td>\n",
       "      <td>2</td>\n",
       "      <td>4</td>\n",
       "      <td>3</td>\n",
       "    </tr>\n",
       "    <tr>\n",
       "      <th>4</th>\n",
       "      <td>5</td>\n",
       "      <td>4</td>\n",
       "      <td>6</td>\n",
       "      <td>2</td>\n",
       "      <td>1</td>\n",
       "      <td>3</td>\n",
       "    </tr>\n",
       "  </tbody>\n",
       "</table>\n",
       "</div>"
      ],
      "text/plain": [
       "  Please rank the Star Wars films in order of preference with 1 being your favorite film in the franchise and 6 being your least favorite film.  \\\n",
       "0                                                  3                                                                                              \n",
       "1                                                NaN                                                                                              \n",
       "2                                                  1                                                                                              \n",
       "3                                                  5                                                                                              \n",
       "4                                                  5                                                                                              \n",
       "\n",
       "  Unnamed: 10 Unnamed: 11 Unnamed: 12 Unnamed: 13 Unnamed: 14  \n",
       "0           2           1           4           5           6  \n",
       "1         NaN         NaN         NaN         NaN         NaN  \n",
       "2           2           3           4           5           6  \n",
       "3           6           1           2           4           3  \n",
       "4           4           6           2           1           3  "
      ]
     },
     "execution_count": 381,
     "metadata": {},
     "output_type": "execute_result"
    }
   ],
   "source": [
    "target_columns = sws.columns[9:15]\n",
    "sws[target_columns].head()"
   ]
  },
  {
   "cell_type": "markdown",
   "metadata": {},
   "source": [
    "The next six columns ask the respondent to rank the Star Wars movies in order from least to most favorite. 1 means the film was the most favorite, and 6 means it was the least favorite. Each of the following columns can contain the value `1`, `2`, `3`, `4`, `5`, `6`, or `NaN`:"
   ]
  },
  {
   "cell_type": "markdown",
   "metadata": {},
   "source": [
    "First, let's rename these columns:"
   ]
  },
  {
   "cell_type": "code",
   "execution_count": 382,
   "metadata": {},
   "outputs": [
    {
     "data": {
      "text/plain": [
       "Please rank the Star Wars films in order of preference with 1 being your favorite film in the franchise and 6 being your least favorite film.        Star Wars: Episode I  The Phantom Menace\n",
       "Unnamed: 10                                                                                                                                       Star Wars: Episode II  Attack of the Clones\n",
       "Unnamed: 11                                                                                                                                       Star Wars: Episode III  Revenge of the Sith\n",
       "Unnamed: 12                                                                                                                                                 Star Wars: Episode IV  A New Hope\n",
       "Unnamed: 13                                                                                                                                      Star Wars: Episode V The Empire Strikes Back\n",
       "Unnamed: 14                                                                                                                                          Star Wars: Episode VI Return of the Jedi\n",
       "Name: 0, dtype: object"
      ]
     },
     "execution_count": 382,
     "metadata": {},
     "output_type": "execute_result"
    }
   ],
   "source": [
    "# Checking the ‘sws_info’ dataset to identify which column corresponds to each movie:\n",
    "sws_info[9:15]"
   ]
  },
  {
   "cell_type": "code",
   "execution_count": 383,
   "metadata": {},
   "outputs": [],
   "source": [
    "# Renaming columns:\n",
    "# 'Please rank the Star Wars films in order of preference with 1 being ... \n",
    "#  ... your favorite film in the franchise and 6 being your least favorite film.' -> point_1 \n",
    "# 'Unnamed: 10' -> point_2 \n",
    "# 'Unnamed: 11' -> point_3 \n",
    "# 'Unnamed: 12' -> point_4 \n",
    "# 'Unnamed: 13' -> point_5 \n",
    "# 'Unnamed: 14' -> point_6 \n",
    "\n",
    "for c,n in zip(target_columns,range(1,7)):\n",
    "    new_name_for_column = 'point_{}'.format(n)\n",
    "    sws = sws.rename(columns={c:new_name_for_column})"
   ]
  },
  {
   "cell_type": "code",
   "execution_count": 384,
   "metadata": {},
   "outputs": [
    {
     "data": {
      "text/plain": [
       "Index(['point_1', 'point_2', 'point_3', 'point_4', 'point_5', 'point_6'], dtype='object')"
      ]
     },
     "execution_count": 384,
     "metadata": {},
     "output_type": "execute_result"
    }
   ],
   "source": [
    "renamed_columns = sws.columns[9:15]\n",
    "# Checking ranamed columns:\n",
    "renamed_columns"
   ]
  },
  {
   "cell_type": "markdown",
   "metadata": {},
   "source": [
    "Now. Let's see what we have in these columns:"
   ]
  },
  {
   "cell_type": "code",
   "execution_count": 385,
   "metadata": {},
   "outputs": [
    {
     "data": {
      "text/html": [
       "<div>\n",
       "<style scoped>\n",
       "    .dataframe tbody tr th:only-of-type {\n",
       "        vertical-align: middle;\n",
       "    }\n",
       "\n",
       "    .dataframe tbody tr th {\n",
       "        vertical-align: top;\n",
       "    }\n",
       "\n",
       "    .dataframe thead th {\n",
       "        text-align: right;\n",
       "    }\n",
       "</style>\n",
       "<table border=\"1\" class=\"dataframe\">\n",
       "  <thead>\n",
       "    <tr style=\"text-align: right;\">\n",
       "      <th></th>\n",
       "      <th>point_1</th>\n",
       "      <th>point_2</th>\n",
       "      <th>point_3</th>\n",
       "      <th>point_4</th>\n",
       "      <th>point_5</th>\n",
       "      <th>point_6</th>\n",
       "    </tr>\n",
       "  </thead>\n",
       "  <tbody>\n",
       "    <tr>\n",
       "      <th>0</th>\n",
       "      <td>3</td>\n",
       "      <td>2</td>\n",
       "      <td>1</td>\n",
       "      <td>4</td>\n",
       "      <td>5</td>\n",
       "      <td>6</td>\n",
       "    </tr>\n",
       "    <tr>\n",
       "      <th>1</th>\n",
       "      <td>NaN</td>\n",
       "      <td>NaN</td>\n",
       "      <td>NaN</td>\n",
       "      <td>NaN</td>\n",
       "      <td>NaN</td>\n",
       "      <td>NaN</td>\n",
       "    </tr>\n",
       "    <tr>\n",
       "      <th>2</th>\n",
       "      <td>1</td>\n",
       "      <td>2</td>\n",
       "      <td>3</td>\n",
       "      <td>4</td>\n",
       "      <td>5</td>\n",
       "      <td>6</td>\n",
       "    </tr>\n",
       "    <tr>\n",
       "      <th>3</th>\n",
       "      <td>5</td>\n",
       "      <td>6</td>\n",
       "      <td>1</td>\n",
       "      <td>2</td>\n",
       "      <td>4</td>\n",
       "      <td>3</td>\n",
       "    </tr>\n",
       "    <tr>\n",
       "      <th>4</th>\n",
       "      <td>5</td>\n",
       "      <td>4</td>\n",
       "      <td>6</td>\n",
       "      <td>2</td>\n",
       "      <td>1</td>\n",
       "      <td>3</td>\n",
       "    </tr>\n",
       "  </tbody>\n",
       "</table>\n",
       "</div>"
      ],
      "text/plain": [
       "  point_1 point_2 point_3 point_4 point_5 point_6\n",
       "0       3       2       1       4       5       6\n",
       "1     NaN     NaN     NaN     NaN     NaN     NaN\n",
       "2       1       2       3       4       5       6\n",
       "3       5       6       1       2       4       3\n",
       "4       5       4       6       2       1       3"
      ]
     },
     "execution_count": 385,
     "metadata": {},
     "output_type": "execute_result"
    }
   ],
   "source": [
    "sws[renamed_columns].head()"
   ]
  },
  {
   "cell_type": "markdown",
   "metadata": {},
   "source": [
    "Because we need these numbers for some calculations, we should convert them to the `float` type:"
   ]
  },
  {
   "cell_type": "code",
   "execution_count": 386,
   "metadata": {},
   "outputs": [],
   "source": [
    "# Converting to 'float' datatype:\n",
    "for rc in renamed_columns:\n",
    "    sws[rc] = sws[rc].astype('float')"
   ]
  },
  {
   "cell_type": "markdown",
   "metadata": {},
   "source": [
    "Now, we want to convert these numbers to points. The more favored the item, the lower the number but the higher the points. This means we should reverse the numbers as follows:\n",
    "- 1 -> 6\n",
    "- 2 -> 5\n",
    "- 3 -> 4\n",
    "- 4 -> 3\n",
    "- 5 -> 2\n",
    "- 6 -> 1\n",
    "- Nan -> NaN"
   ]
  },
  {
   "cell_type": "code",
   "execution_count": 387,
   "metadata": {},
   "outputs": [],
   "source": [
    "# Defining a function to convert the survey liking system to our points-based liking system:\n",
    "def favor_to_point(item):  \n",
    "    if item == 1:  \n",
    "        return 6  \n",
    "    elif item == 2:  \n",
    "        return 5  \n",
    "    elif item == 3:  \n",
    "        return 4  \n",
    "    elif item == 4:  \n",
    "        return 3  \n",
    "    elif item == 5:  \n",
    "        return 2  \n",
    "    elif item == 6:  \n",
    "        return 1  \n",
    "    else:  \n",
    "        return float('nan')  # Return NaN for any other input, including NaN\n",
    "\n",
    "# Applying the function to the specified columns:\n",
    "for c in renamed_columns:\n",
    "    sws[c] = sws[c].apply(favor_to_point)"
   ]
  },
  {
   "cell_type": "code",
   "execution_count": 388,
   "metadata": {},
   "outputs": [
    {
     "data": {
      "text/html": [
       "<div>\n",
       "<style scoped>\n",
       "    .dataframe tbody tr th:only-of-type {\n",
       "        vertical-align: middle;\n",
       "    }\n",
       "\n",
       "    .dataframe tbody tr th {\n",
       "        vertical-align: top;\n",
       "    }\n",
       "\n",
       "    .dataframe thead th {\n",
       "        text-align: right;\n",
       "    }\n",
       "</style>\n",
       "<table border=\"1\" class=\"dataframe\">\n",
       "  <thead>\n",
       "    <tr style=\"text-align: right;\">\n",
       "      <th></th>\n",
       "      <th>point_1</th>\n",
       "      <th>point_2</th>\n",
       "      <th>point_3</th>\n",
       "      <th>point_4</th>\n",
       "      <th>point_5</th>\n",
       "      <th>point_6</th>\n",
       "    </tr>\n",
       "  </thead>\n",
       "  <tbody>\n",
       "    <tr>\n",
       "      <th>0</th>\n",
       "      <td>4.0</td>\n",
       "      <td>5.0</td>\n",
       "      <td>6.0</td>\n",
       "      <td>3.0</td>\n",
       "      <td>2.0</td>\n",
       "      <td>1.0</td>\n",
       "    </tr>\n",
       "    <tr>\n",
       "      <th>1</th>\n",
       "      <td>NaN</td>\n",
       "      <td>NaN</td>\n",
       "      <td>NaN</td>\n",
       "      <td>NaN</td>\n",
       "      <td>NaN</td>\n",
       "      <td>NaN</td>\n",
       "    </tr>\n",
       "    <tr>\n",
       "      <th>2</th>\n",
       "      <td>6.0</td>\n",
       "      <td>5.0</td>\n",
       "      <td>4.0</td>\n",
       "      <td>3.0</td>\n",
       "      <td>2.0</td>\n",
       "      <td>1.0</td>\n",
       "    </tr>\n",
       "    <tr>\n",
       "      <th>3</th>\n",
       "      <td>2.0</td>\n",
       "      <td>1.0</td>\n",
       "      <td>6.0</td>\n",
       "      <td>5.0</td>\n",
       "      <td>3.0</td>\n",
       "      <td>4.0</td>\n",
       "    </tr>\n",
       "    <tr>\n",
       "      <th>4</th>\n",
       "      <td>2.0</td>\n",
       "      <td>3.0</td>\n",
       "      <td>1.0</td>\n",
       "      <td>5.0</td>\n",
       "      <td>6.0</td>\n",
       "      <td>4.0</td>\n",
       "    </tr>\n",
       "  </tbody>\n",
       "</table>\n",
       "</div>"
      ],
      "text/plain": [
       "   point_1  point_2  point_3  point_4  point_5  point_6\n",
       "0      4.0      5.0      6.0      3.0      2.0      1.0\n",
       "1      NaN      NaN      NaN      NaN      NaN      NaN\n",
       "2      6.0      5.0      4.0      3.0      2.0      1.0\n",
       "3      2.0      1.0      6.0      5.0      3.0      4.0\n",
       "4      2.0      3.0      1.0      5.0      6.0      4.0"
      ]
     },
     "execution_count": 388,
     "metadata": {},
     "output_type": "execute_result"
    }
   ],
   "source": [
    "sws.iloc[:,9:15].head()"
   ]
  },
  {
   "cell_type": "markdown",
   "metadata": {},
   "source": [
    "## Sixteenth to Twenty-ninth Columns"
   ]
  },
  {
   "cell_type": "code",
   "execution_count": 389,
   "metadata": {},
   "outputs": [
    {
     "data": {
      "text/plain": [
       "Index(['Please state whether you view the following characters favorably, unfavorably, or are unfamiliar with him/her.',\n",
       "       'Unnamed: 16', 'Unnamed: 17', 'Unnamed: 18', 'Unnamed: 19',\n",
       "       'Unnamed: 20', 'Unnamed: 21', 'Unnamed: 22', 'Unnamed: 23',\n",
       "       'Unnamed: 24', 'Unnamed: 25', 'Unnamed: 26', 'Unnamed: 27',\n",
       "       'Unnamed: 28'],\n",
       "      dtype='object')"
      ]
     },
     "execution_count": 389,
     "metadata": {},
     "output_type": "execute_result"
    }
   ],
   "source": [
    "sws.columns[15:29]"
   ]
  },
  {
   "cell_type": "markdown",
   "metadata": {},
   "source": [
    "The above columns relate to the popularity of characters in Star Wars movies:"
   ]
  },
  {
   "cell_type": "code",
   "execution_count": 390,
   "metadata": {},
   "outputs": [
    {
     "data": {
      "text/plain": [
       "Please state whether you view the following characters favorably, unfavorably, or are unfamiliar with him/her.                Han Solo\n",
       "Unnamed: 16                                                                                                             Luke Skywalker\n",
       "Unnamed: 17                                                                                                       Princess Leia Organa\n",
       "Unnamed: 18                                                                                                           Anakin Skywalker\n",
       "Unnamed: 19                                                                                                             Obi Wan Kenobi\n",
       "Unnamed: 20                                                                                                          Emperor Palpatine\n",
       "Unnamed: 21                                                                                                                Darth Vader\n",
       "Unnamed: 22                                                                                                           Lando Calrissian\n",
       "Unnamed: 23                                                                                                                  Boba Fett\n",
       "Unnamed: 24                                                                                                                      C-3P0\n",
       "Unnamed: 25                                                                                                                      R2 D2\n",
       "Unnamed: 26                                                                                                              Jar Jar Binks\n",
       "Unnamed: 27                                                                                                              Padme Amidala\n",
       "Unnamed: 28                                                                                                                       Yoda\n",
       "Name: 0, dtype: object"
      ]
     },
     "execution_count": 390,
     "metadata": {},
     "output_type": "execute_result"
    }
   ],
   "source": [
    "# Checking the ‘sws_info’ dataset to identify which column corresponds to each character:\n",
    "sws_info[15:29]"
   ]
  },
  {
   "cell_type": "markdown",
   "metadata": {},
   "source": [
    "We are going to create a dictionary and use it for renaming these coloumns:"
   ]
  },
  {
   "cell_type": "code",
   "execution_count": 391,
   "metadata": {},
   "outputs": [],
   "source": [
    "dictionary = {\n",
    "    'Please state whether you view the following characters favorably, unfavorably, or are unfamiliar with him/her.': 'Han Solo',\n",
    "    'Unnamed: 16': 'Luke Skywalker',\n",
    "    'Unnamed: 17': 'Princess Leia Organa',\n",
    "    'Unnamed: 18': 'Anakin Skywalker',\n",
    "    'Unnamed: 19': 'Obi Wan Kenobi',\n",
    "    'Unnamed: 20': 'Emperor Palpatine',\n",
    "    'Unnamed: 21': 'Darth Vader',\n",
    "    'Unnamed: 22': 'Lando Calrissian',\n",
    "    'Unnamed: 23': 'Boba Fett',\n",
    "    'Unnamed: 24': 'C-3P0',\n",
    "    'Unnamed: 25': 'R2 D2',\n",
    "    'Unnamed: 26': 'Jar Jar Binks',\n",
    "    'Unnamed: 27': 'Padme Amidala',\n",
    "    'Unnamed: 28': 'Yoda'\n",
    "}"
   ]
  },
  {
   "cell_type": "code",
   "execution_count": 392,
   "metadata": {},
   "outputs": [],
   "source": [
    "# Renaming the specified columns:\n",
    "sws = sws.rename(columns = dictionary)"
   ]
  },
  {
   "cell_type": "code",
   "execution_count": 393,
   "metadata": {},
   "outputs": [
    {
     "data": {
      "text/plain": [
       "Index(['Han Solo', 'Luke Skywalker', 'Princess Leia Organa',\n",
       "       'Anakin Skywalker', 'Obi Wan Kenobi', 'Emperor Palpatine',\n",
       "       'Darth Vader', 'Lando Calrissian', 'Boba Fett', 'C-3P0', 'R2 D2',\n",
       "       'Jar Jar Binks', 'Padme Amidala', 'Yoda'],\n",
       "      dtype='object')"
      ]
     },
     "execution_count": 393,
     "metadata": {},
     "output_type": "execute_result"
    }
   ],
   "source": [
    "sws.columns[15:29]"
   ]
  },
  {
   "cell_type": "code",
   "execution_count": 394,
   "metadata": {
    "scrolled": true
   },
   "outputs": [
    {
     "name": "stdout",
     "output_type": "stream",
     "text": [
      "Han Solo\n",
      "Very favorably                                 610\n",
      "NaN                                            357\n",
      "Somewhat favorably                             151\n",
      "Neither favorably nor unfavorably (neutral)     44\n",
      "Unfamiliar (N/A)                                15\n",
      "Somewhat unfavorably                             8\n",
      "Very unfavorably                                 1\n",
      "Name: count, dtype: int64 \n",
      "\n",
      "Luke Skywalker\n",
      "Very favorably                                 552\n",
      "NaN                                            355\n",
      "Somewhat favorably                             219\n",
      "Neither favorably nor unfavorably (neutral)     38\n",
      "Somewhat unfavorably                            13\n",
      "Unfamiliar (N/A)                                 6\n",
      "Very unfavorably                                 3\n",
      "Name: count, dtype: int64 \n",
      "\n",
      "Princess Leia Organa\n",
      "Very favorably                                 547\n",
      "NaN                                            355\n",
      "Somewhat favorably                             210\n",
      "Neither favorably nor unfavorably (neutral)     48\n",
      "Somewhat unfavorably                            12\n",
      "Unfamiliar (N/A)                                 8\n",
      "Very unfavorably                                 6\n",
      "Name: count, dtype: int64 \n",
      "\n",
      "Anakin Skywalker\n",
      "NaN                                            363\n",
      "Somewhat favorably                             269\n",
      "Very favorably                                 245\n",
      "Neither favorably nor unfavorably (neutral)    135\n",
      "Somewhat unfavorably                            83\n",
      "Unfamiliar (N/A)                                52\n",
      "Very unfavorably                                39\n",
      "Name: count, dtype: int64 \n",
      "\n",
      "Obi Wan Kenobi\n",
      "Very favorably                                 591\n",
      "NaN                                            361\n",
      "Somewhat favorably                             159\n",
      "Neither favorably nor unfavorably (neutral)     43\n",
      "Unfamiliar (N/A)                                17\n",
      "Somewhat unfavorably                             8\n",
      "Very unfavorably                                 7\n",
      "Name: count, dtype: int64 \n",
      "\n",
      "Emperor Palpatine\n",
      "NaN                                            372\n",
      "Neither favorably nor unfavorably (neutral)    213\n",
      "Unfamiliar (N/A)                               156\n",
      "Somewhat favorably                             143\n",
      "Very unfavorably                               124\n",
      "Very favorably                                 110\n",
      "Somewhat unfavorably                            68\n",
      "Name: count, dtype: int64 \n",
      "\n",
      "Darth Vader\n",
      "NaN                                            360\n",
      "Very favorably                                 310\n",
      "Somewhat favorably                             171\n",
      "Very unfavorably                               149\n",
      "Somewhat unfavorably                           102\n",
      "Neither favorably nor unfavorably (neutral)     84\n",
      "Unfamiliar (N/A)                                10\n",
      "Name: count, dtype: int64 \n",
      "\n",
      "Lando Calrissian\n",
      "NaN                                            366\n",
      "Neither favorably nor unfavorably (neutral)    236\n",
      "Somewhat favorably                             223\n",
      "Unfamiliar (N/A)                               148\n",
      "Very favorably                                 142\n",
      "Somewhat unfavorably                            63\n",
      "Very unfavorably                                 8\n",
      "Name: count, dtype: int64 \n",
      "\n",
      "Boba Fett\n",
      "NaN                                            374\n",
      "Neither favorably nor unfavorably (neutral)    248\n",
      "Somewhat favorably                             153\n",
      "Very favorably                                 138\n",
      "Unfamiliar (N/A)                               132\n",
      "Somewhat unfavorably                            96\n",
      "Very unfavorably                                45\n",
      "Name: count, dtype: int64 \n",
      "\n",
      "C-3P0\n",
      "Very favorably                                 474\n",
      "NaN                                            359\n",
      "Somewhat favorably                             229\n",
      "Neither favorably nor unfavorably (neutral)     79\n",
      "Somewhat unfavorably                            23\n",
      "Unfamiliar (N/A)                                15\n",
      "Very unfavorably                                 7\n",
      "Name: count, dtype: int64 \n",
      "\n",
      "R2 D2\n",
      "Very favorably                                 562\n",
      "NaN                                            356\n",
      "Somewhat favorably                             185\n",
      "Neither favorably nor unfavorably (neutral)     57\n",
      "Unfamiliar (N/A)                                10\n",
      "Somewhat unfavorably                            10\n",
      "Very unfavorably                                 6\n",
      "Name: count, dtype: int64 \n",
      "\n",
      "Jar Jar Binks\n",
      "NaN                                            365\n",
      "Very unfavorably                               204\n",
      "Neither favorably nor unfavorably (neutral)    164\n",
      "Somewhat favorably                             130\n",
      "Very favorably                                 112\n",
      "Unfamiliar (N/A)                               109\n",
      "Somewhat unfavorably                           102\n",
      "Name: count, dtype: int64 \n",
      "\n",
      "Padme Amidala\n",
      "NaN                                            372\n",
      "Neither favorably nor unfavorably (neutral)    207\n",
      "Somewhat favorably                             183\n",
      "Very favorably                                 168\n",
      "Unfamiliar (N/A)                               164\n",
      "Somewhat unfavorably                            58\n",
      "Very unfavorably                                34\n",
      "Name: count, dtype: int64 \n",
      "\n",
      "Yoda\n",
      "Very favorably                                 605\n",
      "NaN                                            360\n",
      "Somewhat favorably                             144\n",
      "Neither favorably nor unfavorably (neutral)     51\n",
      "Unfamiliar (N/A)                                10\n",
      "Very unfavorably                                 8\n",
      "Somewhat unfavorably                             8\n",
      "Name: count, dtype: int64 \n",
      "\n"
     ]
    }
   ],
   "source": [
    "# Checking the values in each column:\n",
    "target_columns = sws.columns[15:29]\n",
    "for c in target_columns:\n",
    "    print(sws[c].value_counts(dropna=False),'\\n')"
   ]
  },
  {
   "cell_type": "markdown",
   "metadata": {},
   "source": [
    "As observed, for each character, respondents have been able to choose between the following options:\n",
    "- Very favorably\n",
    "- Somewhat favorably\n",
    "- Neither favorably nor unfavorably (neutral)\n",
    "- Somewhat unfavorably\n",
    "- Very unfavorably\n",
    "- Unfamiliar (N/A)\n",
    "<br><br>Some respondents have not chosen any option (`NaN`)."
   ]
  },
  {
   "cell_type": "markdown",
   "metadata": {},
   "source": [
    "Now, we want to add an extra column for each character in which some score will be stored according to respondent's answer which is as follows:\n",
    "- Very favorably -> `2`\n",
    "- Somewhat favorably -> `1`\n",
    "- Neither favorably nor unfavorably (neutral) -> `0`\n",
    "- Somewhat unfavorably -> `-1`\n",
    "- Very unfavorably -> `-2`\n",
    "- Unfamiliar (N/A) -> `0`\n",
    "- `NaN` -> `0`(N/A)"
   ]
  },
  {
   "cell_type": "code",
   "execution_count": 395,
   "metadata": {},
   "outputs": [],
   "source": [
    "def give_score(favorabilty):\n",
    "    if favorabilty == \"Very favorably\":\n",
    "        return 2\n",
    "    elif favorabilty == \"Somewhat favorably\":\n",
    "        return 1\n",
    "    elif favorabilty == \"Neither favorably nor unfavorably (neutral)\":\n",
    "        return 0\n",
    "    elif favorabilty == \"Somewhat unfavorably\":\n",
    "        return -1\n",
    "    elif favorabilty == \"Very unfavorably\":\n",
    "        return -1\n",
    "    elif favorabilty == \"Unfamiliar (N/A)\" or pd.isnull(favorabilty):\n",
    "        return 0\n",
    "\n",
    "for column in target_columns:   # target_columns = sws.columns[15:29]\n",
    "    new_column_name = column  + \"_point\"\n",
    "    sws[new_column_name] = sws[column].apply(give_score)"
   ]
  },
  {
   "cell_type": "code",
   "execution_count": 396,
   "metadata": {
    "scrolled": true
   },
   "outputs": [
    {
     "data": {
      "text/html": [
       "<div>\n",
       "<style scoped>\n",
       "    .dataframe tbody tr th:only-of-type {\n",
       "        vertical-align: middle;\n",
       "    }\n",
       "\n",
       "    .dataframe tbody tr th {\n",
       "        vertical-align: top;\n",
       "    }\n",
       "\n",
       "    .dataframe thead th {\n",
       "        text-align: right;\n",
       "    }\n",
       "</style>\n",
       "<table border=\"1\" class=\"dataframe\">\n",
       "  <thead>\n",
       "    <tr style=\"text-align: right;\">\n",
       "      <th></th>\n",
       "      <th>Han Solo</th>\n",
       "      <th>Han Solo_point</th>\n",
       "      <th>Luke Skywalker</th>\n",
       "      <th>Luke Skywalker_point</th>\n",
       "      <th>Princess Leia Organa</th>\n",
       "      <th>Princess Leia Organa_point</th>\n",
       "      <th>Anakin Skywalker</th>\n",
       "      <th>Anakin Skywalker_point</th>\n",
       "      <th>Obi Wan Kenobi</th>\n",
       "      <th>Obi Wan Kenobi_point</th>\n",
       "      <th>...</th>\n",
       "      <th>C-3P0</th>\n",
       "      <th>C-3P0_point</th>\n",
       "      <th>R2 D2</th>\n",
       "      <th>R2 D2_point</th>\n",
       "      <th>Jar Jar Binks</th>\n",
       "      <th>Jar Jar Binks_point</th>\n",
       "      <th>Padme Amidala</th>\n",
       "      <th>Padme Amidala_point</th>\n",
       "      <th>Yoda</th>\n",
       "      <th>Yoda_point</th>\n",
       "    </tr>\n",
       "  </thead>\n",
       "  <tbody>\n",
       "    <tr>\n",
       "      <th>0</th>\n",
       "      <td>Very favorably</td>\n",
       "      <td>2</td>\n",
       "      <td>Very favorably</td>\n",
       "      <td>2</td>\n",
       "      <td>Very favorably</td>\n",
       "      <td>2</td>\n",
       "      <td>Very favorably</td>\n",
       "      <td>2</td>\n",
       "      <td>Very favorably</td>\n",
       "      <td>2</td>\n",
       "      <td>...</td>\n",
       "      <td>Very favorably</td>\n",
       "      <td>2</td>\n",
       "      <td>Very favorably</td>\n",
       "      <td>2</td>\n",
       "      <td>Very favorably</td>\n",
       "      <td>2</td>\n",
       "      <td>Very favorably</td>\n",
       "      <td>2</td>\n",
       "      <td>Very favorably</td>\n",
       "      <td>2</td>\n",
       "    </tr>\n",
       "    <tr>\n",
       "      <th>1</th>\n",
       "      <td>NaN</td>\n",
       "      <td>0</td>\n",
       "      <td>NaN</td>\n",
       "      <td>0</td>\n",
       "      <td>NaN</td>\n",
       "      <td>0</td>\n",
       "      <td>NaN</td>\n",
       "      <td>0</td>\n",
       "      <td>NaN</td>\n",
       "      <td>0</td>\n",
       "      <td>...</td>\n",
       "      <td>NaN</td>\n",
       "      <td>0</td>\n",
       "      <td>NaN</td>\n",
       "      <td>0</td>\n",
       "      <td>NaN</td>\n",
       "      <td>0</td>\n",
       "      <td>NaN</td>\n",
       "      <td>0</td>\n",
       "      <td>NaN</td>\n",
       "      <td>0</td>\n",
       "    </tr>\n",
       "    <tr>\n",
       "      <th>2</th>\n",
       "      <td>Somewhat favorably</td>\n",
       "      <td>1</td>\n",
       "      <td>Somewhat favorably</td>\n",
       "      <td>1</td>\n",
       "      <td>Somewhat favorably</td>\n",
       "      <td>1</td>\n",
       "      <td>Somewhat favorably</td>\n",
       "      <td>1</td>\n",
       "      <td>Somewhat favorably</td>\n",
       "      <td>1</td>\n",
       "      <td>...</td>\n",
       "      <td>Unfamiliar (N/A)</td>\n",
       "      <td>0</td>\n",
       "      <td>Unfamiliar (N/A)</td>\n",
       "      <td>0</td>\n",
       "      <td>Unfamiliar (N/A)</td>\n",
       "      <td>0</td>\n",
       "      <td>Unfamiliar (N/A)</td>\n",
       "      <td>0</td>\n",
       "      <td>Unfamiliar (N/A)</td>\n",
       "      <td>0</td>\n",
       "    </tr>\n",
       "    <tr>\n",
       "      <th>3</th>\n",
       "      <td>Very favorably</td>\n",
       "      <td>2</td>\n",
       "      <td>Very favorably</td>\n",
       "      <td>2</td>\n",
       "      <td>Very favorably</td>\n",
       "      <td>2</td>\n",
       "      <td>Very favorably</td>\n",
       "      <td>2</td>\n",
       "      <td>Very favorably</td>\n",
       "      <td>2</td>\n",
       "      <td>...</td>\n",
       "      <td>Very favorably</td>\n",
       "      <td>2</td>\n",
       "      <td>Very favorably</td>\n",
       "      <td>2</td>\n",
       "      <td>Very favorably</td>\n",
       "      <td>2</td>\n",
       "      <td>Very favorably</td>\n",
       "      <td>2</td>\n",
       "      <td>Very favorably</td>\n",
       "      <td>2</td>\n",
       "    </tr>\n",
       "    <tr>\n",
       "      <th>4</th>\n",
       "      <td>Very favorably</td>\n",
       "      <td>2</td>\n",
       "      <td>Somewhat favorably</td>\n",
       "      <td>1</td>\n",
       "      <td>Somewhat favorably</td>\n",
       "      <td>1</td>\n",
       "      <td>Somewhat unfavorably</td>\n",
       "      <td>-1</td>\n",
       "      <td>Very favorably</td>\n",
       "      <td>2</td>\n",
       "      <td>...</td>\n",
       "      <td>Somewhat favorably</td>\n",
       "      <td>1</td>\n",
       "      <td>Somewhat favorably</td>\n",
       "      <td>1</td>\n",
       "      <td>Very unfavorably</td>\n",
       "      <td>-1</td>\n",
       "      <td>Somewhat favorably</td>\n",
       "      <td>1</td>\n",
       "      <td>Somewhat favorably</td>\n",
       "      <td>1</td>\n",
       "    </tr>\n",
       "  </tbody>\n",
       "</table>\n",
       "<p>5 rows × 28 columns</p>\n",
       "</div>"
      ],
      "text/plain": [
       "             Han Solo  Han Solo_point      Luke Skywalker  \\\n",
       "0      Very favorably               2      Very favorably   \n",
       "1                 NaN               0                 NaN   \n",
       "2  Somewhat favorably               1  Somewhat favorably   \n",
       "3      Very favorably               2      Very favorably   \n",
       "4      Very favorably               2  Somewhat favorably   \n",
       "\n",
       "   Luke Skywalker_point Princess Leia Organa  Princess Leia Organa_point  \\\n",
       "0                     2       Very favorably                           2   \n",
       "1                     0                  NaN                           0   \n",
       "2                     1   Somewhat favorably                           1   \n",
       "3                     2       Very favorably                           2   \n",
       "4                     1   Somewhat favorably                           1   \n",
       "\n",
       "       Anakin Skywalker  Anakin Skywalker_point      Obi Wan Kenobi  \\\n",
       "0        Very favorably                       2      Very favorably   \n",
       "1                   NaN                       0                 NaN   \n",
       "2    Somewhat favorably                       1  Somewhat favorably   \n",
       "3        Very favorably                       2      Very favorably   \n",
       "4  Somewhat unfavorably                      -1      Very favorably   \n",
       "\n",
       "   Obi Wan Kenobi_point  ...               C-3P0  C-3P0_point  \\\n",
       "0                     2  ...      Very favorably            2   \n",
       "1                     0  ...                 NaN            0   \n",
       "2                     1  ...    Unfamiliar (N/A)            0   \n",
       "3                     2  ...      Very favorably            2   \n",
       "4                     2  ...  Somewhat favorably            1   \n",
       "\n",
       "                R2 D2  R2 D2_point     Jar Jar Binks  Jar Jar Binks_point  \\\n",
       "0      Very favorably            2    Very favorably                    2   \n",
       "1                 NaN            0               NaN                    0   \n",
       "2    Unfamiliar (N/A)            0  Unfamiliar (N/A)                    0   \n",
       "3      Very favorably            2    Very favorably                    2   \n",
       "4  Somewhat favorably            1  Very unfavorably                   -1   \n",
       "\n",
       "        Padme Amidala  Padme Amidala_point                Yoda  Yoda_point  \n",
       "0      Very favorably                    2      Very favorably           2  \n",
       "1                 NaN                    0                 NaN           0  \n",
       "2    Unfamiliar (N/A)                    0    Unfamiliar (N/A)           0  \n",
       "3      Very favorably                    2      Very favorably           2  \n",
       "4  Somewhat favorably                    1  Somewhat favorably           1  \n",
       "\n",
       "[5 rows x 28 columns]"
      ]
     },
     "execution_count": 396,
     "metadata": {},
     "output_type": "execute_result"
    }
   ],
   "source": [
    "# Checking the result:\n",
    "character_columns = [\n",
    "    'Han Solo', 'Han Solo_point', 'Luke Skywalker', 'Luke Skywalker_point', 'Princess Leia Organa', 'Princess Leia Organa_point', 'Anakin Skywalker', 'Anakin Skywalker_point', \n",
    "    'Obi Wan Kenobi', 'Obi Wan Kenobi_point', 'Emperor Palpatine', 'Emperor Palpatine_point', 'Darth Vader', 'Darth Vader_point', 'Lando Calrissian', 'Lando Calrissian_point', \n",
    "    'Boba Fett', 'Boba Fett_point', 'C-3P0', 'C-3P0_point', 'R2 D2', 'R2 D2_point', 'Jar Jar Binks', 'Jar Jar Binks_point', 'Padme Amidala', 'Padme Amidala_point', 'Yoda', 'Yoda_point'\n",
    "]\n",
    "sws[character_columns].head()"
   ]
  },
  {
   "cell_type": "markdown",
   "metadata": {},
   "source": [
    "## 'Which character shot first?' and 'Are you familiar with the Expanded Universe?' Columns"
   ]
  },
  {
   "cell_type": "markdown",
   "metadata": {},
   "source": [
    "We do not want to use these columns, let's drop them:"
   ]
  },
  {
   "cell_type": "code",
   "execution_count": 397,
   "metadata": {},
   "outputs": [],
   "source": [
    "sws.drop(columns=['Which character shot first?','Are you familiar with the Expanded Universe?'],inplace=True)"
   ]
  },
  {
   "cell_type": "markdown",
   "metadata": {},
   "source": [
    "## 'Do you consider yourself to be a fan of the Expanded Universe?' and 'Do you consider yourself to be a fan of the Star Trek franchise' Columns"
   ]
  },
  {
   "cell_type": "code",
   "execution_count": 398,
   "metadata": {
    "scrolled": true
   },
   "outputs": [],
   "source": [
    "# Renaming the column\n",
    "rename_dictionary = {'Do you consider yourself to be a fan of the Expanded Universe?\\x8cæ': 'expanded_universe_fan',\n",
    "                    'Do you consider yourself to be a fan of the Star Trek franchise?': 'star_trek_fan'\n",
    "                    }\n",
    "sws = sws.rename(columns=rename_dictionary)"
   ]
  },
  {
   "cell_type": "code",
   "execution_count": 399,
   "metadata": {
    "scrolled": true
   },
   "outputs": [
    {
     "data": {
      "text/plain": [
       "Index(['expanded_universe_fan', 'star_trek_fan'], dtype='object')"
      ]
     },
     "execution_count": 399,
     "metadata": {},
     "output_type": "execute_result"
    }
   ],
   "source": [
    "# Checking the result:\n",
    "sws.columns[29:31]"
   ]
  },
  {
   "cell_type": "code",
   "execution_count": 400,
   "metadata": {},
   "outputs": [
    {
     "name": "stdout",
     "output_type": "stream",
     "text": [
      "expanded_universe_fan\n",
      "NaN    973\n",
      "No     114\n",
      "Yes     99\n",
      "Name: count, dtype: int64 \n",
      "\n",
      "star_trek_fan\n",
      "No     641\n",
      "Yes    427\n",
      "NaN    118\n",
      "Name: count, dtype: int64 \n",
      "\n"
     ]
    }
   ],
   "source": [
    "# Checking the values:\n",
    "target_columns=['expanded_universe_fan', 'star_trek_fan']\n",
    "for column in target_columns:\n",
    "    print(sws[column].value_counts(dropna=False),'\\n')"
   ]
  },
  {
   "cell_type": "code",
   "execution_count": 401,
   "metadata": {
    "scrolled": true
   },
   "outputs": [
    {
     "data": {
      "text/html": [
       "<div>\n",
       "<style scoped>\n",
       "    .dataframe tbody tr th:only-of-type {\n",
       "        vertical-align: middle;\n",
       "    }\n",
       "\n",
       "    .dataframe tbody tr th {\n",
       "        vertical-align: top;\n",
       "    }\n",
       "\n",
       "    .dataframe thead th {\n",
       "        text-align: right;\n",
       "    }\n",
       "</style>\n",
       "<table border=\"1\" class=\"dataframe\">\n",
       "  <thead>\n",
       "    <tr style=\"text-align: right;\">\n",
       "      <th></th>\n",
       "      <th>expanded_universe_fan</th>\n",
       "      <th>star_trek_fan</th>\n",
       "    </tr>\n",
       "  </thead>\n",
       "  <tbody>\n",
       "    <tr>\n",
       "      <th>0</th>\n",
       "      <td>No</td>\n",
       "      <td>No</td>\n",
       "    </tr>\n",
       "    <tr>\n",
       "      <th>1</th>\n",
       "      <td>NaN</td>\n",
       "      <td>Yes</td>\n",
       "    </tr>\n",
       "    <tr>\n",
       "      <th>2</th>\n",
       "      <td>NaN</td>\n",
       "      <td>No</td>\n",
       "    </tr>\n",
       "    <tr>\n",
       "      <th>3</th>\n",
       "      <td>NaN</td>\n",
       "      <td>Yes</td>\n",
       "    </tr>\n",
       "    <tr>\n",
       "      <th>4</th>\n",
       "      <td>No</td>\n",
       "      <td>No</td>\n",
       "    </tr>\n",
       "  </tbody>\n",
       "</table>\n",
       "</div>"
      ],
      "text/plain": [
       "  expanded_universe_fan star_trek_fan\n",
       "0                    No            No\n",
       "1                   NaN           Yes\n",
       "2                   NaN            No\n",
       "3                   NaN           Yes\n",
       "4                    No            No"
      ]
     },
     "execution_count": 401,
     "metadata": {},
     "output_type": "execute_result"
    }
   ],
   "source": [
    "sws[target_columns].head()"
   ]
  },
  {
   "cell_type": "markdown",
   "metadata": {},
   "source": [
    "Here, we are going to do the same thing we did with the values of the `star_war_fan` and `star_war_seen` columns:"
   ]
  },
  {
   "cell_type": "code",
   "execution_count": 402,
   "metadata": {},
   "outputs": [],
   "source": [
    "# Creating a dictionary: \n",
    "yes_no_dictionary = {'Yes':True,\n",
    "                     'No':False,\n",
    "                    }\n",
    "\n",
    "# Using the dictionary above to convert 'Yes' and 'No' to True and False:\n",
    "for tc in  target_columns:\n",
    "    sws[tc] = sws[tc].map(yes_no_dictionary)"
   ]
  },
  {
   "cell_type": "code",
   "execution_count": 403,
   "metadata": {},
   "outputs": [
    {
     "data": {
      "text/html": [
       "<div>\n",
       "<style scoped>\n",
       "    .dataframe tbody tr th:only-of-type {\n",
       "        vertical-align: middle;\n",
       "    }\n",
       "\n",
       "    .dataframe tbody tr th {\n",
       "        vertical-align: top;\n",
       "    }\n",
       "\n",
       "    .dataframe thead th {\n",
       "        text-align: right;\n",
       "    }\n",
       "</style>\n",
       "<table border=\"1\" class=\"dataframe\">\n",
       "  <thead>\n",
       "    <tr style=\"text-align: right;\">\n",
       "      <th></th>\n",
       "      <th>expanded_universe_fan</th>\n",
       "      <th>star_trek_fan</th>\n",
       "    </tr>\n",
       "  </thead>\n",
       "  <tbody>\n",
       "    <tr>\n",
       "      <th>0</th>\n",
       "      <td>False</td>\n",
       "      <td>False</td>\n",
       "    </tr>\n",
       "    <tr>\n",
       "      <th>1</th>\n",
       "      <td>NaN</td>\n",
       "      <td>True</td>\n",
       "    </tr>\n",
       "    <tr>\n",
       "      <th>2</th>\n",
       "      <td>NaN</td>\n",
       "      <td>False</td>\n",
       "    </tr>\n",
       "    <tr>\n",
       "      <th>3</th>\n",
       "      <td>NaN</td>\n",
       "      <td>True</td>\n",
       "    </tr>\n",
       "    <tr>\n",
       "      <th>4</th>\n",
       "      <td>False</td>\n",
       "      <td>False</td>\n",
       "    </tr>\n",
       "  </tbody>\n",
       "</table>\n",
       "</div>"
      ],
      "text/plain": [
       "  expanded_universe_fan star_trek_fan\n",
       "0                 False         False\n",
       "1                   NaN          True\n",
       "2                   NaN         False\n",
       "3                   NaN          True\n",
       "4                 False         False"
      ]
     },
     "execution_count": 403,
     "metadata": {},
     "output_type": "execute_result"
    }
   ],
   "source": [
    "# Checking the result:\n",
    "sws[target_columns].head()"
   ]
  },
  {
   "cell_type": "markdown",
   "metadata": {},
   "source": [
    "## 'Gender' Column"
   ]
  },
  {
   "cell_type": "code",
   "execution_count": 404,
   "metadata": {
    "scrolled": true
   },
   "outputs": [],
   "source": [
    "# Renaming the column:\n",
    "sws.rename(columns={'Gender':'gender'},inplace=True)"
   ]
  },
  {
   "cell_type": "code",
   "execution_count": 405,
   "metadata": {},
   "outputs": [
    {
     "data": {
      "text/plain": [
       "gender\n",
       "Female    549\n",
       "Male      497\n",
       "NaN       140\n",
       "Name: count, dtype: int64"
      ]
     },
     "execution_count": 405,
     "metadata": {},
     "output_type": "execute_result"
    }
   ],
   "source": [
    "# Checking the values:\n",
    "sws['gender'].value_counts(dropna=False)"
   ]
  },
  {
   "cell_type": "markdown",
   "metadata": {},
   "source": [
    "## 'Age' Column"
   ]
  },
  {
   "cell_type": "code",
   "execution_count": 406,
   "metadata": {
    "scrolled": true
   },
   "outputs": [],
   "source": [
    "# Renaming the column:\n",
    "sws.rename(columns={'Age':'age'},inplace=True)"
   ]
  },
  {
   "cell_type": "code",
   "execution_count": 407,
   "metadata": {},
   "outputs": [
    {
     "data": {
      "text/plain": [
       "age\n",
       "45-60    291\n",
       "> 60     269\n",
       "30-44    268\n",
       "18-29    218\n",
       "NaN      140\n",
       "Name: count, dtype: int64"
      ]
     },
     "execution_count": 407,
     "metadata": {},
     "output_type": "execute_result"
    }
   ],
   "source": [
    "sws['age'].value_counts(dropna=False)"
   ]
  },
  {
   "cell_type": "markdown",
   "metadata": {},
   "source": [
    "Let's add another column for age categories:"
   ]
  },
  {
   "cell_type": "code",
   "execution_count": 408,
   "metadata": {},
   "outputs": [],
   "source": [
    "# Creating a mapping for age categories  \n",
    "def categorize_age(age):  \n",
    "    if pd.isna(age):  \n",
    "        return np.NaN   \n",
    "    elif age == '18-29':  \n",
    "        return 'Young Adult'  \n",
    "    elif age == '30-44':  \n",
    "        return 'Adult'  \n",
    "    elif age == '45-60':  \n",
    "        return 'Middle-Aged'  \n",
    "    elif age == '> 60':  \n",
    "        return 'Elderly'  \n",
    "    else:  \n",
    "        return 'Other'  \n",
    "\n",
    "# Applying the categorization  \n",
    "sws['age_category'] = sws['age'].apply(categorize_age)"
   ]
  },
  {
   "cell_type": "code",
   "execution_count": 409,
   "metadata": {},
   "outputs": [
    {
     "data": {
      "text/plain": [
       "age_category\n",
       "Middle-Aged    291\n",
       "Elderly        269\n",
       "Adult          268\n",
       "Young Adult    218\n",
       "NaN            140\n",
       "Name: count, dtype: int64"
      ]
     },
     "execution_count": 409,
     "metadata": {},
     "output_type": "execute_result"
    }
   ],
   "source": [
    "# Checking the result:\n",
    "sws['age_category'].value_counts(dropna=False)"
   ]
  },
  {
   "cell_type": "markdown",
   "metadata": {},
   "source": [
    "## 'Household Income' Column"
   ]
  },
  {
   "cell_type": "code",
   "execution_count": 410,
   "metadata": {},
   "outputs": [],
   "source": [
    "# Renaming the column:\n",
    "sws.rename(columns={'Household Income':'household_income'},inplace=True)"
   ]
  },
  {
   "cell_type": "code",
   "execution_count": 411,
   "metadata": {},
   "outputs": [
    {
     "data": {
      "text/plain": [
       "household_income\n",
       "NaN                    328\n",
       "$50,000 - $99,999      298\n",
       "$25,000 - $49,999      186\n",
       "$100,000 - $149,999    141\n",
       "$0 - $24,999           138\n",
       "$150,000+               95\n",
       "Name: count, dtype: int64"
      ]
     },
     "execution_count": 411,
     "metadata": {},
     "output_type": "execute_result"
    }
   ],
   "source": [
    "# Checking the values:\n",
    "sws['household_income'].value_counts(dropna=False) "
   ]
  },
  {
   "cell_type": "markdown",
   "metadata": {},
   "source": [
    "Just like with age categories, we can do the same for income and create a column for household income category:"
   ]
  },
  {
   "cell_type": "code",
   "execution_count": 412,
   "metadata": {
    "scrolled": true
   },
   "outputs": [],
   "source": [
    "# Create a mapping for income categories  \n",
    "def categorize_income(income):  \n",
    "    if pd.isna(income):  \n",
    "        return np.NaN  # Keep as NaN for unknown  \n",
    "    elif income == '$0 - $24,999':  \n",
    "        return 'Low Income'  \n",
    "    elif income == '$25,000 - $49,999':  \n",
    "        return 'Lower-Middle Income'  \n",
    "    elif income == '$50,000 - $99,999':  \n",
    "        return 'Middle Income'  \n",
    "    elif income == '$100,000 - $149,999':  \n",
    "        return 'Upper-Middle Income'  \n",
    "    elif income == '$150,000+':  \n",
    "        return 'High Income'  \n",
    "    else:  \n",
    "        return 'Other'  \n",
    "\n",
    "# Apply the categorization  \n",
    "sws['household_income_category'] = sws['household_income'].apply(categorize_income)  "
   ]
  },
  {
   "cell_type": "code",
   "execution_count": 413,
   "metadata": {},
   "outputs": [
    {
     "data": {
      "text/plain": [
       "household_income_category\n",
       "NaN                    328\n",
       "Middle Income          298\n",
       "Lower-Middle Income    186\n",
       "Upper-Middle Income    141\n",
       "Low Income             138\n",
       "High Income             95\n",
       "Name: count, dtype: int64"
      ]
     },
     "execution_count": 413,
     "metadata": {},
     "output_type": "execute_result"
    }
   ],
   "source": [
    "# Checking the result:\n",
    "sws['household_income_category'].value_counts(dropna=False)"
   ]
  },
  {
   "cell_type": "markdown",
   "metadata": {},
   "source": [
    "## 'Education' Column"
   ]
  },
  {
   "cell_type": "code",
   "execution_count": 416,
   "metadata": {
    "scrolled": true
   },
   "outputs": [],
   "source": [
    "# Renaming the column:\n",
    "sws.rename(columns={'Education':'education'},inplace=True)"
   ]
  },
  {
   "cell_type": "code",
   "execution_count": 417,
   "metadata": {},
   "outputs": [
    {
     "data": {
      "text/plain": [
       "education\n",
       "Some college or Associate degree    328\n",
       "Bachelor degree                     321\n",
       "Graduate degree                     275\n",
       "NaN                                 150\n",
       "High school degree                  105\n",
       "Less than high school degree          7\n",
       "Name: count, dtype: int64"
      ]
     },
     "execution_count": 417,
     "metadata": {},
     "output_type": "execute_result"
    }
   ],
   "source": [
    "# Checking the values:\n",
    "sws['education'].value_counts(dropna=False)"
   ]
  },
  {
   "cell_type": "markdown",
   "metadata": {},
   "source": [
    "## 'Location (Census Region)' Column"
   ]
  },
  {
   "cell_type": "code",
   "execution_count": 418,
   "metadata": {},
   "outputs": [],
   "source": [
    "# Renaming the column:\n",
    "sws.rename(columns={'Location (Census Region)':'location'},inplace=True)"
   ]
  },
  {
   "cell_type": "code",
   "execution_count": 419,
   "metadata": {},
   "outputs": [
    {
     "data": {
      "text/plain": [
       "location\n",
       "East North Central    181\n",
       "Pacific               175\n",
       "South Atlantic        170\n",
       "NaN                   143\n",
       "Middle Atlantic       122\n",
       "West South Central    110\n",
       "West North Central     93\n",
       "Mountain               79\n",
       "New England            75\n",
       "East South Central     38\n",
       "Name: count, dtype: int64"
      ]
     },
     "execution_count": 419,
     "metadata": {},
     "output_type": "execute_result"
    }
   ],
   "source": [
    "# Checking the values:\n",
    "sws['location'].value_counts(dropna=False)"
   ]
  },
  {
   "cell_type": "code",
   "execution_count": 61,
   "metadata": {},
   "outputs": [],
   "source": [
    "## According to US Census Bureau regions and divisions:\n",
    "# East North Central: Includes states like Ohio, Indiana, Illinois, Michigan, and Wisconsin.\n",
    "# Pacific: Includes the states of California, Oregon, Washington, Alaska, and Hawaii.\n",
    "# South Atlantic: Comprises states like Florida, Georgia, South Carolina, North Carolina, and others along the southeastern coast.\n",
    "# Middle Atlantic: Consists of New York, New Jersey, and Pennsylvania.\n",
    "# West South Central: Includes Texas, Oklahoma, Arkansas, and Louisiana.\n",
    "# West North Central: Comprises states like North Dakota, South Dakota, Nebraska, Kansas, Iowa, Minnesota, and Missouri.\n",
    "# Mountain: Encompasses states like Colorado, Utah, Arizona, Nevada, New Mexico, Idaho, Montana, and Wyoming.\n",
    "# New England: Includes states such as Maine, New Hampshire, Vermont, Massachusetts, Rhode Island, and Connecticut.\n",
    "# East South Central: Comprises states like Kentucky, Tennessee, Mississippi, and Alabama.\n",
    "# NaN: This value represents missing data and does not correspond to any region."
   ]
  },
  {
   "cell_type": "code",
   "execution_count": null,
   "metadata": {},
   "outputs": [],
   "source": []
  },
  {
   "cell_type": "code",
   "execution_count": null,
   "metadata": {},
   "outputs": [],
   "source": []
  },
  {
   "cell_type": "code",
   "execution_count": null,
   "metadata": {},
   "outputs": [],
   "source": []
  },
  {
   "cell_type": "code",
   "execution_count": null,
   "metadata": {},
   "outputs": [],
   "source": []
  },
  {
   "cell_type": "code",
   "execution_count": 420,
   "metadata": {},
   "outputs": [
    {
     "name": "stdout",
     "output_type": "stream",
     "text": [
      "RespondentID\n",
      "seen_any\n",
      "star_war_fan\n",
      "seen_1\n",
      "seen_2\n",
      "seen_3\n",
      "seen_4\n",
      "seen_5\n",
      "seen_6\n",
      "point_1\n",
      "point_2\n",
      "point_3\n",
      "point_4\n",
      "point_5\n",
      "point_6\n",
      "Han Solo\n",
      "Luke Skywalker\n",
      "Princess Leia Organa\n",
      "Anakin Skywalker\n",
      "Obi Wan Kenobi\n",
      "Emperor Palpatine\n",
      "Darth Vader\n",
      "Lando Calrissian\n",
      "Boba Fett\n",
      "C-3P0\n",
      "R2 D2\n",
      "Jar Jar Binks\n",
      "Padme Amidala\n",
      "Yoda\n",
      "expanded_universe_fan\n",
      "star_trek_fan\n",
      "gender\n",
      "age\n",
      "household_income\n",
      "education\n",
      "location\n",
      "Han Solo_point\n",
      "Luke Skywalker_point\n",
      "Princess Leia Organa_point\n",
      "Anakin Skywalker_point\n",
      "Obi Wan Kenobi_point\n",
      "Emperor Palpatine_point\n",
      "Darth Vader_point\n",
      "Lando Calrissian_point\n",
      "Boba Fett_point\n",
      "C-3P0_point\n",
      "R2 D2_point\n",
      "Jar Jar Binks_point\n",
      "Padme Amidala_point\n",
      "Yoda_point\n",
      "age_category\n",
      "household_income_category\n"
     ]
    }
   ],
   "source": [
    "cs = sws.columns\n",
    "for c in cs:\n",
    "    print(c)"
   ]
  }
 ],
 "metadata": {
  "kernelspec": {
   "display_name": "Python 3 (ipykernel)",
   "language": "python",
   "name": "python3"
  },
  "language_info": {
   "codemirror_mode": {
    "name": "ipython",
    "version": 3
   },
   "file_extension": ".py",
   "mimetype": "text/x-python",
   "name": "python",
   "nbconvert_exporter": "python",
   "pygments_lexer": "ipython3",
   "version": "3.12.4"
  }
 },
 "nbformat": 4,
 "nbformat_minor": 4
}
